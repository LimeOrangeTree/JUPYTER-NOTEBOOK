{
 "cells": [
  {
   "cell_type": "markdown",
   "metadata": {},
   "source": [
    "<div style=\"font-size: 30px\"><center>반복, 제어문</center></div>\n",
    "\n",
    "## 목차\n",
    "1. if\n",
    "2. for\n",
    "3. While\n",
    "4. 예외처리\n",
    "\n",
    "[Reference]\n",
    "<li>점프 투 파이썬, https://wikidocs.net/book/1 </li>\n",
    "<li>초보자를 위한 파이썬 200제 </li>"
   ]
  },
  {
   "cell_type": "markdown",
   "metadata": {},
   "source": [
    "# 예외처리 (try ~ except)\n",
    "<li>프로그램 작성 과정에서 뜻하지 않은 오류는 항상 발생!</li>\n",
    "<li>프로그램이 실행되는 동안 오류가 발갱하면 프로그램이 더 이상 진행될 수 없는 상태가 된다.</li>\n",
    "- 이와 같은 상황을 '예외(exception)' 상황이라 한다.\n",
    "<li>프로그램에서 예외가 발생하더라도 프로그램을 중단시키지 않고 예외에 대한 적절한 처리를 하여 프로그램을 계속 진행시킬 수 있도록 하는 구문이 try~except 이다.</li>\n",
    "<li>우리의 목표인 웹 크롤러를 만드는 상황에서, 크롤링 대상 서버 측의 규정에 의해 예상치 못한 예외 상황이 발생하는데, 해당 상황에 대해 예외처리를 잘해야 효율적인 크롤러를 제작할 수 있다.</li>"
   ]
  },
  {
   "cell_type": "code",
   "execution_count": 60,
   "metadata": {},
   "outputs": [
    {
     "name": "stdout",
     "output_type": "stream",
     "text": [
      "안녕하세요!\n",
      "summer_summer\n"
     ]
    },
    {
     "ename": "NameError",
     "evalue": "name 'summer_summer' is not defined",
     "output_type": "error",
     "traceback": [
      "\u001b[0;31m---------------------------------------------------------------------------\u001b[0m",
      "\u001b[0;31mNameError\u001b[0m                                 Traceback (most recent call last)",
      "\u001b[0;32m<ipython-input-60-1c914db899fb>\u001b[0m in \u001b[0;36m<module>\u001b[0;34m\u001b[0m\n\u001b[1;32m      1\u001b[0m \u001b[0mprint\u001b[0m\u001b[0;34m(\u001b[0m\u001b[0;34m'안녕하세요!'\u001b[0m\u001b[0;34m)\u001b[0m\u001b[0;34m\u001b[0m\u001b[0;34m\u001b[0m\u001b[0m\n\u001b[1;32m      2\u001b[0m \u001b[0mprint\u001b[0m\u001b[0;34m(\u001b[0m\u001b[0;34m'summer_summer'\u001b[0m\u001b[0;34m)\u001b[0m\u001b[0;34m\u001b[0m\u001b[0;34m\u001b[0m\u001b[0m\n\u001b[0;32m----> 3\u001b[0;31m \u001b[0mprint\u001b[0m\u001b[0;34m(\u001b[0m\u001b[0msummer_summer\u001b[0m\u001b[0;34m)\u001b[0m\u001b[0;34m\u001b[0m\u001b[0;34m\u001b[0m\u001b[0m\n\u001b[0m",
      "\u001b[0;31mNameError\u001b[0m: name 'summer_summer' is not defined"
     ]
    }
   ],
   "source": [
    "print('안녕하세요!')\n",
    "print('summer_summer')\n",
    "print(summer_summer)"
   ]
  },
  {
   "cell_type": "code",
   "execution_count": 61,
   "metadata": {},
   "outputs": [
    {
     "name": "stdout",
     "output_type": "stream",
     "text": [
      "안녕하세요!\n",
      "summer_summer\n",
      "summer!!!!\n"
     ]
    }
   ],
   "source": [
    "summer_summer = 'summer!!!!'\n",
    "print('안녕하세요!')\n",
    "print('summer_summer')\n",
    "print(summer_summer)"
   ]
  },
  {
   "cell_type": "code",
   "execution_count": 62,
   "metadata": {},
   "outputs": [
    {
     "ename": "NameError",
     "evalue": "name 'summer_summer_summer' is not defined",
     "output_type": "error",
     "traceback": [
      "\u001b[0;31m---------------------------------------------------------------------------\u001b[0m",
      "\u001b[0;31mNameError\u001b[0m                                 Traceback (most recent call last)",
      "\u001b[0;32m<ipython-input-62-21cb3d2027ed>\u001b[0m in \u001b[0;36m<module>\u001b[0;34m\u001b[0m\n\u001b[0;32m----> 1\u001b[0;31m \u001b[0msummer_summer_summer\u001b[0m\u001b[0;34m\u001b[0m\u001b[0;34m\u001b[0m\u001b[0m\n\u001b[0m",
      "\u001b[0;31mNameError\u001b[0m: name 'summer_summer_summer' is not defined"
     ]
    }
   ],
   "source": [
    "summer_summer_summer"
   ]
  },
  {
   "cell_type": "markdown",
   "metadata": {},
   "source": [
    "### try except"
   ]
  },
  {
   "cell_type": "code",
   "execution_count": 65,
   "metadata": {},
   "outputs": [
    {
     "name": "stdout",
     "output_type": "stream",
     "text": [
      "안녕하세요!\n",
      "예외가 발생했습니다!\n"
     ]
    }
   ],
   "source": [
    "try:\n",
    "    print('안녕하세요!')\n",
    "    print(summer_summer_summer)\n",
    "except:\n",
    "    print('예외가 발생했습니다!')"
   ]
  },
  {
   "cell_type": "markdown",
   "metadata": {},
   "source": [
    "### try except else\n",
    "- else : error가 발생하지 않는 경우 실행"
   ]
  },
  {
   "cell_type": "code",
   "execution_count": 66,
   "metadata": {},
   "outputs": [
    {
     "name": "stdout",
     "output_type": "stream",
     "text": [
      "예외가 발생했습니다!\n"
     ]
    }
   ],
   "source": [
    "try:\n",
    "    print(summer_summer_summer)\n",
    "except NameError:\n",
    "    print('예외가 발생했습니다!')"
   ]
  },
  {
   "cell_type": "code",
   "execution_count": 67,
   "metadata": {},
   "outputs": [
    {
     "name": "stdout",
     "output_type": "stream",
     "text": [
      "안녕하세요!\n",
      "예외가 발생했습니다!\n",
      "Error is: name 'summer_summer_summer' is not defined\n"
     ]
    }
   ],
   "source": [
    "try:\n",
    "    print('안녕하세요!')\n",
    "    print(summer_summer_summer)\n",
    "except NameError as e:\n",
    "    print('예외가 발생했습니다!')\n",
    "    print('Error is:', e)"
   ]
  },
  {
   "cell_type": "code",
   "execution_count": 68,
   "metadata": {},
   "outputs": [
    {
     "name": "stdout",
     "output_type": "stream",
     "text": [
      "안녕하세요!\n",
      "예외가 발생했습니다!\n",
      "Error is: name 'summer_summer_summer' is not defined\n",
      "------------------------\n",
      "[NameError(\"name 'summer_summer_summer' is not defined\",)]\n"
     ]
    }
   ],
   "source": [
    "ErrorList = [] # empty list\n",
    "try:\n",
    "    print('안녕하세요!')\n",
    "    print(summer_summer_summer)\n",
    "except NameError as e:\n",
    "    print('예외가 발생했습니다!')\n",
    "    print('Error is:', e)\n",
    "    ErrorList.append(e)\n",
    "\n",
    "print('------------------------')\n",
    "print(ErrorList)"
   ]
  },
  {
   "cell_type": "code",
   "execution_count": 69,
   "metadata": {},
   "outputs": [
    {
     "ename": "NameError",
     "evalue": "name 'summer_summer_summer' is not defined",
     "output_type": "error",
     "traceback": [
      "\u001b[0;31m---------------------------------------------------------------------------\u001b[0m",
      "\u001b[0;31mNameError\u001b[0m                                 Traceback (most recent call last)",
      "\u001b[0;32m<ipython-input-69-0479d3131526>\u001b[0m in \u001b[0;36m<module>\u001b[0;34m\u001b[0m\n\u001b[1;32m      2\u001b[0m \u001b[0;34m\u001b[0m\u001b[0m\n\u001b[1;32m      3\u001b[0m \u001b[0;32mfor\u001b[0m \u001b[0mi\u001b[0m \u001b[0;32min\u001b[0m \u001b[0mrange\u001b[0m\u001b[0;34m(\u001b[0m\u001b[0;36m0\u001b[0m\u001b[0;34m,\u001b[0m\u001b[0;36m5\u001b[0m\u001b[0;34m)\u001b[0m\u001b[0;34m:\u001b[0m\u001b[0;34m\u001b[0m\u001b[0;34m\u001b[0m\u001b[0m\n\u001b[0;32m----> 4\u001b[0;31m     \u001b[0mprint\u001b[0m\u001b[0;34m(\u001b[0m\u001b[0msummer_summer_summer\u001b[0m\u001b[0;34m)\u001b[0m\u001b[0;34m\u001b[0m\u001b[0;34m\u001b[0m\u001b[0m\n\u001b[0m",
      "\u001b[0;31mNameError\u001b[0m: name 'summer_summer_summer' is not defined"
     ]
    }
   ],
   "source": [
    "ErrorList = [] # empty list\n",
    "\n",
    "for i in range(0,5):\n",
    "    print(summer_summer_summer)"
   ]
  },
  {
   "cell_type": "code",
   "execution_count": 70,
   "metadata": {},
   "outputs": [],
   "source": [
    "ErrorList = [] # empty list\n",
    "\n",
    "for i in range(0,5):\n",
    "    try:\n",
    "        print(summer_summer_summer)\n",
    "    except NameError as e:\n",
    "        ErrorList.append(e)"
   ]
  },
  {
   "cell_type": "code",
   "execution_count": 71,
   "metadata": {},
   "outputs": [
    {
     "data": {
      "text/plain": [
       "[NameError(\"name 'summer_summer_summer' is not defined\"),\n",
       " NameError(\"name 'summer_summer_summer' is not defined\"),\n",
       " NameError(\"name 'summer_summer_summer' is not defined\"),\n",
       " NameError(\"name 'summer_summer_summer' is not defined\"),\n",
       " NameError(\"name 'summer_summer_summer' is not defined\")]"
      ]
     },
     "execution_count": 71,
     "metadata": {},
     "output_type": "execute_result"
    }
   ],
   "source": [
    "ErrorList"
   ]
  },
  {
   "cell_type": "code",
   "execution_count": 73,
   "metadata": {},
   "outputs": [
    {
     "name": "stdout",
     "output_type": "stream",
     "text": [
      "안녕하세요!\n",
      "예외가 발생했습니다!\n"
     ]
    }
   ],
   "source": [
    "try:\n",
    "    print('안녕하세요!')\n",
    "    print(summer_summer_summer)\n",
    "except:\n",
    "    print('예외가 발생했습니다!')\n",
    "else:\n",
    "    print('예외가 발생하지 않았습니다.')"
   ]
  },
  {
   "cell_type": "code",
   "execution_count": 74,
   "metadata": {},
   "outputs": [
    {
     "name": "stdout",
     "output_type": "stream",
     "text": [
      "안녕하세요!\n",
      "vacation\n",
      "예외가 발생하지 않았습니다.\n"
     ]
    }
   ],
   "source": [
    "summer = 'vacation'\n",
    "\n",
    "try:\n",
    "    print('안녕하세요!')\n",
    "    print(summer)\n",
    "except:\n",
    "    print('예외가 발생했습니다!')\n",
    "else:\n",
    "    print('예외가 발생하지 않았습니다.')"
   ]
  },
  {
   "cell_type": "markdown",
   "metadata": {},
   "source": [
    "<strong>try ~ except ~ finally</strong>\n",
    "- finally : 오류 발생 유무와 상관없이 어떤 코드를 무조건 실행시켜야 하는 경우"
   ]
  },
  {
   "cell_type": "code",
   "execution_count": 75,
   "metadata": {},
   "outputs": [
    {
     "name": "stdout",
     "output_type": "stream",
     "text": [
      "안녕하세요!\n",
      "예외가 발생했습니다!\n",
      "이 구문은 항상 실행하세요!\n"
     ]
    }
   ],
   "source": [
    "try:\n",
    "    print('안녕하세요!')\n",
    "    print(vacation)\n",
    "except:\n",
    "    print('예외가 발생했습니다!')\n",
    "else:\n",
    "    print('예외가 발생하지 않았습니다.')\n",
    "finally:\n",
    "    print('이 구문은 항상 실행하세요!')"
   ]
  },
  {
   "cell_type": "code",
   "execution_count": 76,
   "metadata": {},
   "outputs": [
    {
     "name": "stdout",
     "output_type": "stream",
     "text": [
      "안녕하세요!\n",
      "vacation\n",
      "예외가 발생하지 않았습니다.\n",
      "이 구문은 항상 실행하세요!\n"
     ]
    }
   ],
   "source": [
    "summer = 'vacation'\n",
    "\n",
    "try:\n",
    "    print('안녕하세요!')\n",
    "    print(summer)\n",
    "except:\n",
    "    print('예외가 발생했습니다!')\n",
    "else:\n",
    "    print('예외가 발생하지 않았습니다.')\n",
    "finally:\n",
    "    print('이 구문은 항상 실행하세요!')"
   ]
  },
  {
   "cell_type": "markdown",
   "metadata": {},
   "source": [
    "------------------------------------------------------------------------------------------"
   ]
  },
  {
   "cell_type": "markdown",
   "metadata": {},
   "source": [
    "# 실습 !"
   ]
  },
  {
   "cell_type": "markdown",
   "metadata": {},
   "source": [
    "(1) 숫자 5를 0으로 나누었을 때, error 대신 '0으로 나누었습니다!' 프린트하기"
   ]
  },
  {
   "cell_type": "code",
   "execution_count": 3,
   "metadata": {},
   "outputs": [
    {
     "ename": "ZeroDivisionError",
     "evalue": "division by zero",
     "output_type": "error",
     "traceback": [
      "\u001b[0;31m---------------------------------------------------------------------------\u001b[0m",
      "\u001b[0;31mZeroDivisionError\u001b[0m                         Traceback (most recent call last)",
      "\u001b[0;32m<ipython-input-3-0106664d39e8>\u001b[0m in \u001b[0;36m<module>\u001b[0;34m\u001b[0m\n\u001b[0;32m----> 1\u001b[0;31m \u001b[0;36m5\u001b[0m\u001b[0;34m/\u001b[0m\u001b[0;36m0\u001b[0m\u001b[0;34m\u001b[0m\u001b[0;34m\u001b[0m\u001b[0m\n\u001b[0m",
      "\u001b[0;31mZeroDivisionError\u001b[0m: division by zero"
     ]
    }
   ],
   "source": [
    "5/0"
   ]
  },
  {
   "cell_type": "markdown",
   "metadata": {},
   "source": [
    "(2) 선언되지 않은 변수를 실행하는 경우, '선언되지 않았습니다!' 실행하기  "
   ]
  },
  {
   "cell_type": "code",
   "execution_count": null,
   "metadata": {},
   "outputs": [],
   "source": []
  }
 ],
 "metadata": {
  "kernelspec": {
   "display_name": "Python 3",
   "language": "python",
   "name": "python3"
  },
  "language_info": {
   "codemirror_mode": {
    "name": "ipython",
    "version": 3
   },
   "file_extension": ".py",
   "mimetype": "text/x-python",
   "name": "python",
   "nbconvert_exporter": "python",
   "pygments_lexer": "ipython3",
   "version": "3.6.8"
  }
 },
 "nbformat": 4,
 "nbformat_minor": 2
}
