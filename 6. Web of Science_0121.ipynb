{
 "cells": [
  {
   "cell_type": "markdown",
   "metadata": {},
   "source": [
    "# Web of Science\n",
    "- 학술 데이터베이스 Web of Science에서 자료를 수집하는 코드 구현  \n",
    "- 학내 정책상 자동화된 프로그램을 이용해서 학술 데이터에 접근하는 것은 서버 과부화를 야기하기 때문에 무분별하게 사용하면 문제발생\n",
    "(사용하지 않는 것을 권고, 사용하는 경우 도서관 사이트관리자와 충분히 상의하기)  \n",
    "- 작업에 앞서 본인이 학술 데이터베이스를 사용하는 과정에 대해 고민\n",
    "\n",
    "### [작업과정]  \n",
    "(1) 경희대학교 중앙도서관 접속 및 로그인  \n",
    "(2) 학술 데이터베이스 로그인  \n",
    "(3) 검색어 검색  \n",
    "(4) 카테고리 선택  \n",
    "(5) paper 수집  "
   ]
  },
  {
   "cell_type": "code",
   "execution_count": 2,
   "metadata": {},
   "outputs": [],
   "source": [
    "from selenium import webdriver\n",
    "from time import sleep\n",
    "from random import randint\n",
    "from tqdm import tqdm\n",
    "import time\n",
    "import pandas as pd\n",
    "import sys"
   ]
  },
  {
   "cell_type": "code",
   "execution_count": 72,
   "metadata": {
    "scrolled": false
   },
   "outputs": [],
   "source": [
    "# print(sys.path)"
   ]
  },
  {
   "cell_type": "code",
   "execution_count": 9,
   "metadata": {},
   "outputs": [],
   "source": [
    "sys.path.append('/Users/jiwonjang/python_tutorial/ve_env/') # 시스템 경로 추가"
   ]
  },
  {
   "cell_type": "code",
   "execution_count": 10,
   "metadata": {},
   "outputs": [],
   "source": [
    "# for i in sys.path:\n",
    "#     print(i)"
   ]
  },
  {
   "cell_type": "code",
   "execution_count": 11,
   "metadata": {},
   "outputs": [],
   "source": [
    "import info21"
   ]
  },
  {
   "cell_type": "code",
   "execution_count": 12,
   "metadata": {},
   "outputs": [],
   "source": [
    "info21ID = info21.infoID # info21 id \n",
    "# info21ID = 'id 넣어주세요!'\n",
    "info21PW = info21.infoPassward # info21 password\n",
    "# info21PW = '비밀번호 넣어주세요!'"
   ]
  },
  {
   "cell_type": "markdown",
   "metadata": {},
   "source": [
    "# Web of Science 접속"
   ]
  },
  {
   "cell_type": "code",
   "execution_count": 13,
   "metadata": {},
   "outputs": [],
   "source": [
    "### access 'web of science'\n",
    "chromeDir = '/Users/jiwonjang/python_tutorial/chromedriver' # driver directory\n",
    "driver = webdriver.Chrome(chromeDir)\n",
    "# driver = webdriver.Chrome()\n",
    "driver.implicitly_wait(1)"
   ]
  },
  {
   "cell_type": "code",
   "execution_count": 14,
   "metadata": {},
   "outputs": [],
   "source": [
    "# connect khu library\n",
    "univ_url = 'https://external.khu.ac.kr/sns/login.php?return_url=https%3A%2F%2Flibrary.khu.ac.kr%2Fseoul&campus=seoul'\n",
    "driver.get(univ_url)\n",
    "time.sleep(1)"
   ]
  },
  {
   "cell_type": "code",
   "execution_count": 15,
   "metadata": {},
   "outputs": [],
   "source": [
    "# khu library login\n",
    "# //*[@id=\"inputEmail3\"]\n",
    "driver.find_element_by_xpath('//*[@id=\"inputEmail3\"]').send_keys(info21ID)\n",
    "# <input type =\"text\" id=\"inputemail3\"  , //*[@id=\"inputEmail3\"]\n",
    "# //*[@id=\"inputEmail3\"]"
   ]
  },
  {
   "cell_type": "code",
   "execution_count": 16,
   "metadata": {},
   "outputs": [],
   "source": [
    "driver.find_element_by_xpath('//*[@id=\"inputPassword3\"]').send_keys(info21PW)\n",
    "# //*[@id=\"inputPassword3\"]"
   ]
  },
  {
   "cell_type": "markdown",
   "metadata": {},
   "source": [
    "# 로그인 완료"
   ]
  },
  {
   "cell_type": "code",
   "execution_count": 17,
   "metadata": {},
   "outputs": [],
   "source": [
    "driver.find_element_by_xpath('/html/body/div/div[1]/div/div/form/div[3]/div/button').click()\n",
    "# <button type =\"submit\" , /html/body/div/div[1]/div/div/form/div[3]/div/button"
   ]
  },
  {
   "cell_type": "code",
   "execution_count": 18,
   "metadata": {},
   "outputs": [],
   "source": [
    "# connect web of science \n",
    "driver.get('http://access.openlink.khu.ac.kr/link.n2s?url=http://isiknowledge.com/wos')"
   ]
  },
  {
   "cell_type": "code",
   "execution_count": 83,
   "metadata": {},
   "outputs": [
    {
     "data": {
      "text/plain": [
       "'http://apps.webofknowledge.com.openlink.khu.ac.kr:8080/WOS_GeneralSearch_input.do?product=WOS&search_mode=GeneralSearch&SID=C1gdRfycdjNX98CkY7K&preferencesSaved='"
      ]
     },
     "execution_count": 83,
     "metadata": {},
     "output_type": "execute_result"
    }
   ],
   "source": [
    "driver.current_url"
   ]
  },
  {
   "cell_type": "markdown",
   "metadata": {},
   "source": [
    "# Query 검색"
   ]
  },
  {
   "cell_type": "code",
   "execution_count": 19,
   "metadata": {},
   "outputs": [
    {
     "name": "stdout",
     "output_type": "stream",
     "text": [
      "sid id: C5u8QQu3tEBocVgJQdT\n"
     ]
    }
   ],
   "source": [
    "sid_id = driver.find_element_by_id('SID').get_attribute('value') # url 구성을 위한 sid id 생성\n",
    "print('sid id:', sid_id)"
   ]
  },
  {
   "cell_type": "code",
   "execution_count": 20,
   "metadata": {},
   "outputs": [
    {
     "name": "stdout",
     "output_type": "stream",
     "text": [
      "reinforcement learning\n"
     ]
    }
   ],
   "source": [
    "time.sleep(2)\n",
    "query = 'reinforcement learning'\n",
    "print(query)"
   ]
  },
  {
   "cell_type": "code",
   "execution_count": 21,
   "metadata": {},
   "outputs": [],
   "source": [
    "driver.find_element_by_id('value(input1)').send_keys(query) # input query\n",
    "# <input aria-role=\"textbox\"\n",
    "time.sleep(1)"
   ]
  },
  {
   "cell_type": "code",
   "execution_count": 22,
   "metadata": {},
   "outputs": [],
   "source": [
    "driver.find_element_by_xpath('//*[@id=\"searchCell1\"]/span[1]/button').click() # button click\n",
    "# <button class , //*[@id=\"searchCell1\"]/span[1]/button"
   ]
  },
  {
   "cell_type": "markdown",
   "metadata": {},
   "source": [
    "# 쿼리 클릭 완료!"
   ]
  },
  {
   "cell_type": "code",
   "execution_count": 25,
   "metadata": {},
   "outputs": [],
   "source": [
    "# go to the category page\n",
    "WOS_category_url = 'http://apps.webofknowledge.com.openlink.khu.ac.kr:8080/RAMore.do?product=WOS&search_mode=GeneralSearch&' + sid_id + '&qid=1&ra_mode=more&ra_name=JCRCategories&colName=WOS&viewType=raMore'"
   ]
  },
  {
   "cell_type": "code",
   "execution_count": 26,
   "metadata": {
    "scrolled": false
   },
   "outputs": [
    {
     "data": {
      "text/plain": [
       "'http://apps.webofknowledge.com.openlink.khu.ac.kr:8080/RAMore.do?product=WOS&search_mode=GeneralSearch&C5u8QQu3tEBocVgJQdT&qid=1&ra_mode=more&ra_name=JCRCategories&colName=WOS&viewType=raMore'"
      ]
     },
     "execution_count": 26,
     "metadata": {},
     "output_type": "execute_result"
    }
   ],
   "source": [
    "WOS_category_url"
   ]
  },
  {
   "cell_type": "code",
   "execution_count": 27,
   "metadata": {},
   "outputs": [],
   "source": [
    "driver.get(WOS_category_url) # category 접속"
   ]
  },
  {
   "cell_type": "code",
   "execution_count": 28,
   "metadata": {},
   "outputs": [],
   "source": [
    "# 관심항목 체크\n",
    "driver.find_element_by_xpath('//*[@id=\"TASCA_2\"]').click() # computer science\n",
    "# <input value , //*[@id=\"TASCA_2\"]"
   ]
  },
  {
   "cell_type": "code",
   "execution_count": 29,
   "metadata": {},
   "outputs": [],
   "source": [
    "driver.find_element_by_xpath('//*[@id=\"TASCA_1\"]').click() # neuroscience"
   ]
  },
  {
   "cell_type": "code",
   "execution_count": 30,
   "metadata": {},
   "outputs": [],
   "source": [
    "# 관심항목 체크 후 하단 범위재설정 클릭\n",
    "driver.find_element_by_xpath('//*[@id=\"raMore\"]/table/tbody/tr[1]/td/table/tbody/tr/td[2]/div/button').click()\n",
    "# <button class = , //*[@id=\"raMore\"]/table/tbody/tr[6]/td/table/tbody/tr/td[1]/div/button"
   ]
  },
  {
   "cell_type": "markdown",
   "metadata": {},
   "source": [
    "# category 선택 완료"
   ]
  },
  {
   "cell_type": "code",
   "execution_count": 94,
   "metadata": {},
   "outputs": [
    {
     "name": "stdout",
     "output_type": "stream",
     "text": [
      "http://apps.webofknowledge.com.openlink.khu.ac.kr:8080/Search.do?product=WOS&SID=C1gdRfycdjNX98CkY7K&search_mode=GeneralSearch&prID=1aed416b-d5f2-4c35-8f12-ee2c47443545\n"
     ]
    }
   ],
   "source": [
    "print(driver.current_url)"
   ]
  },
  {
   "cell_type": "code",
   "execution_count": 31,
   "metadata": {},
   "outputs": [],
   "source": [
    "# 순회할 수 있는 url을 얻기 위해 다음 페이지 선택\n",
    "driver.find_element_by_xpath('//*[@id=\"summary_navigation\"]/nav/table/tbody/tr/td[3]/a').click()\n",
    "# <a class paginationnext, //*[@id=\"summary_navigation\"]/nav/table/tbody/tr/td[3]/a"
   ]
  },
  {
   "cell_type": "code",
   "execution_count": 32,
   "metadata": {},
   "outputs": [
    {
     "name": "stdout",
     "output_type": "stream",
     "text": [
      "http://apps.webofknowledge.com.openlink.khu.ac.kr:8080/summary.do?product=WOS&parentProduct=WOS&search_mode=GeneralSearch&parentQid=1&qid=2&SID=C5u8QQu3tEBocVgJQdT&colName=WOS&&update_back2search_link_param=yes&page=2\n"
     ]
    }
   ],
   "source": [
    "print(driver.current_url)"
   ]
  },
  {
   "cell_type": "markdown",
   "metadata": {},
   "source": [
    "# 논문 수집"
   ]
  },
  {
   "cell_type": "code",
   "execution_count": 34,
   "metadata": {},
   "outputs": [
    {
     "data": {
      "text/plain": [
       "str"
      ]
     },
     "execution_count": 34,
     "metadata": {},
     "output_type": "execute_result"
    }
   ],
   "source": [
    "type(driver.current_url)"
   ]
  },
  {
   "cell_type": "code",
   "execution_count": 33,
   "metadata": {
    "scrolled": true
   },
   "outputs": [
    {
     "data": {
      "text/plain": [
       "217"
      ]
     },
     "execution_count": 33,
     "metadata": {},
     "output_type": "execute_result"
    }
   ],
   "source": [
    "len(driver.current_url)"
   ]
  },
  {
   "cell_type": "code",
   "execution_count": 35,
   "metadata": {},
   "outputs": [],
   "source": [
    "base_url = driver.current_url[:-1] # 기존 url 도출"
   ]
  },
  {
   "cell_type": "code",
   "execution_count": 36,
   "metadata": {},
   "outputs": [
    {
     "name": "stdout",
     "output_type": "stream",
     "text": [
      "http://apps.webofknowledge.com.openlink.khu.ac.kr:8080/summary.do?product=WOS&parentProduct=WOS&search_mode=GeneralSearch&parentQid=1&qid=2&SID=C5u8QQu3tEBocVgJQdT&colName=WOS&&update_back2search_link_param=yes&page=\n"
     ]
    }
   ],
   "source": [
    "print(base_url)"
   ]
  },
  {
   "cell_type": "code",
   "execution_count": 39,
   "metadata": {},
   "outputs": [],
   "source": [
    "New_post_list = []\n",
    "pageNumber = 3"
   ]
  },
  {
   "cell_type": "code",
   "execution_count": 40,
   "metadata": {},
   "outputs": [],
   "source": [
    "for i in range(1, pageNumber+1): \n",
    "    new_post_list_url = base_url + str(i)\n",
    "    New_post_list.append(new_post_list_url)"
   ]
  },
  {
   "cell_type": "code",
   "execution_count": 41,
   "metadata": {},
   "outputs": [
    {
     "data": {
      "text/plain": [
       "['http://apps.webofknowledge.com.openlink.khu.ac.kr:8080/summary.do?product=WOS&parentProduct=WOS&search_mode=GeneralSearch&parentQid=1&qid=2&SID=C5u8QQu3tEBocVgJQdT&colName=WOS&&update_back2search_link_param=yes&page=1',\n",
       " 'http://apps.webofknowledge.com.openlink.khu.ac.kr:8080/summary.do?product=WOS&parentProduct=WOS&search_mode=GeneralSearch&parentQid=1&qid=2&SID=C5u8QQu3tEBocVgJQdT&colName=WOS&&update_back2search_link_param=yes&page=2',\n",
       " 'http://apps.webofknowledge.com.openlink.khu.ac.kr:8080/summary.do?product=WOS&parentProduct=WOS&search_mode=GeneralSearch&parentQid=1&qid=2&SID=C5u8QQu3tEBocVgJQdT&colName=WOS&&update_back2search_link_param=yes&page=3']"
      ]
     },
     "execution_count": 41,
     "metadata": {},
     "output_type": "execute_result"
    }
   ],
   "source": [
    "New_post_list"
   ]
  },
  {
   "cell_type": "code",
   "execution_count": 42,
   "metadata": {},
   "outputs": [
    {
     "data": {
      "text/plain": [
       "'http://apps.webofknowledge.com.openlink.khu.ac.kr:8080/summary.do?product=WOS&parentProduct=WOS&search_mode=GeneralSearch&parentQid=1&qid=2&SID=C5u8QQu3tEBocVgJQdT&colName=WOS&&update_back2search_link_param=yes&page=1'"
      ]
     },
     "execution_count": 42,
     "metadata": {},
     "output_type": "execute_result"
    }
   ],
   "source": [
    "New_post_list[0]"
   ]
  },
  {
   "cell_type": "code",
   "execution_count": 59,
   "metadata": {},
   "outputs": [],
   "source": [
    "driver.get(New_post_list[0]) # driver url 요청\n",
    "sleep(randint(1,2))\n",
    "paper_hrefs = driver.find_elements_by_css_selector('div.search-results-content > div:nth-child(1) > div > a')\n",
    "#RECORD_11 > div.search-results-content > div:nth-child(1) > div > a"
   ]
  },
  {
   "cell_type": "code",
   "execution_count": 48,
   "metadata": {
    "scrolled": true
   },
   "outputs": [
    {
     "data": {
      "text/plain": [
       "[<selenium.webdriver.remote.webelement.WebElement (session=\"71ba25ed98332002cb6a2f07faaa1362\", element=\"594fbb46-2195-4137-a683-35519ca916c3\")>,\n",
       " <selenium.webdriver.remote.webelement.WebElement (session=\"71ba25ed98332002cb6a2f07faaa1362\", element=\"c68136a3-56f7-431a-aee6-ccb600bc9fd4\")>,\n",
       " <selenium.webdriver.remote.webelement.WebElement (session=\"71ba25ed98332002cb6a2f07faaa1362\", element=\"fcc9b26a-6284-4da4-8619-65d04e29f8ba\")>,\n",
       " <selenium.webdriver.remote.webelement.WebElement (session=\"71ba25ed98332002cb6a2f07faaa1362\", element=\"10bf2ba6-b6be-49e8-87bb-57420d04d329\")>,\n",
       " <selenium.webdriver.remote.webelement.WebElement (session=\"71ba25ed98332002cb6a2f07faaa1362\", element=\"71589ef3-b971-4a78-a89e-ad38d9b854b6\")>,\n",
       " <selenium.webdriver.remote.webelement.WebElement (session=\"71ba25ed98332002cb6a2f07faaa1362\", element=\"96bdf2b0-f1a4-4c61-ad25-fc943c2f5eb4\")>,\n",
       " <selenium.webdriver.remote.webelement.WebElement (session=\"71ba25ed98332002cb6a2f07faaa1362\", element=\"ac17e58f-1857-4395-9b17-534b37714523\")>,\n",
       " <selenium.webdriver.remote.webelement.WebElement (session=\"71ba25ed98332002cb6a2f07faaa1362\", element=\"bcd3eddd-de46-4a7c-ab7a-a4ab9c6fda22\")>,\n",
       " <selenium.webdriver.remote.webelement.WebElement (session=\"71ba25ed98332002cb6a2f07faaa1362\", element=\"8175cfd1-8a33-4295-9598-db52df786ba4\")>,\n",
       " <selenium.webdriver.remote.webelement.WebElement (session=\"71ba25ed98332002cb6a2f07faaa1362\", element=\"bc313751-9cee-4ed5-831e-8a8eab2ed04d\")>]"
      ]
     },
     "execution_count": 48,
     "metadata": {},
     "output_type": "execute_result"
    }
   ],
   "source": [
    "paper_hrefs"
   ]
  },
  {
   "cell_type": "code",
   "execution_count": null,
   "metadata": {},
   "outputs": [],
   "source": [
    "[]"
   ]
  },
  {
   "cell_type": "code",
   "execution_count": 49,
   "metadata": {
    "scrolled": true
   },
   "outputs": [
    {
     "data": {
      "text/plain": [
       "10"
      ]
     },
     "execution_count": 49,
     "metadata": {},
     "output_type": "execute_result"
    }
   ],
   "source": [
    "len(paper_hrefs)"
   ]
  },
  {
   "cell_type": "code",
   "execution_count": null,
   "metadata": {},
   "outputs": [],
   "source": []
  },
  {
   "cell_type": "code",
   "execution_count": 60,
   "metadata": {},
   "outputs": [
    {
     "data": {
      "text/plain": [
       "<selenium.webdriver.remote.webelement.WebElement (session=\"71ba25ed98332002cb6a2f07faaa1362\", element=\"af2c631c-966d-4ec8-acb2-b1f6e2d92ac8\")>"
      ]
     },
     "execution_count": 60,
     "metadata": {},
     "output_type": "execute_result"
    }
   ],
   "source": [
    "paper_hrefs[0]"
   ]
  },
  {
   "cell_type": "code",
   "execution_count": 52,
   "metadata": {},
   "outputs": [
    {
     "data": {
      "text/plain": [
       "'http://apps.webofknowledge.com.openlink.khu.ac.kr:8080/full_record.do?product=WOS&search_mode=GeneralSearch&qid=2&SID=C5u8QQu3tEBocVgJQdT&page=1&doc=1'"
      ]
     },
     "execution_count": 52,
     "metadata": {},
     "output_type": "execute_result"
    }
   ],
   "source": [
    "paper_hrefs[0].get_attribute('href') # page 목록의 1번째 논문의 링크"
   ]
  },
  {
   "cell_type": "code",
   "execution_count": 53,
   "metadata": {},
   "outputs": [],
   "source": [
    "Paper_href_list = []\n",
    "for href in paper_hrefs:\n",
    "    paper_title_url = href.get_attribute('href')\n",
    "    Paper_href_list.append(paper_title_url)"
   ]
  },
  {
   "cell_type": "code",
   "execution_count": 54,
   "metadata": {
    "scrolled": false
   },
   "outputs": [
    {
     "data": {
      "text/plain": [
       "['http://apps.webofknowledge.com.openlink.khu.ac.kr:8080/full_record.do?product=WOS&search_mode=GeneralSearch&qid=2&SID=C5u8QQu3tEBocVgJQdT&page=1&doc=1',\n",
       " 'http://apps.webofknowledge.com.openlink.khu.ac.kr:8080/full_record.do?product=WOS&search_mode=GeneralSearch&qid=2&SID=C5u8QQu3tEBocVgJQdT&page=1&doc=2',\n",
       " 'http://apps.webofknowledge.com.openlink.khu.ac.kr:8080/full_record.do?product=WOS&search_mode=GeneralSearch&qid=2&SID=C5u8QQu3tEBocVgJQdT&page=1&doc=3',\n",
       " 'http://apps.webofknowledge.com.openlink.khu.ac.kr:8080/full_record.do?product=WOS&search_mode=GeneralSearch&qid=2&SID=C5u8QQu3tEBocVgJQdT&page=1&doc=4',\n",
       " 'http://apps.webofknowledge.com.openlink.khu.ac.kr:8080/full_record.do?product=WOS&search_mode=GeneralSearch&qid=2&SID=C5u8QQu3tEBocVgJQdT&page=1&doc=5',\n",
       " 'http://apps.webofknowledge.com.openlink.khu.ac.kr:8080/full_record.do?product=WOS&search_mode=GeneralSearch&qid=2&SID=C5u8QQu3tEBocVgJQdT&page=1&doc=6',\n",
       " 'http://apps.webofknowledge.com.openlink.khu.ac.kr:8080/full_record.do?product=WOS&search_mode=GeneralSearch&qid=2&SID=C5u8QQu3tEBocVgJQdT&page=1&doc=7',\n",
       " 'http://apps.webofknowledge.com.openlink.khu.ac.kr:8080/full_record.do?product=WOS&search_mode=GeneralSearch&qid=2&SID=C5u8QQu3tEBocVgJQdT&page=1&doc=8',\n",
       " 'http://apps.webofknowledge.com.openlink.khu.ac.kr:8080/full_record.do?product=WOS&search_mode=GeneralSearch&qid=2&SID=C5u8QQu3tEBocVgJQdT&page=1&doc=9',\n",
       " 'http://apps.webofknowledge.com.openlink.khu.ac.kr:8080/full_record.do?product=WOS&search_mode=GeneralSearch&qid=2&SID=C5u8QQu3tEBocVgJQdT&page=1&doc=10']"
      ]
     },
     "execution_count": 54,
     "metadata": {},
     "output_type": "execute_result"
    }
   ],
   "source": [
    "Paper_href_list"
   ]
  },
  {
   "cell_type": "markdown",
   "metadata": {},
   "source": [
    "### loop version"
   ]
  },
  {
   "cell_type": "code",
   "execution_count": 55,
   "metadata": {},
   "outputs": [
    {
     "name": "stdout",
     "output_type": "stream",
     "text": [
      "page search finish ----------------------------------------------\n"
     ]
    }
   ],
   "source": [
    "Paper_href_list = []\n",
    "for new_url in New_post_list:\n",
    "    driver.get(new_url)\n",
    "    sleep(randint(1,3))\n",
    "    \n",
    "    # GET PAPAERS' LINKS\n",
    "    paper_hrefs = driver.find_elements_by_css_selector('div.search-results-content > div:nth-child(1) > div > a')\n",
    "    #RECORD_11 > div.search-results-content > div:nth-child(1) > div > a\n",
    "    \n",
    "    for href in paper_hrefs:\n",
    "        paper_title_url = href.get_attribute('href')\n",
    "        Paper_href_list.append(paper_title_url)\n",
    "\n",
    "print('page search finish ----------------------------------------------')"
   ]
  },
  {
   "cell_type": "code",
   "execution_count": 58,
   "metadata": {},
   "outputs": [
    {
     "data": {
      "text/plain": [
       "30"
      ]
     },
     "execution_count": 58,
     "metadata": {},
     "output_type": "execute_result"
    }
   ],
   "source": [
    "len(Paper_href_list)"
   ]
  },
  {
   "cell_type": "code",
   "execution_count": 56,
   "metadata": {
    "scrolled": true
   },
   "outputs": [
    {
     "data": {
      "text/plain": [
       "['http://apps.webofknowledge.com.openlink.khu.ac.kr:8080/full_record.do?product=WOS&search_mode=GeneralSearch&qid=2&SID=C5u8QQu3tEBocVgJQdT&page=1&doc=1',\n",
       " 'http://apps.webofknowledge.com.openlink.khu.ac.kr:8080/full_record.do?product=WOS&search_mode=GeneralSearch&qid=2&SID=C5u8QQu3tEBocVgJQdT&page=1&doc=2',\n",
       " 'http://apps.webofknowledge.com.openlink.khu.ac.kr:8080/full_record.do?product=WOS&search_mode=GeneralSearch&qid=2&SID=C5u8QQu3tEBocVgJQdT&page=1&doc=3',\n",
       " 'http://apps.webofknowledge.com.openlink.khu.ac.kr:8080/full_record.do?product=WOS&search_mode=GeneralSearch&qid=2&SID=C5u8QQu3tEBocVgJQdT&page=1&doc=4',\n",
       " 'http://apps.webofknowledge.com.openlink.khu.ac.kr:8080/full_record.do?product=WOS&search_mode=GeneralSearch&qid=2&SID=C5u8QQu3tEBocVgJQdT&page=1&doc=5',\n",
       " 'http://apps.webofknowledge.com.openlink.khu.ac.kr:8080/full_record.do?product=WOS&search_mode=GeneralSearch&qid=2&SID=C5u8QQu3tEBocVgJQdT&page=1&doc=6',\n",
       " 'http://apps.webofknowledge.com.openlink.khu.ac.kr:8080/full_record.do?product=WOS&search_mode=GeneralSearch&qid=2&SID=C5u8QQu3tEBocVgJQdT&page=1&doc=7',\n",
       " 'http://apps.webofknowledge.com.openlink.khu.ac.kr:8080/full_record.do?product=WOS&search_mode=GeneralSearch&qid=2&SID=C5u8QQu3tEBocVgJQdT&page=1&doc=8',\n",
       " 'http://apps.webofknowledge.com.openlink.khu.ac.kr:8080/full_record.do?product=WOS&search_mode=GeneralSearch&qid=2&SID=C5u8QQu3tEBocVgJQdT&page=1&doc=9',\n",
       " 'http://apps.webofknowledge.com.openlink.khu.ac.kr:8080/full_record.do?product=WOS&search_mode=GeneralSearch&qid=2&SID=C5u8QQu3tEBocVgJQdT&page=1&doc=10',\n",
       " 'http://apps.webofknowledge.com.openlink.khu.ac.kr:8080/full_record.do?product=WOS&search_mode=GeneralSearch&qid=2&SID=C5u8QQu3tEBocVgJQdT&page=2&doc=11',\n",
       " 'http://apps.webofknowledge.com.openlink.khu.ac.kr:8080/full_record.do?product=WOS&search_mode=GeneralSearch&qid=2&SID=C5u8QQu3tEBocVgJQdT&page=2&doc=12',\n",
       " 'http://apps.webofknowledge.com.openlink.khu.ac.kr:8080/full_record.do?product=WOS&search_mode=GeneralSearch&qid=2&SID=C5u8QQu3tEBocVgJQdT&page=2&doc=13',\n",
       " 'http://apps.webofknowledge.com.openlink.khu.ac.kr:8080/full_record.do?product=WOS&search_mode=GeneralSearch&qid=2&SID=C5u8QQu3tEBocVgJQdT&page=2&doc=14',\n",
       " 'http://apps.webofknowledge.com.openlink.khu.ac.kr:8080/full_record.do?product=WOS&search_mode=GeneralSearch&qid=2&SID=C5u8QQu3tEBocVgJQdT&page=2&doc=15',\n",
       " 'http://apps.webofknowledge.com.openlink.khu.ac.kr:8080/full_record.do?product=WOS&search_mode=GeneralSearch&qid=2&SID=C5u8QQu3tEBocVgJQdT&page=2&doc=16',\n",
       " 'http://apps.webofknowledge.com.openlink.khu.ac.kr:8080/full_record.do?product=WOS&search_mode=GeneralSearch&qid=2&SID=C5u8QQu3tEBocVgJQdT&page=2&doc=17',\n",
       " 'http://apps.webofknowledge.com.openlink.khu.ac.kr:8080/full_record.do?product=WOS&search_mode=GeneralSearch&qid=2&SID=C5u8QQu3tEBocVgJQdT&page=2&doc=18',\n",
       " 'http://apps.webofknowledge.com.openlink.khu.ac.kr:8080/full_record.do?product=WOS&search_mode=GeneralSearch&qid=2&SID=C5u8QQu3tEBocVgJQdT&page=2&doc=19',\n",
       " 'http://apps.webofknowledge.com.openlink.khu.ac.kr:8080/full_record.do?product=WOS&search_mode=GeneralSearch&qid=2&SID=C5u8QQu3tEBocVgJQdT&page=2&doc=20',\n",
       " 'http://apps.webofknowledge.com.openlink.khu.ac.kr:8080/full_record.do?product=WOS&search_mode=GeneralSearch&qid=2&SID=C5u8QQu3tEBocVgJQdT&page=3&doc=21',\n",
       " 'http://apps.webofknowledge.com.openlink.khu.ac.kr:8080/full_record.do?product=WOS&search_mode=GeneralSearch&qid=2&SID=C5u8QQu3tEBocVgJQdT&page=3&doc=22',\n",
       " 'http://apps.webofknowledge.com.openlink.khu.ac.kr:8080/full_record.do?product=WOS&search_mode=GeneralSearch&qid=2&SID=C5u8QQu3tEBocVgJQdT&page=3&doc=23',\n",
       " 'http://apps.webofknowledge.com.openlink.khu.ac.kr:8080/full_record.do?product=WOS&search_mode=GeneralSearch&qid=2&SID=C5u8QQu3tEBocVgJQdT&page=3&doc=24',\n",
       " 'http://apps.webofknowledge.com.openlink.khu.ac.kr:8080/full_record.do?product=WOS&search_mode=GeneralSearch&qid=2&SID=C5u8QQu3tEBocVgJQdT&page=3&doc=25',\n",
       " 'http://apps.webofknowledge.com.openlink.khu.ac.kr:8080/full_record.do?product=WOS&search_mode=GeneralSearch&qid=2&SID=C5u8QQu3tEBocVgJQdT&page=3&doc=26',\n",
       " 'http://apps.webofknowledge.com.openlink.khu.ac.kr:8080/full_record.do?product=WOS&search_mode=GeneralSearch&qid=2&SID=C5u8QQu3tEBocVgJQdT&page=3&doc=27',\n",
       " 'http://apps.webofknowledge.com.openlink.khu.ac.kr:8080/full_record.do?product=WOS&search_mode=GeneralSearch&qid=2&SID=C5u8QQu3tEBocVgJQdT&page=3&doc=28',\n",
       " 'http://apps.webofknowledge.com.openlink.khu.ac.kr:8080/full_record.do?product=WOS&search_mode=GeneralSearch&qid=2&SID=C5u8QQu3tEBocVgJQdT&page=3&doc=29',\n",
       " 'http://apps.webofknowledge.com.openlink.khu.ac.kr:8080/full_record.do?product=WOS&search_mode=GeneralSearch&qid=2&SID=C5u8QQu3tEBocVgJQdT&page=3&doc=30']"
      ]
     },
     "execution_count": 56,
     "metadata": {},
     "output_type": "execute_result"
    }
   ],
   "source": [
    "Paper_href_list"
   ]
  },
  {
   "cell_type": "code",
   "execution_count": 61,
   "metadata": {},
   "outputs": [
    {
     "data": {
      "text/plain": [
       "30"
      ]
     },
     "execution_count": 61,
     "metadata": {},
     "output_type": "execute_result"
    }
   ],
   "source": [
    "len(Paper_href_list)"
   ]
  },
  {
   "cell_type": "markdown",
   "metadata": {},
   "source": [
    "# collect paper data \n",
    "- 각 논문에 해당하는 정보 수집"
   ]
  },
  {
   "cell_type": "code",
   "execution_count": 62,
   "metadata": {},
   "outputs": [
    {
     "data": {
      "text/plain": [
       "'http://apps.webofknowledge.com.openlink.khu.ac.kr:8080/full_record.do?product=WOS&search_mode=GeneralSearch&qid=2&SID=C5u8QQu3tEBocVgJQdT&page=1&doc=1'"
      ]
     },
     "execution_count": 62,
     "metadata": {},
     "output_type": "execute_result"
    }
   ],
   "source": [
    "Paper_href_list[0]"
   ]
  },
  {
   "cell_type": "code",
   "execution_count": 63,
   "metadata": {},
   "outputs": [],
   "source": [
    "driver.get(Paper_href_list[0])"
   ]
  },
  {
   "cell_type": "code",
   "execution_count": 64,
   "metadata": {},
   "outputs": [],
   "source": [
    "keyword_fetch = driver.find_elements_by_css_selector('p:nth-child(2) > a') # keywords 인덱싱\n",
    "plus_keyword_fetch = driver.find_elements_by_css_selector('p:nth-child(3) > a') # plus keywords 인덱싱"
   ]
  },
  {
   "cell_type": "code",
   "execution_count": 65,
   "metadata": {},
   "outputs": [
    {
     "data": {
      "text/plain": [
       "[<selenium.webdriver.remote.webelement.WebElement (session=\"71ba25ed98332002cb6a2f07faaa1362\", element=\"d97954d5-8fe6-4a00-9d5a-ac3638a53cb4\")>,\n",
       " <selenium.webdriver.remote.webelement.WebElement (session=\"71ba25ed98332002cb6a2f07faaa1362\", element=\"90a9b725-45a3-42f1-a098-9196d9509fe7\")>,\n",
       " <selenium.webdriver.remote.webelement.WebElement (session=\"71ba25ed98332002cb6a2f07faaa1362\", element=\"bea10d1c-1d91-471d-acbd-46ec8f7fdba0\")>,\n",
       " <selenium.webdriver.remote.webelement.WebElement (session=\"71ba25ed98332002cb6a2f07faaa1362\", element=\"7dab1e73-d0e6-440b-bfb8-4fcdfab1a619\")>,\n",
       " <selenium.webdriver.remote.webelement.WebElement (session=\"71ba25ed98332002cb6a2f07faaa1362\", element=\"5079d75a-81b0-4617-adef-5fcc597cc6ba\")>,\n",
       " <selenium.webdriver.remote.webelement.WebElement (session=\"71ba25ed98332002cb6a2f07faaa1362\", element=\"e62eb7c4-f1df-44f8-83d8-0523d75e6982\")>,\n",
       " <selenium.webdriver.remote.webelement.WebElement (session=\"71ba25ed98332002cb6a2f07faaa1362\", element=\"f6b88a46-37d3-4dfb-828c-caa955f99416\")>,\n",
       " <selenium.webdriver.remote.webelement.WebElement (session=\"71ba25ed98332002cb6a2f07faaa1362\", element=\"fcf28e7d-4a05-476c-9e0d-1d5333f6b225\")>,\n",
       " <selenium.webdriver.remote.webelement.WebElement (session=\"71ba25ed98332002cb6a2f07faaa1362\", element=\"6371ed63-d063-49bf-b67c-b150e940696e\")>]"
      ]
     },
     "execution_count": 65,
     "metadata": {},
     "output_type": "execute_result"
    }
   ],
   "source": [
    "keyword_fetch"
   ]
  },
  {
   "cell_type": "code",
   "execution_count": 66,
   "metadata": {},
   "outputs": [
    {
     "data": {
      "text/plain": [
       "9"
      ]
     },
     "execution_count": 66,
     "metadata": {},
     "output_type": "execute_result"
    }
   ],
   "source": [
    "len(keyword_fetch)"
   ]
  },
  {
   "cell_type": "code",
   "execution_count": 67,
   "metadata": {
    "scrolled": true
   },
   "outputs": [
    {
     "name": "stdout",
     "output_type": "stream",
     "text": [
      "\n",
      "Emotional conversation generation\n",
      "Affective computing\n",
      "Emotional editing\n",
      "Reinforcement learning\n",
      "Multitask learning\n",
      "\n",
      "\n",
      "\n"
     ]
    }
   ],
   "source": [
    "for keyword in keyword_fetch:\n",
    "    print(keyword.text)"
   ]
  },
  {
   "cell_type": "code",
   "execution_count": 68,
   "metadata": {},
   "outputs": [],
   "source": [
    "paper_title = driver.find_element_by_css_selector('div.title > value').text # 논문 제목 인덱싱"
   ]
  },
  {
   "cell_type": "code",
   "execution_count": 69,
   "metadata": {},
   "outputs": [
    {
     "data": {
      "text/plain": [
       "'Emotional editing constraint conversation content generation based on reinforcement learning'"
      ]
     },
     "execution_count": 69,
     "metadata": {},
     "output_type": "execute_result"
    }
   ],
   "source": [
    "paper_title"
   ]
  },
  {
   "cell_type": "code",
   "execution_count": 71,
   "metadata": {},
   "outputs": [],
   "source": [
    "keyword_fetch = driver.find_elements_by_css_selector('p:nth-child(2) > a') # keywords 인덱싱\n",
    "plus_keyword_fetch = driver.find_elements_by_css_selector('p:nth-child(3) > a') # plus keywords 인덱싱\n",
    "\n",
    "keyword_list = []\n",
    "for keyword in keyword_fetch:\n",
    "    keyword_list.append(keyword.text)\n",
    "\n",
    "plus_keyword_list = []\n",
    "for plus_keyword in plus_keyword_fetch:\n",
    "    plus_keyword_list.append(plus_keyword.text)\n",
    "\n",
    "paper_title = driver.find_element_by_css_selector('div.title > value').text # 논문 제목 인덱싱\n",
    "publish_data = driver.find_element_by_css_selector('div.block-record-info.block-record-info-source').text"
   ]
  },
  {
   "cell_type": "code",
   "execution_count": null,
   "metadata": {},
   "outputs": [],
   "source": [
    "paper_result = {'paper_title' : paper_title, 'publish_data' : publish_data, 'keyword' : keyword_list, 'plus_keyword' : plus_keyword_list}"
   ]
  },
  {
   "cell_type": "code",
   "execution_count": 72,
   "metadata": {},
   "outputs": [
    {
     "data": {
      "text/plain": [
       "{'paper_title': 'Emotional editing constraint conversation content generation based on reinforcement learning',\n",
       " 'publish_data': 'INFORMATION FUSION\\n권: 56 페이지: 70-80\\nDOI: 10.1016/j.inffus.2019.10.007\\n출판: APR 2020\\n문서 유형:Article\\nJournal Impact Factor 보기',\n",
       " 'keyword': ['',\n",
       "  'Emotional conversation generation',\n",
       "  'Affective computing',\n",
       "  'Emotional editing',\n",
       "  'Reinforcement learning',\n",
       "  'Multitask learning',\n",
       "  '',\n",
       "  '',\n",
       "  ''],\n",
       " 'plus_keyword': ['', '', '']}"
      ]
     },
     "execution_count": 72,
     "metadata": {},
     "output_type": "execute_result"
    }
   ],
   "source": [
    "paper_result"
   ]
  },
  {
   "cell_type": "markdown",
   "metadata": {},
   "source": [
    "### loop version"
   ]
  },
  {
   "cell_type": "code",
   "execution_count": 73,
   "metadata": {},
   "outputs": [],
   "source": [
    "Paper_result_DF = pd.DataFrame(columns=['paper_title', 'publish_data', 'keyword', 'plus_keyword'], index=[])"
   ]
  },
  {
   "cell_type": "code",
   "execution_count": null,
   "metadata": {
    "scrolled": true
   },
   "outputs": [
    {
     "name": "stderr",
     "output_type": "stream",
     "text": [
      " 27%|██▋       | 8/30 [00:39<01:50,  5.04s/it]"
     ]
    }
   ],
   "source": [
    "for url in tqdm(Paper_href_list): # tqdm 추가\n",
    "    keyword_list = []\n",
    "    plus_keyword_list = []\n",
    "    \n",
    "    sleep(randint(1,3))\n",
    "    driver.get(url)\n",
    "    keyword_fetch = driver.find_elements_by_css_selector('p:nth-child(2) > a') # keywords 인덱싱\n",
    "    #records_form > div > div > div > div.l-column-content > div > div:nth-child(10) > p:nth-child(2) > a:nth-child(2)\n",
    "    plus_keyword_fetch = driver.find_elements_by_css_selector('p:nth-child(3) > a') # plus keywords 인덱싱\n",
    "    #records_form > div > div > div > div.l-column-content > div > div:nth-child(10) > p:nth-child(3) > a\n",
    "    \n",
    "    for keyword in keyword_fetch:\n",
    "#         print(keyword.text)\n",
    "        keyword_list.append(keyword.text)\n",
    "        \n",
    "    for plus_keyword in plus_keyword_fetch:\n",
    "#         print(plus_keyword.text)\n",
    "        plus_keyword_list.append(plus_keyword.text)\n",
    "        \n",
    "    paper_title = driver.find_element_by_css_selector('div.title > value').text # 논문 제목 인덱싱\n",
    "#     print(paper_title)\n",
    "    publish_data = driver.find_element_by_css_selector('div.block-record-info.block-record-info-source').text\n",
    "#     print(publish_data)\n",
    "    paper_result = {'paper_title' : paper_title, 'publish_data' : publish_data, 'keyword' : keyword_list, 'plus_keyword' : plus_keyword_list}\n",
    "    Paper_result_DF = Paper_result_DF.append(paper_result, ignore_index=True)\n",
    "    \n",
    "print('finished!!!!')\n",
    "# driver.close()"
   ]
  },
  {
   "cell_type": "code",
   "execution_count": null,
   "metadata": {},
   "outputs": [],
   "source": [
    "driver.close() # driver 종료"
   ]
  },
  {
   "cell_type": "code",
   "execution_count": 68,
   "metadata": {},
   "outputs": [
    {
     "data": {
      "text/plain": [
       "(20, 4)"
      ]
     },
     "execution_count": 68,
     "metadata": {},
     "output_type": "execute_result"
    }
   ],
   "source": [
    "Paper_result_DF.shape"
   ]
  },
  {
   "cell_type": "code",
   "execution_count": 69,
   "metadata": {},
   "outputs": [
    {
     "data": {
      "text/html": [
       "<div>\n",
       "<style scoped>\n",
       "    .dataframe tbody tr th:only-of-type {\n",
       "        vertical-align: middle;\n",
       "    }\n",
       "\n",
       "    .dataframe tbody tr th {\n",
       "        vertical-align: top;\n",
       "    }\n",
       "\n",
       "    .dataframe thead th {\n",
       "        text-align: right;\n",
       "    }\n",
       "</style>\n",
       "<table border=\"1\" class=\"dataframe\">\n",
       "  <thead>\n",
       "    <tr style=\"text-align: right;\">\n",
       "      <th></th>\n",
       "      <th>paper_title</th>\n",
       "      <th>publish_data</th>\n",
       "      <th>keyword</th>\n",
       "      <th>plus_keyword</th>\n",
       "    </tr>\n",
       "  </thead>\n",
       "  <tbody>\n",
       "    <tr>\n",
       "      <th>0</th>\n",
       "      <td>Emotional editing constraint conversation cont...</td>\n",
       "      <td>INFORMATION FUSION\\n권: 56 페이지: 70-80\\nDOI: 10....</td>\n",
       "      <td>[, Emotional conversation generation, Affectiv...</td>\n",
       "      <td>[, , ]</td>\n",
       "    </tr>\n",
       "    <tr>\n",
       "      <th>1</th>\n",
       "      <td>Application of deep reinforcement learning to ...</td>\n",
       "      <td>EXPERT SYSTEMS WITH APPLICATIONS\\n권: 141\\n논문 번...</td>\n",
       "      <td>[, Intrusion detection, Data networks, Deep re...</td>\n",
       "      <td>[, INTERNET, SYSTEMS, NETWORK, , ]</td>\n",
       "    </tr>\n",
       "    <tr>\n",
       "      <th>2</th>\n",
       "      <td>Continuous control with Stacked Deep Dynamic R...</td>\n",
       "      <td>EXPERT SYSTEMS WITH APPLICATIONS\\n권: 140\\n논문 번...</td>\n",
       "      <td>[, Reinforcement learning, Policy gradient, De...</td>\n",
       "      <td>[, , ]</td>\n",
       "    </tr>\n",
       "    <tr>\n",
       "      <th>3</th>\n",
       "      <td>Time-driven feature-aware jointly deep reinfor...</td>\n",
       "      <td>EXPERT SYSTEMS WITH APPLICATIONS\\n권: 140\\n논문 번...</td>\n",
       "      <td>[, Algorithmic trading, Deep reinforcement lea...</td>\n",
       "      <td>[, , ]</td>\n",
       "    </tr>\n",
       "    <tr>\n",
       "      <th>4</th>\n",
       "      <td>Effective image super resolution via hierarchi...</td>\n",
       "      <td>NEUROCOMPUTING\\n권: 374 페이지: 109-116\\nDOI: 10.1...</td>\n",
       "      <td>[, Image super-resolution, Edges extraction, D...</td>\n",
       "      <td>[, SUPERRESOLUTION, , ]</td>\n",
       "    </tr>\n",
       "  </tbody>\n",
       "</table>\n",
       "</div>"
      ],
      "text/plain": [
       "                                         paper_title  \\\n",
       "0  Emotional editing constraint conversation cont...   \n",
       "1  Application of deep reinforcement learning to ...   \n",
       "2  Continuous control with Stacked Deep Dynamic R...   \n",
       "3  Time-driven feature-aware jointly deep reinfor...   \n",
       "4  Effective image super resolution via hierarchi...   \n",
       "\n",
       "                                        publish_data  \\\n",
       "0  INFORMATION FUSION\\n권: 56 페이지: 70-80\\nDOI: 10....   \n",
       "1  EXPERT SYSTEMS WITH APPLICATIONS\\n권: 141\\n논문 번...   \n",
       "2  EXPERT SYSTEMS WITH APPLICATIONS\\n권: 140\\n논문 번...   \n",
       "3  EXPERT SYSTEMS WITH APPLICATIONS\\n권: 140\\n논문 번...   \n",
       "4  NEUROCOMPUTING\\n권: 374 페이지: 109-116\\nDOI: 10.1...   \n",
       "\n",
       "                                             keyword  \\\n",
       "0  [, Emotional conversation generation, Affectiv...   \n",
       "1  [, Intrusion detection, Data networks, Deep re...   \n",
       "2  [, Reinforcement learning, Policy gradient, De...   \n",
       "3  [, Algorithmic trading, Deep reinforcement lea...   \n",
       "4  [, Image super-resolution, Edges extraction, D...   \n",
       "\n",
       "                         plus_keyword  \n",
       "0                              [, , ]  \n",
       "1  [, INTERNET, SYSTEMS, NETWORK, , ]  \n",
       "2                              [, , ]  \n",
       "3                              [, , ]  \n",
       "4             [, SUPERRESOLUTION, , ]  "
      ]
     },
     "execution_count": 69,
     "metadata": {},
     "output_type": "execute_result"
    }
   ],
   "source": [
    "Paper_result_DF.head()"
   ]
  },
  {
   "cell_type": "code",
   "execution_count": 29,
   "metadata": {},
   "outputs": [],
   "source": [
    "# Paper_result_DF.to_csv('WOS_example_RL.csv', header=True, encoding='utf-8')"
   ]
  },
  {
   "cell_type": "markdown",
   "metadata": {},
   "source": [
    "------------------------------------------------------------------------------"
   ]
  },
  {
   "cell_type": "markdown",
   "metadata": {},
   "source": [
    "# 실습!\n",
    "- Web of Science 추가 작업 : 저자 이름 수집, 인용 문헌(인용 횟수) 수집\n",
    "- 구글 스칼라(google scholar) 수집 프로그램 작업 (bs version, selenium version)"
   ]
  },
  {
   "cell_type": "code",
   "execution_count": null,
   "metadata": {},
   "outputs": [],
   "source": []
  }
 ],
 "metadata": {
  "kernelspec": {
   "display_name": "Python 3",
   "language": "python",
   "name": "python3"
  },
  "language_info": {
   "codemirror_mode": {
    "name": "ipython",
    "version": 3
   },
   "file_extension": ".py",
   "mimetype": "text/x-python",
   "name": "python",
   "nbconvert_exporter": "python",
   "pygments_lexer": "ipython3",
   "version": "3.6.8"
  }
 },
 "nbformat": 4,
 "nbformat_minor": 2
}
