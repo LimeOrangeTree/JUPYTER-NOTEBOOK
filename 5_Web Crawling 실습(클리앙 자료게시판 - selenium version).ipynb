{
 "cells": [
  {
   "cell_type": "markdown",
   "metadata": {},
   "source": [
    "<div style=\"font-size: 30px\"><center>Web Crawling 실습 - 클리앙 자료 게시판 (selenium version) </center></div>\n",
    "\n",
    "[Reference]\n",
    "- 파이썬으로 웹 크롤러 만들기, 라이언 미첼, 한빛미디어"
   ]
  },
  {
   "cell_type": "code",
   "execution_count": 1,
   "metadata": {},
   "outputs": [],
   "source": [
    "from selenium import webdriver\n",
    "from bs4 import BeautifulSoup\n",
    "from random import randint\n",
    "from time import sleep\n",
    "import requests\n",
    "import pandas as pd\n",
    "import os"
   ]
  },
  {
   "cell_type": "markdown",
   "metadata": {},
   "source": [
    "# Clien 게시판 실습"
   ]
  },
  {
   "cell_type": "code",
   "execution_count": 2,
   "metadata": {},
   "outputs": [],
   "source": [
    "# chrome driver user\n",
    "# driver 경로 설정\n",
    "# chromeDir = '/Users/jiwonjang/python_tutorial/chromedriver' \n",
    "# driver = webdriver.Chrome(chromeDir)"
   ]
  },
  {
   "cell_type": "code",
   "execution_count": 3,
   "metadata": {},
   "outputs": [],
   "source": [
    "# Firefox driver user\n",
    "driverDir = '/Users/jiwonjang/python_tutorial/geckodriver' \n",
    "driver = webdriver.Firefox(executable_path=driverDir)"
   ]
  },
  {
   "cell_type": "code",
   "execution_count": 4,
   "metadata": {},
   "outputs": [],
   "source": [
    "url = 'https://www.clien.net/service/group/allinfo'\n",
    "driver.get(url)"
   ]
  },
  {
   "cell_type": "code",
   "execution_count": 5,
   "metadata": {
    "scrolled": false
   },
   "outputs": [
    {
     "data": {
      "text/plain": [
       "<selenium.webdriver.firefox.webelement.FirefoxWebElement (session=\"f7b9c2d7-34e7-fc4e-9851-851fef8a80ff\", element=\"2e269cf5-3901-5641-b125-eba57cec9ae3\")>"
      ]
     },
     "execution_count": 5,
     "metadata": {},
     "output_type": "execute_result"
    }
   ],
   "source": [
    "driver.find_element_by_tag_name('a') # a tag indexing"
   ]
  },
  {
   "cell_type": "code",
   "execution_count": 6,
   "metadata": {},
   "outputs": [
    {
     "data": {
      "text/plain": [
       "'CLIEN'"
      ]
     },
     "execution_count": 6,
     "metadata": {},
     "output_type": "execute_result"
    }
   ],
   "source": [
    "driver.find_element_by_tag_name('a').text"
   ]
  },
  {
   "cell_type": "code",
   "execution_count": 7,
   "metadata": {},
   "outputs": [],
   "source": [
    "tmp = driver.find_element_by_tag_name('a')"
   ]
  },
  {
   "cell_type": "code",
   "execution_count": 8,
   "metadata": {},
   "outputs": [
    {
     "data": {
      "text/plain": [
       "<selenium.webdriver.firefox.webelement.FirefoxWebElement (session=\"f7b9c2d7-34e7-fc4e-9851-851fef8a80ff\", element=\"2e269cf5-3901-5641-b125-eba57cec9ae3\")>"
      ]
     },
     "execution_count": 8,
     "metadata": {},
     "output_type": "execute_result"
    }
   ],
   "source": [
    "tmp"
   ]
  },
  {
   "cell_type": "code",
   "execution_count": 9,
   "metadata": {},
   "outputs": [
    {
     "data": {
      "text/plain": [
       "'https://www.clien.net/service/'"
      ]
     },
     "execution_count": 9,
     "metadata": {},
     "output_type": "execute_result"
    }
   ],
   "source": [
    "tmp.get_attribute('href')"
   ]
  },
  {
   "cell_type": "code",
   "execution_count": 10,
   "metadata": {},
   "outputs": [],
   "source": [
    "postList = driver.find_elements_by_class_name('subject_fixed') # post title"
   ]
  },
  {
   "cell_type": "code",
   "execution_count": 11,
   "metadata": {},
   "outputs": [
    {
     "name": "stdout",
     "output_type": "stream",
     "text": [
      "30\n"
     ]
    }
   ],
   "source": [
    "print(len(postList))"
   ]
  },
  {
   "cell_type": "code",
   "execution_count": 12,
   "metadata": {},
   "outputs": [],
   "source": [
    "Post = []\n",
    "for i in postList:\n",
    "    Post.append(i.get_attribute('title'))\n",
    "#     print(i.get_attribute('title'))"
   ]
  },
  {
   "cell_type": "code",
   "execution_count": 13,
   "metadata": {},
   "outputs": [
    {
     "data": {
      "text/plain": [
       "['폭스바겐 골프 바탕화면',\n",
       " '삼성전자, 폴더블폰 베트남서 만든다',\n",
       " '세계 최초 LTE 재난망, 경찰부터 서비스 개시',\n",
       " \"한국인이 가장 많이 결제한 온라인 서비스는 '네이버'\",\n",
       " '중국 5G 폰 판매량, 올 4분기에 4G 판매량 넘어선다',\n",
       " '안드로이드용 마이크로소프트 런처 6.0, 새로운 UI 탑재',\n",
       " \"에이스손보 '휴대폰파손보험', 토스·번개장터서 가입 가능\",\n",
       " 'GTA 4 스팀 판매 중단, Games for Windows Live 서비스 종료 때문',\n",
       " '치솟는 전봇대 도로점용료, 국토부·통신사 충돌',\n",
       " '인텔, 22코어 HEDT CPU인 코어 i9-10990XE 개발 중?',\n",
       " '윈도10 무료 업그레이드 정식절차 아냐.. 오류발생시 지원 없다',\n",
       " 'Deloitter 조사결과: 전기차에 대한 소비자들 관심 이전보다 높지만, 자율주행차는 겁',\n",
       " \"전에 'Fast Share'로 불렸던 'Nearby Sharing', 안드로이드 용 에어드롭이 될 것\",\n",
       " '갤럭시 S20+, 전·후면 카메라 상세 사양 및 기능 유출',\n",
       " \"3년 만의 '큰 변화'…LG전자, 씽큐 단 '코드제로 A9' 선뵌다\",\n",
       " \"삼성 '마이크로 LED TV 300만원대에 내놓을 것'\",\n",
       " '새로운 맥북 프로, FCC 데이터베이스에서 포착',\n",
       " '삼성, 미국의 높은 5G 수요 때문에 텔레월드 솔루션즈(TWS) 인수',\n",
       " \"현대차 '매출 100조 클럽' 가입 전망···삼성電·SK㈜ 이어 세 번째\",\n",
       " '삼성 갤럭시 S20 울트라 5G, 108MP 메인 카메라와 100배 하이브리드 줌 제공',\n",
       " '애플, 막 iPhone XS,XS 맥스 스마트 배터리 케이스 워런티 2년으로 연장.',\n",
       " 'GalaxyS20 Leaked stock wallpapers',\n",
       " \"구글 AI, 지역 강우/강설 패턴 '거의 즉각적으로' 예측\",\n",
       " '미 법무부장관, 지난달 펜사콜라 해군기지 총기 사건 관련 2대 iPhone 언락을 애플에게',\n",
       " '트위터, 사용자가 트윗으로 돈을 보내는 팁 기능 추가 고려하고 있어',\n",
       " '넷플릭스, 아카데미상 후보 2014년 1개에서 올해 24개로 크게 늘어',\n",
       " '가트너: 2019년 4분기 PC 시장 성장하는 동안 맥 출하량 감소해',\n",
       " '삼성 갤럭시 S20 울트라, 보통 PC보다 램 용량 더 클 수 있어',\n",
       " \"macOS 베타, 휴대용 맥의 성능 제고 위해 미래의 '프로 모드' 암시\",\n",
       " '비니']"
      ]
     },
     "execution_count": 13,
     "metadata": {},
     "output_type": "execute_result"
    }
   ],
   "source": [
    "Post"
   ]
  },
  {
   "cell_type": "code",
   "execution_count": 14,
   "metadata": {},
   "outputs": [],
   "source": [
    "viewCount = driver.find_elements_by_class_name('hit') # post viewcount"
   ]
  },
  {
   "cell_type": "code",
   "execution_count": 64,
   "metadata": {},
   "outputs": [
    {
     "name": "stdout",
     "output_type": "stream",
     "text": [
      "32\n"
     ]
    }
   ],
   "source": [
    "print(len(viewCount))"
   ]
  },
  {
   "cell_type": "code",
   "execution_count": 65,
   "metadata": {
    "scrolled": true
   },
   "outputs": [],
   "source": [
    "View = []\n",
    "for i in viewCount:\n",
    "    View.append(i.text)\n",
    "#     print(i.text)"
   ]
  },
  {
   "cell_type": "code",
   "execution_count": 66,
   "metadata": {},
   "outputs": [
    {
     "name": "stdout",
     "output_type": "stream",
     "text": [
      "['560.4 k', '29', '2176', '5400', '3931', '2617', '6791', '4171', '4404', '4141', '3224', '2917', '6017', '666', '5676', '21.2 k', '11.8 k', '9393', '6790', '7368', '9007', '5965', '8267', '6403', '4851', '14.5 k', '10.6 k', '12.2 k', '11.2 k', '3146', '6171', '3804']\n"
     ]
    }
   ],
   "source": [
    "print(View)"
   ]
  },
  {
   "cell_type": "code",
   "execution_count": 67,
   "metadata": {},
   "outputs": [
    {
     "name": "stdout",
     "output_type": "stream",
     "text": [
      "32\n"
     ]
    }
   ],
   "source": [
    "timeStamp = driver.find_elements_by_class_name('list_time') # time\n",
    "print(len(timeStamp))"
   ]
  },
  {
   "cell_type": "code",
   "execution_count": 68,
   "metadata": {},
   "outputs": [],
   "source": [
    "PostDate = []\n",
    "for i in timeStamp:\n",
    "    PostDate.append(i.text)\n",
    "#     print(i.text)"
   ]
  },
  {
   "cell_type": "code",
   "execution_count": 69,
   "metadata": {},
   "outputs": [
    {
     "name": "stdout",
     "output_type": "stream",
     "text": [
      "['05-07', '12-20', '12:43', '12:06', '11:12', '11:09', '11:06', '11:03', '11:02', '11:00', '10:59', '10:56', '10:24', '10:06', '05:59', '01:48', '01:10', '00:49', '00:43', '00:41', '00:40', '12-20', '12-20', '12-20', '12-20', '12-20', '12-20', '12-20', '12-20', '12-20', '12-20', '12-20']\n"
     ]
    }
   ],
   "source": [
    "print(PostDate)"
   ]
  },
  {
   "cell_type": "code",
   "execution_count": 70,
   "metadata": {},
   "outputs": [],
   "source": [
    "CLIEN = pd.DataFrame(columns=['Title','View','Date'])"
   ]
  },
  {
   "cell_type": "code",
   "execution_count": 71,
   "metadata": {},
   "outputs": [
    {
     "data": {
      "text/html": [
       "<div>\n",
       "<style scoped>\n",
       "    .dataframe tbody tr th:only-of-type {\n",
       "        vertical-align: middle;\n",
       "    }\n",
       "\n",
       "    .dataframe tbody tr th {\n",
       "        vertical-align: top;\n",
       "    }\n",
       "\n",
       "    .dataframe thead th {\n",
       "        text-align: right;\n",
       "    }\n",
       "</style>\n",
       "<table border=\"1\" class=\"dataframe\">\n",
       "  <thead>\n",
       "    <tr style=\"text-align: right;\">\n",
       "      <th></th>\n",
       "      <th>Title</th>\n",
       "      <th>View</th>\n",
       "      <th>Date</th>\n",
       "    </tr>\n",
       "  </thead>\n",
       "  <tbody>\n",
       "  </tbody>\n",
       "</table>\n",
       "</div>"
      ],
      "text/plain": [
       "Empty DataFrame\n",
       "Columns: [Title, View, Date]\n",
       "Index: []"
      ]
     },
     "execution_count": 71,
     "metadata": {},
     "output_type": "execute_result"
    }
   ],
   "source": [
    "CLIEN.head()"
   ]
  },
  {
   "cell_type": "code",
   "execution_count": 72,
   "metadata": {},
   "outputs": [
    {
     "name": "stdout",
     "output_type": "stream",
     "text": [
      "30\n"
     ]
    }
   ],
   "source": [
    "print(len(Post))"
   ]
  },
  {
   "cell_type": "code",
   "execution_count": 73,
   "metadata": {},
   "outputs": [],
   "source": [
    "CLIEN['Title'] = Post"
   ]
  },
  {
   "cell_type": "code",
   "execution_count": 74,
   "metadata": {
    "scrolled": true
   },
   "outputs": [
    {
     "data": {
      "text/html": [
       "<div>\n",
       "<style scoped>\n",
       "    .dataframe tbody tr th:only-of-type {\n",
       "        vertical-align: middle;\n",
       "    }\n",
       "\n",
       "    .dataframe tbody tr th {\n",
       "        vertical-align: top;\n",
       "    }\n",
       "\n",
       "    .dataframe thead th {\n",
       "        text-align: right;\n",
       "    }\n",
       "</style>\n",
       "<table border=\"1\" class=\"dataframe\">\n",
       "  <thead>\n",
       "    <tr style=\"text-align: right;\">\n",
       "      <th></th>\n",
       "      <th>Title</th>\n",
       "      <th>View</th>\n",
       "      <th>Date</th>\n",
       "    </tr>\n",
       "  </thead>\n",
       "  <tbody>\n",
       "    <tr>\n",
       "      <th>0</th>\n",
       "      <td>독일 법원, 우버 서비스가 위법하다고 판결</td>\n",
       "      <td>NaN</td>\n",
       "      <td>NaN</td>\n",
       "    </tr>\n",
       "    <tr>\n",
       "      <th>1</th>\n",
       "      <td>배민, 수수료 인상 없다더니..배민커넥트 수수료는 인상?</td>\n",
       "      <td>NaN</td>\n",
       "      <td>NaN</td>\n",
       "    </tr>\n",
       "    <tr>\n",
       "      <th>2</th>\n",
       "      <td>번슈타인 분석가: AirPods, 2020년에 150억 달러 비즈니스 될 수 있어</td>\n",
       "      <td>NaN</td>\n",
       "      <td>NaN</td>\n",
       "    </tr>\n",
       "    <tr>\n",
       "      <th>3</th>\n",
       "      <td>The Information: 페이스북, 현재 자체 OS 개발하고 있어</td>\n",
       "      <td>NaN</td>\n",
       "      <td>NaN</td>\n",
       "    </tr>\n",
       "    <tr>\n",
       "      <th>4</th>\n",
       "      <td>애플, 12월 말까지 한시적으로 Shazam 앱 통해 애플뮤직 6개월 무료 구독 제공</td>\n",
       "      <td>NaN</td>\n",
       "      <td>NaN</td>\n",
       "    </tr>\n",
       "    <tr>\n",
       "      <th>5</th>\n",
       "      <td>이메일 앱 '블루메일' 개발자, 애플이 앱스토어에서 은밀히 앱 랭킹 조작한다고 제소</td>\n",
       "      <td>NaN</td>\n",
       "      <td>NaN</td>\n",
       "    </tr>\n",
       "    <tr>\n",
       "      <th>6</th>\n",
       "      <td>현대차, 1월 6일 CES 2020에서 비행차 컨셉 일반에게 공개할 것</td>\n",
       "      <td>NaN</td>\n",
       "      <td>NaN</td>\n",
       "    </tr>\n",
       "    <tr>\n",
       "      <th>7</th>\n",
       "      <td>Motorola, 예상 밖의 높은 수요 때문에 Razr 선주문과 론칭 시기 약간 늦춰</td>\n",
       "      <td>NaN</td>\n",
       "      <td>NaN</td>\n",
       "    </tr>\n",
       "    <tr>\n",
       "      <th>8</th>\n",
       "      <td>맥북 프로 반사방지 코팅 수리 프로그램 수리 대상 모델 리스트</td>\n",
       "      <td>NaN</td>\n",
       "      <td>NaN</td>\n",
       "    </tr>\n",
       "    <tr>\n",
       "      <th>9</th>\n",
       "      <td>노트 10 vs 노트 10 Lite/S10 vs S10 Lite의 사양, 기능, 가...</td>\n",
       "      <td>NaN</td>\n",
       "      <td>NaN</td>\n",
       "    </tr>\n",
       "    <tr>\n",
       "      <th>10</th>\n",
       "      <td>껌 속 DNA로 복원한 5700년 전 북유럽 여성</td>\n",
       "      <td>NaN</td>\n",
       "      <td>NaN</td>\n",
       "    </tr>\n",
       "    <tr>\n",
       "      <th>11</th>\n",
       "      <td>[애플뮤직] 2019 올해의 플레이리스트 공개</td>\n",
       "      <td>NaN</td>\n",
       "      <td>NaN</td>\n",
       "    </tr>\n",
       "    <tr>\n",
       "      <th>12</th>\n",
       "      <td>정연</td>\n",
       "      <td>NaN</td>\n",
       "      <td>NaN</td>\n",
       "    </tr>\n",
       "    <tr>\n",
       "      <th>13</th>\n",
       "      <td>미국에서 스팸전화 1건에 최대 1만달러 벌금 부과하는 법안 통과</td>\n",
       "      <td>NaN</td>\n",
       "      <td>NaN</td>\n",
       "    </tr>\n",
       "    <tr>\n",
       "      <th>14</th>\n",
       "      <td>리눅스 민트 19.3 공개</td>\n",
       "      <td>NaN</td>\n",
       "      <td>NaN</td>\n",
       "    </tr>\n",
       "    <tr>\n",
       "      <th>15</th>\n",
       "      <td>이메일 사용자명과 패스워드, iOS 13.3으로 구동하는 락이 걸린 iPhone에서...</td>\n",
       "      <td>NaN</td>\n",
       "      <td>NaN</td>\n",
       "    </tr>\n",
       "    <tr>\n",
       "      <th>16</th>\n",
       "      <td>블룸버그: 애플, 기기에 직접 데이터 전송 위해 위성 기술 개발하고 있어</td>\n",
       "      <td>NaN</td>\n",
       "      <td>NaN</td>\n",
       "    </tr>\n",
       "    <tr>\n",
       "      <th>17</th>\n",
       "      <td>애플, 버그 보상 프로그램 이제 모든 사람에게 오픈되고 보상금 최대 150만 달러 지불</td>\n",
       "      <td>NaN</td>\n",
       "      <td>NaN</td>\n",
       "    </tr>\n",
       "    <tr>\n",
       "      <th>18</th>\n",
       "      <td>루머: 2020년 iPhone, 센서 전환 손떨림보정 카메라 시스템 채용할 것</td>\n",
       "      <td>NaN</td>\n",
       "      <td>NaN</td>\n",
       "    </tr>\n",
       "    <tr>\n",
       "      <th>19</th>\n",
       "      <td>루머)AMD Ryzen 7 4700U의 3Dmark 포착</td>\n",
       "      <td>NaN</td>\n",
       "      <td>NaN</td>\n",
       "    </tr>\n",
       "    <tr>\n",
       "      <th>20</th>\n",
       "      <td>美협회, '타다금지법' 도입 우려…'신규 참여자 비용 상승'</td>\n",
       "      <td>NaN</td>\n",
       "      <td>NaN</td>\n",
       "    </tr>\n",
       "    <tr>\n",
       "      <th>21</th>\n",
       "      <td>구글 번역, 오프라인 번역 품질 개선했다고 밝혀</td>\n",
       "      <td>NaN</td>\n",
       "      <td>NaN</td>\n",
       "    </tr>\n",
       "    <tr>\n",
       "      <th>22</th>\n",
       "      <td>소니 독점 ToF 드라이버 IC, 동운아나텍 첫 국산화</td>\n",
       "      <td>NaN</td>\n",
       "      <td>NaN</td>\n",
       "    </tr>\n",
       "    <tr>\n",
       "      <th>23</th>\n",
       "      <td>아이폰 '교통카드', 이번엔 될까... 앱 개발사 '연내 정식 출시'</td>\n",
       "      <td>NaN</td>\n",
       "      <td>NaN</td>\n",
       "    </tr>\n",
       "    <tr>\n",
       "      <th>24</th>\n",
       "      <td>토스, LG유플러스 PG사업부 인수</td>\n",
       "      <td>NaN</td>\n",
       "      <td>NaN</td>\n",
       "    </tr>\n",
       "    <tr>\n",
       "      <th>25</th>\n",
       "      <td>리디북스 도서정가제 준수에 따른 이벤트 변경 예정 안내</td>\n",
       "      <td>NaN</td>\n",
       "      <td>NaN</td>\n",
       "    </tr>\n",
       "    <tr>\n",
       "      <th>26</th>\n",
       "      <td>화웨이 “올해 韓서 13조원 썼다...내년엔 더 늘릴 것.”</td>\n",
       "      <td>NaN</td>\n",
       "      <td>NaN</td>\n",
       "    </tr>\n",
       "    <tr>\n",
       "      <th>27</th>\n",
       "      <td>‘게임중독’은 질병?…질병코드 도입 위한 실태조사 실시한다.</td>\n",
       "      <td>NaN</td>\n",
       "      <td>NaN</td>\n",
       "    </tr>\n",
       "    <tr>\n",
       "      <th>28</th>\n",
       "      <td>토종 앱 마켓 원스토어, '굿 파트너' 선정 논란.</td>\n",
       "      <td>NaN</td>\n",
       "      <td>NaN</td>\n",
       "    </tr>\n",
       "    <tr>\n",
       "      <th>29</th>\n",
       "      <td>소니 독점 ToF 드라이버 IC, 동운아나텍 첫 국산화.</td>\n",
       "      <td>NaN</td>\n",
       "      <td>NaN</td>\n",
       "    </tr>\n",
       "  </tbody>\n",
       "</table>\n",
       "</div>"
      ],
      "text/plain": [
       "                                                Title View Date\n",
       "0                             독일 법원, 우버 서비스가 위법하다고 판결  NaN  NaN\n",
       "1                     배민, 수수료 인상 없다더니..배민커넥트 수수료는 인상?  NaN  NaN\n",
       "2       번슈타인 분석가: AirPods, 2020년에 150억 달러 비즈니스 될 수 있어  NaN  NaN\n",
       "3             The Information: 페이스북, 현재 자체 OS 개발하고 있어  NaN  NaN\n",
       "4     애플, 12월 말까지 한시적으로 Shazam 앱 통해 애플뮤직 6개월 무료 구독 제공  NaN  NaN\n",
       "5      이메일 앱 '블루메일' 개발자, 애플이 앱스토어에서 은밀히 앱 랭킹 조작한다고 제소  NaN  NaN\n",
       "6             현대차, 1월 6일 CES 2020에서 비행차 컨셉 일반에게 공개할 것  NaN  NaN\n",
       "7     Motorola, 예상 밖의 높은 수요 때문에 Razr 선주문과 론칭 시기 약간 늦춰  NaN  NaN\n",
       "8                  맥북 프로 반사방지 코팅 수리 프로그램 수리 대상 모델 리스트  NaN  NaN\n",
       "9   노트 10 vs 노트 10 Lite/S10 vs S10 Lite의 사양, 기능, 가...  NaN  NaN\n",
       "10                        껌 속 DNA로 복원한 5700년 전 북유럽 여성  NaN  NaN\n",
       "11                          [애플뮤직] 2019 올해의 플레이리스트 공개  NaN  NaN\n",
       "12                                                 정연  NaN  NaN\n",
       "13                미국에서 스팸전화 1건에 최대 1만달러 벌금 부과하는 법안 통과  NaN  NaN\n",
       "14                                     리눅스 민트 19.3 공개  NaN  NaN\n",
       "15  이메일 사용자명과 패스워드, iOS 13.3으로 구동하는 락이 걸린 iPhone에서...  NaN  NaN\n",
       "16           블룸버그: 애플, 기기에 직접 데이터 전송 위해 위성 기술 개발하고 있어  NaN  NaN\n",
       "17   애플, 버그 보상 프로그램 이제 모든 사람에게 오픈되고 보상금 최대 150만 달러 지불  NaN  NaN\n",
       "18        루머: 2020년 iPhone, 센서 전환 손떨림보정 카메라 시스템 채용할 것  NaN  NaN\n",
       "19                    루머)AMD Ryzen 7 4700U의 3Dmark 포착  NaN  NaN\n",
       "20                  美협회, '타다금지법' 도입 우려…'신규 참여자 비용 상승'  NaN  NaN\n",
       "21                         구글 번역, 오프라인 번역 품질 개선했다고 밝혀  NaN  NaN\n",
       "22                     소니 독점 ToF 드라이버 IC, 동운아나텍 첫 국산화  NaN  NaN\n",
       "23             아이폰 '교통카드', 이번엔 될까... 앱 개발사 '연내 정식 출시'  NaN  NaN\n",
       "24                                토스, LG유플러스 PG사업부 인수  NaN  NaN\n",
       "25                     리디북스 도서정가제 준수에 따른 이벤트 변경 예정 안내  NaN  NaN\n",
       "26                  화웨이 “올해 韓서 13조원 썼다...내년엔 더 늘릴 것.”  NaN  NaN\n",
       "27                  ‘게임중독’은 질병?…질병코드 도입 위한 실태조사 실시한다.  NaN  NaN\n",
       "28                       토종 앱 마켓 원스토어, '굿 파트너' 선정 논란.  NaN  NaN\n",
       "29                    소니 독점 ToF 드라이버 IC, 동운아나텍 첫 국산화.  NaN  NaN"
      ]
     },
     "execution_count": 74,
     "metadata": {},
     "output_type": "execute_result"
    }
   ],
   "source": [
    "CLIEN"
   ]
  },
  {
   "cell_type": "code",
   "execution_count": 75,
   "metadata": {
    "scrolled": true
   },
   "outputs": [],
   "source": [
    "# CLIEN['View'] = View # 자료 길이에 따른 오류발생"
   ]
  },
  {
   "cell_type": "code",
   "execution_count": 76,
   "metadata": {},
   "outputs": [
    {
     "data": {
      "text/plain": [
       "(30, 3)"
      ]
     },
     "execution_count": 76,
     "metadata": {},
     "output_type": "execute_result"
    }
   ],
   "source": [
    "CLIEN.shape"
   ]
  },
  {
   "cell_type": "code",
   "execution_count": 77,
   "metadata": {},
   "outputs": [
    {
     "name": "stdout",
     "output_type": "stream",
     "text": [
      "32\n"
     ]
    }
   ],
   "source": [
    "print(len(View))"
   ]
  },
  {
   "cell_type": "code",
   "execution_count": 78,
   "metadata": {
    "scrolled": true
   },
   "outputs": [
    {
     "data": {
      "text/plain": [
       "['560.4 k',\n",
       " '29',\n",
       " '2176',\n",
       " '5400',\n",
       " '3931',\n",
       " '2617',\n",
       " '6791',\n",
       " '4171',\n",
       " '4404',\n",
       " '4141',\n",
       " '3224',\n",
       " '2917',\n",
       " '6017',\n",
       " '666',\n",
       " '5676',\n",
       " '21.2 k',\n",
       " '11.8 k',\n",
       " '9393',\n",
       " '6790',\n",
       " '7368',\n",
       " '9007',\n",
       " '5965',\n",
       " '8267',\n",
       " '6403',\n",
       " '4851',\n",
       " '14.5 k',\n",
       " '10.6 k',\n",
       " '12.2 k',\n",
       " '11.2 k',\n",
       " '3146',\n",
       " '6171',\n",
       " '3804']"
      ]
     },
     "execution_count": 78,
     "metadata": {},
     "output_type": "execute_result"
    }
   ],
   "source": [
    "View"
   ]
  },
  {
   "cell_type": "code",
   "execution_count": 79,
   "metadata": {
    "scrolled": true
   },
   "outputs": [
    {
     "data": {
      "text/plain": [
       "['2176',\n",
       " '5400',\n",
       " '3931',\n",
       " '2617',\n",
       " '6791',\n",
       " '4171',\n",
       " '4404',\n",
       " '4141',\n",
       " '3224',\n",
       " '2917',\n",
       " '6017',\n",
       " '666',\n",
       " '5676',\n",
       " '21.2 k',\n",
       " '11.8 k',\n",
       " '9393',\n",
       " '6790',\n",
       " '7368',\n",
       " '9007',\n",
       " '5965',\n",
       " '8267',\n",
       " '6403',\n",
       " '4851',\n",
       " '14.5 k',\n",
       " '10.6 k',\n",
       " '12.2 k',\n",
       " '11.2 k',\n",
       " '3146',\n",
       " '6171',\n",
       " '3804']"
      ]
     },
     "execution_count": 79,
     "metadata": {},
     "output_type": "execute_result"
    }
   ],
   "source": [
    "View[2:]"
   ]
  },
  {
   "cell_type": "code",
   "execution_count": 80,
   "metadata": {},
   "outputs": [
    {
     "name": "stdout",
     "output_type": "stream",
     "text": [
      "30\n"
     ]
    }
   ],
   "source": [
    "print(len(View[2:]))"
   ]
  },
  {
   "cell_type": "code",
   "execution_count": 81,
   "metadata": {},
   "outputs": [],
   "source": [
    "ViewCount = View[2:]"
   ]
  },
  {
   "cell_type": "code",
   "execution_count": 82,
   "metadata": {},
   "outputs": [],
   "source": [
    "CLIEN['View'] = ViewCount"
   ]
  },
  {
   "cell_type": "code",
   "execution_count": 83,
   "metadata": {
    "scrolled": true
   },
   "outputs": [
    {
     "data": {
      "text/html": [
       "<div>\n",
       "<style scoped>\n",
       "    .dataframe tbody tr th:only-of-type {\n",
       "        vertical-align: middle;\n",
       "    }\n",
       "\n",
       "    .dataframe tbody tr th {\n",
       "        vertical-align: top;\n",
       "    }\n",
       "\n",
       "    .dataframe thead th {\n",
       "        text-align: right;\n",
       "    }\n",
       "</style>\n",
       "<table border=\"1\" class=\"dataframe\">\n",
       "  <thead>\n",
       "    <tr style=\"text-align: right;\">\n",
       "      <th></th>\n",
       "      <th>Title</th>\n",
       "      <th>View</th>\n",
       "      <th>Date</th>\n",
       "    </tr>\n",
       "  </thead>\n",
       "  <tbody>\n",
       "    <tr>\n",
       "      <th>0</th>\n",
       "      <td>독일 법원, 우버 서비스가 위법하다고 판결</td>\n",
       "      <td>2176</td>\n",
       "      <td>NaN</td>\n",
       "    </tr>\n",
       "    <tr>\n",
       "      <th>1</th>\n",
       "      <td>배민, 수수료 인상 없다더니..배민커넥트 수수료는 인상?</td>\n",
       "      <td>5400</td>\n",
       "      <td>NaN</td>\n",
       "    </tr>\n",
       "    <tr>\n",
       "      <th>2</th>\n",
       "      <td>번슈타인 분석가: AirPods, 2020년에 150억 달러 비즈니스 될 수 있어</td>\n",
       "      <td>3931</td>\n",
       "      <td>NaN</td>\n",
       "    </tr>\n",
       "    <tr>\n",
       "      <th>3</th>\n",
       "      <td>The Information: 페이스북, 현재 자체 OS 개발하고 있어</td>\n",
       "      <td>2617</td>\n",
       "      <td>NaN</td>\n",
       "    </tr>\n",
       "    <tr>\n",
       "      <th>4</th>\n",
       "      <td>애플, 12월 말까지 한시적으로 Shazam 앱 통해 애플뮤직 6개월 무료 구독 제공</td>\n",
       "      <td>6791</td>\n",
       "      <td>NaN</td>\n",
       "    </tr>\n",
       "    <tr>\n",
       "      <th>5</th>\n",
       "      <td>이메일 앱 '블루메일' 개발자, 애플이 앱스토어에서 은밀히 앱 랭킹 조작한다고 제소</td>\n",
       "      <td>4171</td>\n",
       "      <td>NaN</td>\n",
       "    </tr>\n",
       "    <tr>\n",
       "      <th>6</th>\n",
       "      <td>현대차, 1월 6일 CES 2020에서 비행차 컨셉 일반에게 공개할 것</td>\n",
       "      <td>4404</td>\n",
       "      <td>NaN</td>\n",
       "    </tr>\n",
       "    <tr>\n",
       "      <th>7</th>\n",
       "      <td>Motorola, 예상 밖의 높은 수요 때문에 Razr 선주문과 론칭 시기 약간 늦춰</td>\n",
       "      <td>4141</td>\n",
       "      <td>NaN</td>\n",
       "    </tr>\n",
       "    <tr>\n",
       "      <th>8</th>\n",
       "      <td>맥북 프로 반사방지 코팅 수리 프로그램 수리 대상 모델 리스트</td>\n",
       "      <td>3224</td>\n",
       "      <td>NaN</td>\n",
       "    </tr>\n",
       "    <tr>\n",
       "      <th>9</th>\n",
       "      <td>노트 10 vs 노트 10 Lite/S10 vs S10 Lite의 사양, 기능, 가...</td>\n",
       "      <td>2917</td>\n",
       "      <td>NaN</td>\n",
       "    </tr>\n",
       "    <tr>\n",
       "      <th>10</th>\n",
       "      <td>껌 속 DNA로 복원한 5700년 전 북유럽 여성</td>\n",
       "      <td>6017</td>\n",
       "      <td>NaN</td>\n",
       "    </tr>\n",
       "    <tr>\n",
       "      <th>11</th>\n",
       "      <td>[애플뮤직] 2019 올해의 플레이리스트 공개</td>\n",
       "      <td>666</td>\n",
       "      <td>NaN</td>\n",
       "    </tr>\n",
       "    <tr>\n",
       "      <th>12</th>\n",
       "      <td>정연</td>\n",
       "      <td>5676</td>\n",
       "      <td>NaN</td>\n",
       "    </tr>\n",
       "    <tr>\n",
       "      <th>13</th>\n",
       "      <td>미국에서 스팸전화 1건에 최대 1만달러 벌금 부과하는 법안 통과</td>\n",
       "      <td>21.2 k</td>\n",
       "      <td>NaN</td>\n",
       "    </tr>\n",
       "    <tr>\n",
       "      <th>14</th>\n",
       "      <td>리눅스 민트 19.3 공개</td>\n",
       "      <td>11.8 k</td>\n",
       "      <td>NaN</td>\n",
       "    </tr>\n",
       "    <tr>\n",
       "      <th>15</th>\n",
       "      <td>이메일 사용자명과 패스워드, iOS 13.3으로 구동하는 락이 걸린 iPhone에서...</td>\n",
       "      <td>9393</td>\n",
       "      <td>NaN</td>\n",
       "    </tr>\n",
       "    <tr>\n",
       "      <th>16</th>\n",
       "      <td>블룸버그: 애플, 기기에 직접 데이터 전송 위해 위성 기술 개발하고 있어</td>\n",
       "      <td>6790</td>\n",
       "      <td>NaN</td>\n",
       "    </tr>\n",
       "    <tr>\n",
       "      <th>17</th>\n",
       "      <td>애플, 버그 보상 프로그램 이제 모든 사람에게 오픈되고 보상금 최대 150만 달러 지불</td>\n",
       "      <td>7368</td>\n",
       "      <td>NaN</td>\n",
       "    </tr>\n",
       "    <tr>\n",
       "      <th>18</th>\n",
       "      <td>루머: 2020년 iPhone, 센서 전환 손떨림보정 카메라 시스템 채용할 것</td>\n",
       "      <td>9007</td>\n",
       "      <td>NaN</td>\n",
       "    </tr>\n",
       "    <tr>\n",
       "      <th>19</th>\n",
       "      <td>루머)AMD Ryzen 7 4700U의 3Dmark 포착</td>\n",
       "      <td>5965</td>\n",
       "      <td>NaN</td>\n",
       "    </tr>\n",
       "    <tr>\n",
       "      <th>20</th>\n",
       "      <td>美협회, '타다금지법' 도입 우려…'신규 참여자 비용 상승'</td>\n",
       "      <td>8267</td>\n",
       "      <td>NaN</td>\n",
       "    </tr>\n",
       "    <tr>\n",
       "      <th>21</th>\n",
       "      <td>구글 번역, 오프라인 번역 품질 개선했다고 밝혀</td>\n",
       "      <td>6403</td>\n",
       "      <td>NaN</td>\n",
       "    </tr>\n",
       "    <tr>\n",
       "      <th>22</th>\n",
       "      <td>소니 독점 ToF 드라이버 IC, 동운아나텍 첫 국산화</td>\n",
       "      <td>4851</td>\n",
       "      <td>NaN</td>\n",
       "    </tr>\n",
       "    <tr>\n",
       "      <th>23</th>\n",
       "      <td>아이폰 '교통카드', 이번엔 될까... 앱 개발사 '연내 정식 출시'</td>\n",
       "      <td>14.5 k</td>\n",
       "      <td>NaN</td>\n",
       "    </tr>\n",
       "    <tr>\n",
       "      <th>24</th>\n",
       "      <td>토스, LG유플러스 PG사업부 인수</td>\n",
       "      <td>10.6 k</td>\n",
       "      <td>NaN</td>\n",
       "    </tr>\n",
       "    <tr>\n",
       "      <th>25</th>\n",
       "      <td>리디북스 도서정가제 준수에 따른 이벤트 변경 예정 안내</td>\n",
       "      <td>12.2 k</td>\n",
       "      <td>NaN</td>\n",
       "    </tr>\n",
       "    <tr>\n",
       "      <th>26</th>\n",
       "      <td>화웨이 “올해 韓서 13조원 썼다...내년엔 더 늘릴 것.”</td>\n",
       "      <td>11.2 k</td>\n",
       "      <td>NaN</td>\n",
       "    </tr>\n",
       "    <tr>\n",
       "      <th>27</th>\n",
       "      <td>‘게임중독’은 질병?…질병코드 도입 위한 실태조사 실시한다.</td>\n",
       "      <td>3146</td>\n",
       "      <td>NaN</td>\n",
       "    </tr>\n",
       "    <tr>\n",
       "      <th>28</th>\n",
       "      <td>토종 앱 마켓 원스토어, '굿 파트너' 선정 논란.</td>\n",
       "      <td>6171</td>\n",
       "      <td>NaN</td>\n",
       "    </tr>\n",
       "    <tr>\n",
       "      <th>29</th>\n",
       "      <td>소니 독점 ToF 드라이버 IC, 동운아나텍 첫 국산화.</td>\n",
       "      <td>3804</td>\n",
       "      <td>NaN</td>\n",
       "    </tr>\n",
       "  </tbody>\n",
       "</table>\n",
       "</div>"
      ],
      "text/plain": [
       "                                                Title    View Date\n",
       "0                             독일 법원, 우버 서비스가 위법하다고 판결    2176  NaN\n",
       "1                     배민, 수수료 인상 없다더니..배민커넥트 수수료는 인상?    5400  NaN\n",
       "2       번슈타인 분석가: AirPods, 2020년에 150억 달러 비즈니스 될 수 있어    3931  NaN\n",
       "3             The Information: 페이스북, 현재 자체 OS 개발하고 있어    2617  NaN\n",
       "4     애플, 12월 말까지 한시적으로 Shazam 앱 통해 애플뮤직 6개월 무료 구독 제공    6791  NaN\n",
       "5      이메일 앱 '블루메일' 개발자, 애플이 앱스토어에서 은밀히 앱 랭킹 조작한다고 제소    4171  NaN\n",
       "6             현대차, 1월 6일 CES 2020에서 비행차 컨셉 일반에게 공개할 것    4404  NaN\n",
       "7     Motorola, 예상 밖의 높은 수요 때문에 Razr 선주문과 론칭 시기 약간 늦춰    4141  NaN\n",
       "8                  맥북 프로 반사방지 코팅 수리 프로그램 수리 대상 모델 리스트    3224  NaN\n",
       "9   노트 10 vs 노트 10 Lite/S10 vs S10 Lite의 사양, 기능, 가...    2917  NaN\n",
       "10                        껌 속 DNA로 복원한 5700년 전 북유럽 여성    6017  NaN\n",
       "11                          [애플뮤직] 2019 올해의 플레이리스트 공개     666  NaN\n",
       "12                                                 정연    5676  NaN\n",
       "13                미국에서 스팸전화 1건에 최대 1만달러 벌금 부과하는 법안 통과  21.2 k  NaN\n",
       "14                                     리눅스 민트 19.3 공개  11.8 k  NaN\n",
       "15  이메일 사용자명과 패스워드, iOS 13.3으로 구동하는 락이 걸린 iPhone에서...    9393  NaN\n",
       "16           블룸버그: 애플, 기기에 직접 데이터 전송 위해 위성 기술 개발하고 있어    6790  NaN\n",
       "17   애플, 버그 보상 프로그램 이제 모든 사람에게 오픈되고 보상금 최대 150만 달러 지불    7368  NaN\n",
       "18        루머: 2020년 iPhone, 센서 전환 손떨림보정 카메라 시스템 채용할 것    9007  NaN\n",
       "19                    루머)AMD Ryzen 7 4700U의 3Dmark 포착    5965  NaN\n",
       "20                  美협회, '타다금지법' 도입 우려…'신규 참여자 비용 상승'    8267  NaN\n",
       "21                         구글 번역, 오프라인 번역 품질 개선했다고 밝혀    6403  NaN\n",
       "22                     소니 독점 ToF 드라이버 IC, 동운아나텍 첫 국산화    4851  NaN\n",
       "23             아이폰 '교통카드', 이번엔 될까... 앱 개발사 '연내 정식 출시'  14.5 k  NaN\n",
       "24                                토스, LG유플러스 PG사업부 인수  10.6 k  NaN\n",
       "25                     리디북스 도서정가제 준수에 따른 이벤트 변경 예정 안내  12.2 k  NaN\n",
       "26                  화웨이 “올해 韓서 13조원 썼다...내년엔 더 늘릴 것.”  11.2 k  NaN\n",
       "27                  ‘게임중독’은 질병?…질병코드 도입 위한 실태조사 실시한다.    3146  NaN\n",
       "28                       토종 앱 마켓 원스토어, '굿 파트너' 선정 논란.    6171  NaN\n",
       "29                    소니 독점 ToF 드라이버 IC, 동운아나텍 첫 국산화.    3804  NaN"
      ]
     },
     "execution_count": 83,
     "metadata": {},
     "output_type": "execute_result"
    }
   ],
   "source": [
    "CLIEN"
   ]
  },
  {
   "cell_type": "code",
   "execution_count": 84,
   "metadata": {},
   "outputs": [
    {
     "name": "stdout",
     "output_type": "stream",
     "text": [
      "32\n"
     ]
    }
   ],
   "source": [
    "print(len(PostDate))"
   ]
  },
  {
   "cell_type": "code",
   "execution_count": 85,
   "metadata": {
    "scrolled": true
   },
   "outputs": [
    {
     "data": {
      "text/plain": [
       "['05-07',\n",
       " '12-20',\n",
       " '12:43',\n",
       " '12:06',\n",
       " '11:12',\n",
       " '11:09',\n",
       " '11:06',\n",
       " '11:03',\n",
       " '11:02',\n",
       " '11:00',\n",
       " '10:59',\n",
       " '10:56',\n",
       " '10:24',\n",
       " '10:06',\n",
       " '05:59',\n",
       " '01:48',\n",
       " '01:10',\n",
       " '00:49',\n",
       " '00:43',\n",
       " '00:41',\n",
       " '00:40',\n",
       " '12-20',\n",
       " '12-20',\n",
       " '12-20',\n",
       " '12-20',\n",
       " '12-20',\n",
       " '12-20',\n",
       " '12-20',\n",
       " '12-20',\n",
       " '12-20',\n",
       " '12-20',\n",
       " '12-20']"
      ]
     },
     "execution_count": 85,
     "metadata": {},
     "output_type": "execute_result"
    }
   ],
   "source": [
    "PostDate"
   ]
  },
  {
   "cell_type": "code",
   "execution_count": 86,
   "metadata": {},
   "outputs": [
    {
     "data": {
      "text/plain": [
       "['12:43',\n",
       " '12:06',\n",
       " '11:12',\n",
       " '11:09',\n",
       " '11:06',\n",
       " '11:03',\n",
       " '11:02',\n",
       " '11:00',\n",
       " '10:59',\n",
       " '10:56',\n",
       " '10:24',\n",
       " '10:06',\n",
       " '05:59',\n",
       " '01:48',\n",
       " '01:10',\n",
       " '00:49',\n",
       " '00:43',\n",
       " '00:41',\n",
       " '00:40',\n",
       " '12-20',\n",
       " '12-20',\n",
       " '12-20',\n",
       " '12-20',\n",
       " '12-20',\n",
       " '12-20',\n",
       " '12-20',\n",
       " '12-20',\n",
       " '12-20',\n",
       " '12-20',\n",
       " '12-20']"
      ]
     },
     "execution_count": 86,
     "metadata": {},
     "output_type": "execute_result"
    }
   ],
   "source": [
    "PostDate[2:]"
   ]
  },
  {
   "cell_type": "code",
   "execution_count": 87,
   "metadata": {},
   "outputs": [],
   "source": [
    "UploadDate = PostDate[2:]"
   ]
  },
  {
   "cell_type": "code",
   "execution_count": 88,
   "metadata": {},
   "outputs": [],
   "source": [
    "CLIEN['Date'] = UploadDate"
   ]
  },
  {
   "cell_type": "code",
   "execution_count": 89,
   "metadata": {},
   "outputs": [
    {
     "data": {
      "text/html": [
       "<div>\n",
       "<style scoped>\n",
       "    .dataframe tbody tr th:only-of-type {\n",
       "        vertical-align: middle;\n",
       "    }\n",
       "\n",
       "    .dataframe tbody tr th {\n",
       "        vertical-align: top;\n",
       "    }\n",
       "\n",
       "    .dataframe thead th {\n",
       "        text-align: right;\n",
       "    }\n",
       "</style>\n",
       "<table border=\"1\" class=\"dataframe\">\n",
       "  <thead>\n",
       "    <tr style=\"text-align: right;\">\n",
       "      <th></th>\n",
       "      <th>Title</th>\n",
       "      <th>View</th>\n",
       "      <th>Date</th>\n",
       "    </tr>\n",
       "  </thead>\n",
       "  <tbody>\n",
       "    <tr>\n",
       "      <th>0</th>\n",
       "      <td>독일 법원, 우버 서비스가 위법하다고 판결</td>\n",
       "      <td>2176</td>\n",
       "      <td>12:43</td>\n",
       "    </tr>\n",
       "    <tr>\n",
       "      <th>1</th>\n",
       "      <td>배민, 수수료 인상 없다더니..배민커넥트 수수료는 인상?</td>\n",
       "      <td>5400</td>\n",
       "      <td>12:06</td>\n",
       "    </tr>\n",
       "    <tr>\n",
       "      <th>2</th>\n",
       "      <td>번슈타인 분석가: AirPods, 2020년에 150억 달러 비즈니스 될 수 있어</td>\n",
       "      <td>3931</td>\n",
       "      <td>11:12</td>\n",
       "    </tr>\n",
       "    <tr>\n",
       "      <th>3</th>\n",
       "      <td>The Information: 페이스북, 현재 자체 OS 개발하고 있어</td>\n",
       "      <td>2617</td>\n",
       "      <td>11:09</td>\n",
       "    </tr>\n",
       "    <tr>\n",
       "      <th>4</th>\n",
       "      <td>애플, 12월 말까지 한시적으로 Shazam 앱 통해 애플뮤직 6개월 무료 구독 제공</td>\n",
       "      <td>6791</td>\n",
       "      <td>11:06</td>\n",
       "    </tr>\n",
       "    <tr>\n",
       "      <th>5</th>\n",
       "      <td>이메일 앱 '블루메일' 개발자, 애플이 앱스토어에서 은밀히 앱 랭킹 조작한다고 제소</td>\n",
       "      <td>4171</td>\n",
       "      <td>11:03</td>\n",
       "    </tr>\n",
       "    <tr>\n",
       "      <th>6</th>\n",
       "      <td>현대차, 1월 6일 CES 2020에서 비행차 컨셉 일반에게 공개할 것</td>\n",
       "      <td>4404</td>\n",
       "      <td>11:02</td>\n",
       "    </tr>\n",
       "    <tr>\n",
       "      <th>7</th>\n",
       "      <td>Motorola, 예상 밖의 높은 수요 때문에 Razr 선주문과 론칭 시기 약간 늦춰</td>\n",
       "      <td>4141</td>\n",
       "      <td>11:00</td>\n",
       "    </tr>\n",
       "    <tr>\n",
       "      <th>8</th>\n",
       "      <td>맥북 프로 반사방지 코팅 수리 프로그램 수리 대상 모델 리스트</td>\n",
       "      <td>3224</td>\n",
       "      <td>10:59</td>\n",
       "    </tr>\n",
       "    <tr>\n",
       "      <th>9</th>\n",
       "      <td>노트 10 vs 노트 10 Lite/S10 vs S10 Lite의 사양, 기능, 가...</td>\n",
       "      <td>2917</td>\n",
       "      <td>10:56</td>\n",
       "    </tr>\n",
       "    <tr>\n",
       "      <th>10</th>\n",
       "      <td>껌 속 DNA로 복원한 5700년 전 북유럽 여성</td>\n",
       "      <td>6017</td>\n",
       "      <td>10:24</td>\n",
       "    </tr>\n",
       "    <tr>\n",
       "      <th>11</th>\n",
       "      <td>[애플뮤직] 2019 올해의 플레이리스트 공개</td>\n",
       "      <td>666</td>\n",
       "      <td>10:06</td>\n",
       "    </tr>\n",
       "    <tr>\n",
       "      <th>12</th>\n",
       "      <td>정연</td>\n",
       "      <td>5676</td>\n",
       "      <td>05:59</td>\n",
       "    </tr>\n",
       "    <tr>\n",
       "      <th>13</th>\n",
       "      <td>미국에서 스팸전화 1건에 최대 1만달러 벌금 부과하는 법안 통과</td>\n",
       "      <td>21.2 k</td>\n",
       "      <td>01:48</td>\n",
       "    </tr>\n",
       "    <tr>\n",
       "      <th>14</th>\n",
       "      <td>리눅스 민트 19.3 공개</td>\n",
       "      <td>11.8 k</td>\n",
       "      <td>01:10</td>\n",
       "    </tr>\n",
       "    <tr>\n",
       "      <th>15</th>\n",
       "      <td>이메일 사용자명과 패스워드, iOS 13.3으로 구동하는 락이 걸린 iPhone에서...</td>\n",
       "      <td>9393</td>\n",
       "      <td>00:49</td>\n",
       "    </tr>\n",
       "    <tr>\n",
       "      <th>16</th>\n",
       "      <td>블룸버그: 애플, 기기에 직접 데이터 전송 위해 위성 기술 개발하고 있어</td>\n",
       "      <td>6790</td>\n",
       "      <td>00:43</td>\n",
       "    </tr>\n",
       "    <tr>\n",
       "      <th>17</th>\n",
       "      <td>애플, 버그 보상 프로그램 이제 모든 사람에게 오픈되고 보상금 최대 150만 달러 지불</td>\n",
       "      <td>7368</td>\n",
       "      <td>00:41</td>\n",
       "    </tr>\n",
       "    <tr>\n",
       "      <th>18</th>\n",
       "      <td>루머: 2020년 iPhone, 센서 전환 손떨림보정 카메라 시스템 채용할 것</td>\n",
       "      <td>9007</td>\n",
       "      <td>00:40</td>\n",
       "    </tr>\n",
       "    <tr>\n",
       "      <th>19</th>\n",
       "      <td>루머)AMD Ryzen 7 4700U의 3Dmark 포착</td>\n",
       "      <td>5965</td>\n",
       "      <td>12-20</td>\n",
       "    </tr>\n",
       "    <tr>\n",
       "      <th>20</th>\n",
       "      <td>美협회, '타다금지법' 도입 우려…'신규 참여자 비용 상승'</td>\n",
       "      <td>8267</td>\n",
       "      <td>12-20</td>\n",
       "    </tr>\n",
       "    <tr>\n",
       "      <th>21</th>\n",
       "      <td>구글 번역, 오프라인 번역 품질 개선했다고 밝혀</td>\n",
       "      <td>6403</td>\n",
       "      <td>12-20</td>\n",
       "    </tr>\n",
       "    <tr>\n",
       "      <th>22</th>\n",
       "      <td>소니 독점 ToF 드라이버 IC, 동운아나텍 첫 국산화</td>\n",
       "      <td>4851</td>\n",
       "      <td>12-20</td>\n",
       "    </tr>\n",
       "    <tr>\n",
       "      <th>23</th>\n",
       "      <td>아이폰 '교통카드', 이번엔 될까... 앱 개발사 '연내 정식 출시'</td>\n",
       "      <td>14.5 k</td>\n",
       "      <td>12-20</td>\n",
       "    </tr>\n",
       "    <tr>\n",
       "      <th>24</th>\n",
       "      <td>토스, LG유플러스 PG사업부 인수</td>\n",
       "      <td>10.6 k</td>\n",
       "      <td>12-20</td>\n",
       "    </tr>\n",
       "    <tr>\n",
       "      <th>25</th>\n",
       "      <td>리디북스 도서정가제 준수에 따른 이벤트 변경 예정 안내</td>\n",
       "      <td>12.2 k</td>\n",
       "      <td>12-20</td>\n",
       "    </tr>\n",
       "    <tr>\n",
       "      <th>26</th>\n",
       "      <td>화웨이 “올해 韓서 13조원 썼다...내년엔 더 늘릴 것.”</td>\n",
       "      <td>11.2 k</td>\n",
       "      <td>12-20</td>\n",
       "    </tr>\n",
       "    <tr>\n",
       "      <th>27</th>\n",
       "      <td>‘게임중독’은 질병?…질병코드 도입 위한 실태조사 실시한다.</td>\n",
       "      <td>3146</td>\n",
       "      <td>12-20</td>\n",
       "    </tr>\n",
       "    <tr>\n",
       "      <th>28</th>\n",
       "      <td>토종 앱 마켓 원스토어, '굿 파트너' 선정 논란.</td>\n",
       "      <td>6171</td>\n",
       "      <td>12-20</td>\n",
       "    </tr>\n",
       "    <tr>\n",
       "      <th>29</th>\n",
       "      <td>소니 독점 ToF 드라이버 IC, 동운아나텍 첫 국산화.</td>\n",
       "      <td>3804</td>\n",
       "      <td>12-20</td>\n",
       "    </tr>\n",
       "  </tbody>\n",
       "</table>\n",
       "</div>"
      ],
      "text/plain": [
       "                                                Title    View   Date\n",
       "0                             독일 법원, 우버 서비스가 위법하다고 판결    2176  12:43\n",
       "1                     배민, 수수료 인상 없다더니..배민커넥트 수수료는 인상?    5400  12:06\n",
       "2       번슈타인 분석가: AirPods, 2020년에 150억 달러 비즈니스 될 수 있어    3931  11:12\n",
       "3             The Information: 페이스북, 현재 자체 OS 개발하고 있어    2617  11:09\n",
       "4     애플, 12월 말까지 한시적으로 Shazam 앱 통해 애플뮤직 6개월 무료 구독 제공    6791  11:06\n",
       "5      이메일 앱 '블루메일' 개발자, 애플이 앱스토어에서 은밀히 앱 랭킹 조작한다고 제소    4171  11:03\n",
       "6             현대차, 1월 6일 CES 2020에서 비행차 컨셉 일반에게 공개할 것    4404  11:02\n",
       "7     Motorola, 예상 밖의 높은 수요 때문에 Razr 선주문과 론칭 시기 약간 늦춰    4141  11:00\n",
       "8                  맥북 프로 반사방지 코팅 수리 프로그램 수리 대상 모델 리스트    3224  10:59\n",
       "9   노트 10 vs 노트 10 Lite/S10 vs S10 Lite의 사양, 기능, 가...    2917  10:56\n",
       "10                        껌 속 DNA로 복원한 5700년 전 북유럽 여성    6017  10:24\n",
       "11                          [애플뮤직] 2019 올해의 플레이리스트 공개     666  10:06\n",
       "12                                                 정연    5676  05:59\n",
       "13                미국에서 스팸전화 1건에 최대 1만달러 벌금 부과하는 법안 통과  21.2 k  01:48\n",
       "14                                     리눅스 민트 19.3 공개  11.8 k  01:10\n",
       "15  이메일 사용자명과 패스워드, iOS 13.3으로 구동하는 락이 걸린 iPhone에서...    9393  00:49\n",
       "16           블룸버그: 애플, 기기에 직접 데이터 전송 위해 위성 기술 개발하고 있어    6790  00:43\n",
       "17   애플, 버그 보상 프로그램 이제 모든 사람에게 오픈되고 보상금 최대 150만 달러 지불    7368  00:41\n",
       "18        루머: 2020년 iPhone, 센서 전환 손떨림보정 카메라 시스템 채용할 것    9007  00:40\n",
       "19                    루머)AMD Ryzen 7 4700U의 3Dmark 포착    5965  12-20\n",
       "20                  美협회, '타다금지법' 도입 우려…'신규 참여자 비용 상승'    8267  12-20\n",
       "21                         구글 번역, 오프라인 번역 품질 개선했다고 밝혀    6403  12-20\n",
       "22                     소니 독점 ToF 드라이버 IC, 동운아나텍 첫 국산화    4851  12-20\n",
       "23             아이폰 '교통카드', 이번엔 될까... 앱 개발사 '연내 정식 출시'  14.5 k  12-20\n",
       "24                                토스, LG유플러스 PG사업부 인수  10.6 k  12-20\n",
       "25                     리디북스 도서정가제 준수에 따른 이벤트 변경 예정 안내  12.2 k  12-20\n",
       "26                  화웨이 “올해 韓서 13조원 썼다...내년엔 더 늘릴 것.”  11.2 k  12-20\n",
       "27                  ‘게임중독’은 질병?…질병코드 도입 위한 실태조사 실시한다.    3146  12-20\n",
       "28                       토종 앱 마켓 원스토어, '굿 파트너' 선정 논란.    6171  12-20\n",
       "29                    소니 독점 ToF 드라이버 IC, 동운아나텍 첫 국산화.    3804  12-20"
      ]
     },
     "execution_count": 89,
     "metadata": {},
     "output_type": "execute_result"
    }
   ],
   "source": [
    "CLIEN"
   ]
  },
  {
   "cell_type": "code",
   "execution_count": 90,
   "metadata": {},
   "outputs": [
    {
     "name": "stdout",
     "output_type": "stream",
     "text": [
      "/Users/jiwonjang/python_tutorial/ve_env/강의자료_크롤링\n"
     ]
    }
   ],
   "source": [
    "import os\n",
    "print(os.getcwd())\n",
    "# CLIEN.to_csv('clienInfo.csv', header=True, encoding='utf-8') \n",
    "# 윈도우 유저는 encoding ='cp949' / encoding ='euc-kr'"
   ]
  },
  {
   "cell_type": "markdown",
   "metadata": {},
   "source": [
    "# Post content 추가 수집"
   ]
  },
  {
   "cell_type": "code",
   "execution_count": 91,
   "metadata": {},
   "outputs": [],
   "source": [
    "ContentsHref = driver.find_elements_by_class_name('list_subject')"
   ]
  },
  {
   "cell_type": "code",
   "execution_count": 94,
   "metadata": {},
   "outputs": [],
   "source": [
    "Hrefs = []\n",
    "for i in ContentsHref:\n",
    "    Hrefs.append(i.get_attribute('href'))\n",
    "#     print(i.get_attribute('href'))"
   ]
  },
  {
   "cell_type": "code",
   "execution_count": 96,
   "metadata": {},
   "outputs": [
    {
     "name": "stdout",
     "output_type": "stream",
     "text": [
      "32\n"
     ]
    }
   ],
   "source": [
    "print(len(Hrefs))"
   ]
  },
  {
   "cell_type": "code",
   "execution_count": 100,
   "metadata": {},
   "outputs": [
    {
     "name": "stdout",
     "output_type": "stream",
     "text": [
      "https://www.clien.net/service/board/rule/10707403\n",
      "https://www.clien.net/service/board/hongbo/14409642\n",
      "https://www.clien.net/service/board/news/14413116?od=T31&po=0&category=&groupCd=allinfo\n",
      "https://www.clien.net/service/board/news/14413025?od=T31&po=0&category=&groupCd=allinfo\n",
      "https://www.clien.net/service/board/news/14412862?od=T31&po=0&category=&groupCd=allinfo\n",
      "https://www.clien.net/service/board/news/14412848?od=T31&po=0&category=&groupCd=allinfo\n",
      "https://www.clien.net/service/board/news/14412840?od=T31&po=0&category=&groupCd=allinfo\n",
      "https://www.clien.net/service/board/news/14412838?od=T31&po=0&category=&groupCd=allinfo\n",
      "https://www.clien.net/service/board/news/14412831?od=T31&po=0&category=&groupCd=allinfo\n",
      "https://www.clien.net/service/board/news/14412827?od=T31&po=0&category=&groupCd=allinfo\n",
      "https://www.clien.net/service/board/news/14412819?od=T31&po=0&category=&groupCd=allinfo\n",
      "https://www.clien.net/service/board/news/14412812?od=T31&po=0&category=&groupCd=allinfo\n",
      "https://www.clien.net/service/board/news/14412714?od=T31&po=0&category=&groupCd=allinfo\n",
      "https://www.clien.net/service/board/pds/14412674?od=T31&po=0&category=&groupCd=allinfo\n",
      "https://www.clien.net/service/board/pds/14412415?od=T31&po=0&category=&groupCd=allinfo\n",
      "https://www.clien.net/service/board/news/14412326?od=T31&po=0&category=&groupCd=allinfo\n",
      "https://www.clien.net/service/board/news/14412288?od=T31&po=0&category=&groupCd=allinfo\n",
      "https://www.clien.net/service/board/news/14412252?od=T31&po=0&category=&groupCd=allinfo\n",
      "https://www.clien.net/service/board/news/14412241?od=T31&po=0&category=&groupCd=allinfo\n",
      "https://www.clien.net/service/board/news/14412236?od=T31&po=0&category=&groupCd=allinfo\n",
      "https://www.clien.net/service/board/news/14412230?od=T31&po=0&category=&groupCd=allinfo\n",
      "https://www.clien.net/service/board/news/14412089?od=T31&po=0&category=&groupCd=allinfo\n",
      "https://www.clien.net/service/board/news/14411734?od=T31&po=0&category=&groupCd=allinfo\n",
      "https://www.clien.net/service/board/news/14411674?od=T31&po=0&category=&groupCd=allinfo\n",
      "https://www.clien.net/service/board/news/14411542?od=T31&po=0&category=&groupCd=allinfo\n",
      "https://www.clien.net/service/board/news/14411539?od=T31&po=0&category=&groupCd=allinfo\n",
      "https://www.clien.net/service/board/news/14411399?od=T31&po=0&category=&groupCd=allinfo\n",
      "https://www.clien.net/service/board/news/14411206?od=T31&po=0&category=&groupCd=allinfo\n",
      "https://www.clien.net/service/board/news/14411069?od=T31&po=0&category=&groupCd=allinfo\n",
      "https://www.clien.net/service/board/news/14411068?od=T31&po=0&category=&groupCd=allinfo\n",
      "https://www.clien.net/service/board/news/14411066?od=T31&po=0&category=&groupCd=allinfo\n",
      "https://www.clien.net/service/board/news/14411064?od=T31&po=0&category=&groupCd=allinfo\n"
     ]
    }
   ],
   "source": [
    "for i in Hrefs:\n",
    "    print(i)"
   ]
  },
  {
   "cell_type": "code",
   "execution_count": 101,
   "metadata": {},
   "outputs": [],
   "source": [
    "Hrefs = Hrefs[2:]"
   ]
  },
  {
   "cell_type": "code",
   "execution_count": 103,
   "metadata": {},
   "outputs": [
    {
     "name": "stdout",
     "output_type": "stream",
     "text": [
      "30\n",
      "https://www.clien.net/service/board/news/14413116?od=T31&po=0&category=&groupCd=allinfo\n",
      "https://www.clien.net/service/board/news/14413025?od=T31&po=0&category=&groupCd=allinfo\n",
      "https://www.clien.net/service/board/news/14412862?od=T31&po=0&category=&groupCd=allinfo\n",
      "https://www.clien.net/service/board/news/14412848?od=T31&po=0&category=&groupCd=allinfo\n",
      "https://www.clien.net/service/board/news/14412840?od=T31&po=0&category=&groupCd=allinfo\n",
      "https://www.clien.net/service/board/news/14412838?od=T31&po=0&category=&groupCd=allinfo\n",
      "https://www.clien.net/service/board/news/14412831?od=T31&po=0&category=&groupCd=allinfo\n",
      "https://www.clien.net/service/board/news/14412827?od=T31&po=0&category=&groupCd=allinfo\n",
      "https://www.clien.net/service/board/news/14412819?od=T31&po=0&category=&groupCd=allinfo\n",
      "https://www.clien.net/service/board/news/14412812?od=T31&po=0&category=&groupCd=allinfo\n",
      "https://www.clien.net/service/board/news/14412714?od=T31&po=0&category=&groupCd=allinfo\n",
      "https://www.clien.net/service/board/pds/14412674?od=T31&po=0&category=&groupCd=allinfo\n",
      "https://www.clien.net/service/board/pds/14412415?od=T31&po=0&category=&groupCd=allinfo\n",
      "https://www.clien.net/service/board/news/14412326?od=T31&po=0&category=&groupCd=allinfo\n",
      "https://www.clien.net/service/board/news/14412288?od=T31&po=0&category=&groupCd=allinfo\n",
      "https://www.clien.net/service/board/news/14412252?od=T31&po=0&category=&groupCd=allinfo\n",
      "https://www.clien.net/service/board/news/14412241?od=T31&po=0&category=&groupCd=allinfo\n",
      "https://www.clien.net/service/board/news/14412236?od=T31&po=0&category=&groupCd=allinfo\n",
      "https://www.clien.net/service/board/news/14412230?od=T31&po=0&category=&groupCd=allinfo\n",
      "https://www.clien.net/service/board/news/14412089?od=T31&po=0&category=&groupCd=allinfo\n",
      "https://www.clien.net/service/board/news/14411734?od=T31&po=0&category=&groupCd=allinfo\n",
      "https://www.clien.net/service/board/news/14411674?od=T31&po=0&category=&groupCd=allinfo\n",
      "https://www.clien.net/service/board/news/14411542?od=T31&po=0&category=&groupCd=allinfo\n",
      "https://www.clien.net/service/board/news/14411539?od=T31&po=0&category=&groupCd=allinfo\n",
      "https://www.clien.net/service/board/news/14411399?od=T31&po=0&category=&groupCd=allinfo\n",
      "https://www.clien.net/service/board/news/14411206?od=T31&po=0&category=&groupCd=allinfo\n",
      "https://www.clien.net/service/board/news/14411069?od=T31&po=0&category=&groupCd=allinfo\n",
      "https://www.clien.net/service/board/news/14411068?od=T31&po=0&category=&groupCd=allinfo\n",
      "https://www.clien.net/service/board/news/14411066?od=T31&po=0&category=&groupCd=allinfo\n",
      "https://www.clien.net/service/board/news/14411064?od=T31&po=0&category=&groupCd=allinfo\n"
     ]
    }
   ],
   "source": [
    "print(len(Hrefs))\n",
    "for i in Hrefs:\n",
    "    print(i)"
   ]
  },
  {
   "cell_type": "code",
   "execution_count": 105,
   "metadata": {},
   "outputs": [],
   "source": [
    "CLIEN['postUrl'] = Hrefs"
   ]
  },
  {
   "cell_type": "code",
   "execution_count": 108,
   "metadata": {},
   "outputs": [
    {
     "data": {
      "text/html": [
       "<div>\n",
       "<style scoped>\n",
       "    .dataframe tbody tr th:only-of-type {\n",
       "        vertical-align: middle;\n",
       "    }\n",
       "\n",
       "    .dataframe tbody tr th {\n",
       "        vertical-align: top;\n",
       "    }\n",
       "\n",
       "    .dataframe thead th {\n",
       "        text-align: right;\n",
       "    }\n",
       "</style>\n",
       "<table border=\"1\" class=\"dataframe\">\n",
       "  <thead>\n",
       "    <tr style=\"text-align: right;\">\n",
       "      <th></th>\n",
       "      <th>Title</th>\n",
       "      <th>View</th>\n",
       "      <th>Date</th>\n",
       "      <th>postUrl</th>\n",
       "    </tr>\n",
       "  </thead>\n",
       "  <tbody>\n",
       "    <tr>\n",
       "      <th>0</th>\n",
       "      <td>독일 법원, 우버 서비스가 위법하다고 판결</td>\n",
       "      <td>2176</td>\n",
       "      <td>12:43</td>\n",
       "      <td>https://www.clien.net/service/board/news/14413...</td>\n",
       "    </tr>\n",
       "    <tr>\n",
       "      <th>1</th>\n",
       "      <td>배민, 수수료 인상 없다더니..배민커넥트 수수료는 인상?</td>\n",
       "      <td>5400</td>\n",
       "      <td>12:06</td>\n",
       "      <td>https://www.clien.net/service/board/news/14413...</td>\n",
       "    </tr>\n",
       "    <tr>\n",
       "      <th>2</th>\n",
       "      <td>번슈타인 분석가: AirPods, 2020년에 150억 달러 비즈니스 될 수 있어</td>\n",
       "      <td>3931</td>\n",
       "      <td>11:12</td>\n",
       "      <td>https://www.clien.net/service/board/news/14412...</td>\n",
       "    </tr>\n",
       "    <tr>\n",
       "      <th>3</th>\n",
       "      <td>The Information: 페이스북, 현재 자체 OS 개발하고 있어</td>\n",
       "      <td>2617</td>\n",
       "      <td>11:09</td>\n",
       "      <td>https://www.clien.net/service/board/news/14412...</td>\n",
       "    </tr>\n",
       "    <tr>\n",
       "      <th>4</th>\n",
       "      <td>애플, 12월 말까지 한시적으로 Shazam 앱 통해 애플뮤직 6개월 무료 구독 제공</td>\n",
       "      <td>6791</td>\n",
       "      <td>11:06</td>\n",
       "      <td>https://www.clien.net/service/board/news/14412...</td>\n",
       "    </tr>\n",
       "  </tbody>\n",
       "</table>\n",
       "</div>"
      ],
      "text/plain": [
       "                                             Title  View   Date  \\\n",
       "0                          독일 법원, 우버 서비스가 위법하다고 판결  2176  12:43   \n",
       "1                  배민, 수수료 인상 없다더니..배민커넥트 수수료는 인상?  5400  12:06   \n",
       "2    번슈타인 분석가: AirPods, 2020년에 150억 달러 비즈니스 될 수 있어  3931  11:12   \n",
       "3          The Information: 페이스북, 현재 자체 OS 개발하고 있어  2617  11:09   \n",
       "4  애플, 12월 말까지 한시적으로 Shazam 앱 통해 애플뮤직 6개월 무료 구독 제공  6791  11:06   \n",
       "\n",
       "                                             postUrl  \n",
       "0  https://www.clien.net/service/board/news/14413...  \n",
       "1  https://www.clien.net/service/board/news/14413...  \n",
       "2  https://www.clien.net/service/board/news/14412...  \n",
       "3  https://www.clien.net/service/board/news/14412...  \n",
       "4  https://www.clien.net/service/board/news/14412...  "
      ]
     },
     "execution_count": 108,
     "metadata": {},
     "output_type": "execute_result"
    }
   ],
   "source": [
    "CLIEN.head()"
   ]
  },
  {
   "cell_type": "code",
   "execution_count": 110,
   "metadata": {},
   "outputs": [],
   "source": [
    "col = ['Title','postUrl','View','Date']\n",
    "CLIEN = CLIEN.reindex(columns=col)"
   ]
  },
  {
   "cell_type": "code",
   "execution_count": 111,
   "metadata": {},
   "outputs": [
    {
     "data": {
      "text/html": [
       "<div>\n",
       "<style scoped>\n",
       "    .dataframe tbody tr th:only-of-type {\n",
       "        vertical-align: middle;\n",
       "    }\n",
       "\n",
       "    .dataframe tbody tr th {\n",
       "        vertical-align: top;\n",
       "    }\n",
       "\n",
       "    .dataframe thead th {\n",
       "        text-align: right;\n",
       "    }\n",
       "</style>\n",
       "<table border=\"1\" class=\"dataframe\">\n",
       "  <thead>\n",
       "    <tr style=\"text-align: right;\">\n",
       "      <th></th>\n",
       "      <th>Title</th>\n",
       "      <th>postUrl</th>\n",
       "      <th>View</th>\n",
       "      <th>Date</th>\n",
       "    </tr>\n",
       "  </thead>\n",
       "  <tbody>\n",
       "    <tr>\n",
       "      <th>0</th>\n",
       "      <td>독일 법원, 우버 서비스가 위법하다고 판결</td>\n",
       "      <td>https://www.clien.net/service/board/news/14413...</td>\n",
       "      <td>2176</td>\n",
       "      <td>12:43</td>\n",
       "    </tr>\n",
       "    <tr>\n",
       "      <th>1</th>\n",
       "      <td>배민, 수수료 인상 없다더니..배민커넥트 수수료는 인상?</td>\n",
       "      <td>https://www.clien.net/service/board/news/14413...</td>\n",
       "      <td>5400</td>\n",
       "      <td>12:06</td>\n",
       "    </tr>\n",
       "    <tr>\n",
       "      <th>2</th>\n",
       "      <td>번슈타인 분석가: AirPods, 2020년에 150억 달러 비즈니스 될 수 있어</td>\n",
       "      <td>https://www.clien.net/service/board/news/14412...</td>\n",
       "      <td>3931</td>\n",
       "      <td>11:12</td>\n",
       "    </tr>\n",
       "    <tr>\n",
       "      <th>3</th>\n",
       "      <td>The Information: 페이스북, 현재 자체 OS 개발하고 있어</td>\n",
       "      <td>https://www.clien.net/service/board/news/14412...</td>\n",
       "      <td>2617</td>\n",
       "      <td>11:09</td>\n",
       "    </tr>\n",
       "    <tr>\n",
       "      <th>4</th>\n",
       "      <td>애플, 12월 말까지 한시적으로 Shazam 앱 통해 애플뮤직 6개월 무료 구독 제공</td>\n",
       "      <td>https://www.clien.net/service/board/news/14412...</td>\n",
       "      <td>6791</td>\n",
       "      <td>11:06</td>\n",
       "    </tr>\n",
       "    <tr>\n",
       "      <th>5</th>\n",
       "      <td>이메일 앱 '블루메일' 개발자, 애플이 앱스토어에서 은밀히 앱 랭킹 조작한다고 제소</td>\n",
       "      <td>https://www.clien.net/service/board/news/14412...</td>\n",
       "      <td>4171</td>\n",
       "      <td>11:03</td>\n",
       "    </tr>\n",
       "    <tr>\n",
       "      <th>6</th>\n",
       "      <td>현대차, 1월 6일 CES 2020에서 비행차 컨셉 일반에게 공개할 것</td>\n",
       "      <td>https://www.clien.net/service/board/news/14412...</td>\n",
       "      <td>4404</td>\n",
       "      <td>11:02</td>\n",
       "    </tr>\n",
       "    <tr>\n",
       "      <th>7</th>\n",
       "      <td>Motorola, 예상 밖의 높은 수요 때문에 Razr 선주문과 론칭 시기 약간 늦춰</td>\n",
       "      <td>https://www.clien.net/service/board/news/14412...</td>\n",
       "      <td>4141</td>\n",
       "      <td>11:00</td>\n",
       "    </tr>\n",
       "    <tr>\n",
       "      <th>8</th>\n",
       "      <td>맥북 프로 반사방지 코팅 수리 프로그램 수리 대상 모델 리스트</td>\n",
       "      <td>https://www.clien.net/service/board/news/14412...</td>\n",
       "      <td>3224</td>\n",
       "      <td>10:59</td>\n",
       "    </tr>\n",
       "    <tr>\n",
       "      <th>9</th>\n",
       "      <td>노트 10 vs 노트 10 Lite/S10 vs S10 Lite의 사양, 기능, 가...</td>\n",
       "      <td>https://www.clien.net/service/board/news/14412...</td>\n",
       "      <td>2917</td>\n",
       "      <td>10:56</td>\n",
       "    </tr>\n",
       "    <tr>\n",
       "      <th>10</th>\n",
       "      <td>껌 속 DNA로 복원한 5700년 전 북유럽 여성</td>\n",
       "      <td>https://www.clien.net/service/board/news/14412...</td>\n",
       "      <td>6017</td>\n",
       "      <td>10:24</td>\n",
       "    </tr>\n",
       "    <tr>\n",
       "      <th>11</th>\n",
       "      <td>[애플뮤직] 2019 올해의 플레이리스트 공개</td>\n",
       "      <td>https://www.clien.net/service/board/pds/144126...</td>\n",
       "      <td>666</td>\n",
       "      <td>10:06</td>\n",
       "    </tr>\n",
       "    <tr>\n",
       "      <th>12</th>\n",
       "      <td>정연</td>\n",
       "      <td>https://www.clien.net/service/board/pds/144124...</td>\n",
       "      <td>5676</td>\n",
       "      <td>05:59</td>\n",
       "    </tr>\n",
       "    <tr>\n",
       "      <th>13</th>\n",
       "      <td>미국에서 스팸전화 1건에 최대 1만달러 벌금 부과하는 법안 통과</td>\n",
       "      <td>https://www.clien.net/service/board/news/14412...</td>\n",
       "      <td>21.2 k</td>\n",
       "      <td>01:48</td>\n",
       "    </tr>\n",
       "    <tr>\n",
       "      <th>14</th>\n",
       "      <td>리눅스 민트 19.3 공개</td>\n",
       "      <td>https://www.clien.net/service/board/news/14412...</td>\n",
       "      <td>11.8 k</td>\n",
       "      <td>01:10</td>\n",
       "    </tr>\n",
       "    <tr>\n",
       "      <th>15</th>\n",
       "      <td>이메일 사용자명과 패스워드, iOS 13.3으로 구동하는 락이 걸린 iPhone에서...</td>\n",
       "      <td>https://www.clien.net/service/board/news/14412...</td>\n",
       "      <td>9393</td>\n",
       "      <td>00:49</td>\n",
       "    </tr>\n",
       "    <tr>\n",
       "      <th>16</th>\n",
       "      <td>블룸버그: 애플, 기기에 직접 데이터 전송 위해 위성 기술 개발하고 있어</td>\n",
       "      <td>https://www.clien.net/service/board/news/14412...</td>\n",
       "      <td>6790</td>\n",
       "      <td>00:43</td>\n",
       "    </tr>\n",
       "    <tr>\n",
       "      <th>17</th>\n",
       "      <td>애플, 버그 보상 프로그램 이제 모든 사람에게 오픈되고 보상금 최대 150만 달러 지불</td>\n",
       "      <td>https://www.clien.net/service/board/news/14412...</td>\n",
       "      <td>7368</td>\n",
       "      <td>00:41</td>\n",
       "    </tr>\n",
       "    <tr>\n",
       "      <th>18</th>\n",
       "      <td>루머: 2020년 iPhone, 센서 전환 손떨림보정 카메라 시스템 채용할 것</td>\n",
       "      <td>https://www.clien.net/service/board/news/14412...</td>\n",
       "      <td>9007</td>\n",
       "      <td>00:40</td>\n",
       "    </tr>\n",
       "    <tr>\n",
       "      <th>19</th>\n",
       "      <td>루머)AMD Ryzen 7 4700U의 3Dmark 포착</td>\n",
       "      <td>https://www.clien.net/service/board/news/14412...</td>\n",
       "      <td>5965</td>\n",
       "      <td>12-20</td>\n",
       "    </tr>\n",
       "    <tr>\n",
       "      <th>20</th>\n",
       "      <td>美협회, '타다금지법' 도입 우려…'신규 참여자 비용 상승'</td>\n",
       "      <td>https://www.clien.net/service/board/news/14411...</td>\n",
       "      <td>8267</td>\n",
       "      <td>12-20</td>\n",
       "    </tr>\n",
       "    <tr>\n",
       "      <th>21</th>\n",
       "      <td>구글 번역, 오프라인 번역 품질 개선했다고 밝혀</td>\n",
       "      <td>https://www.clien.net/service/board/news/14411...</td>\n",
       "      <td>6403</td>\n",
       "      <td>12-20</td>\n",
       "    </tr>\n",
       "    <tr>\n",
       "      <th>22</th>\n",
       "      <td>소니 독점 ToF 드라이버 IC, 동운아나텍 첫 국산화</td>\n",
       "      <td>https://www.clien.net/service/board/news/14411...</td>\n",
       "      <td>4851</td>\n",
       "      <td>12-20</td>\n",
       "    </tr>\n",
       "    <tr>\n",
       "      <th>23</th>\n",
       "      <td>아이폰 '교통카드', 이번엔 될까... 앱 개발사 '연내 정식 출시'</td>\n",
       "      <td>https://www.clien.net/service/board/news/14411...</td>\n",
       "      <td>14.5 k</td>\n",
       "      <td>12-20</td>\n",
       "    </tr>\n",
       "    <tr>\n",
       "      <th>24</th>\n",
       "      <td>토스, LG유플러스 PG사업부 인수</td>\n",
       "      <td>https://www.clien.net/service/board/news/14411...</td>\n",
       "      <td>10.6 k</td>\n",
       "      <td>12-20</td>\n",
       "    </tr>\n",
       "    <tr>\n",
       "      <th>25</th>\n",
       "      <td>리디북스 도서정가제 준수에 따른 이벤트 변경 예정 안내</td>\n",
       "      <td>https://www.clien.net/service/board/news/14411...</td>\n",
       "      <td>12.2 k</td>\n",
       "      <td>12-20</td>\n",
       "    </tr>\n",
       "    <tr>\n",
       "      <th>26</th>\n",
       "      <td>화웨이 “올해 韓서 13조원 썼다...내년엔 더 늘릴 것.”</td>\n",
       "      <td>https://www.clien.net/service/board/news/14411...</td>\n",
       "      <td>11.2 k</td>\n",
       "      <td>12-20</td>\n",
       "    </tr>\n",
       "    <tr>\n",
       "      <th>27</th>\n",
       "      <td>‘게임중독’은 질병?…질병코드 도입 위한 실태조사 실시한다.</td>\n",
       "      <td>https://www.clien.net/service/board/news/14411...</td>\n",
       "      <td>3146</td>\n",
       "      <td>12-20</td>\n",
       "    </tr>\n",
       "    <tr>\n",
       "      <th>28</th>\n",
       "      <td>토종 앱 마켓 원스토어, '굿 파트너' 선정 논란.</td>\n",
       "      <td>https://www.clien.net/service/board/news/14411...</td>\n",
       "      <td>6171</td>\n",
       "      <td>12-20</td>\n",
       "    </tr>\n",
       "    <tr>\n",
       "      <th>29</th>\n",
       "      <td>소니 독점 ToF 드라이버 IC, 동운아나텍 첫 국산화.</td>\n",
       "      <td>https://www.clien.net/service/board/news/14411...</td>\n",
       "      <td>3804</td>\n",
       "      <td>12-20</td>\n",
       "    </tr>\n",
       "  </tbody>\n",
       "</table>\n",
       "</div>"
      ],
      "text/plain": [
       "                                                Title  \\\n",
       "0                             독일 법원, 우버 서비스가 위법하다고 판결   \n",
       "1                     배민, 수수료 인상 없다더니..배민커넥트 수수료는 인상?   \n",
       "2       번슈타인 분석가: AirPods, 2020년에 150억 달러 비즈니스 될 수 있어   \n",
       "3             The Information: 페이스북, 현재 자체 OS 개발하고 있어   \n",
       "4     애플, 12월 말까지 한시적으로 Shazam 앱 통해 애플뮤직 6개월 무료 구독 제공   \n",
       "5      이메일 앱 '블루메일' 개발자, 애플이 앱스토어에서 은밀히 앱 랭킹 조작한다고 제소   \n",
       "6             현대차, 1월 6일 CES 2020에서 비행차 컨셉 일반에게 공개할 것   \n",
       "7     Motorola, 예상 밖의 높은 수요 때문에 Razr 선주문과 론칭 시기 약간 늦춰   \n",
       "8                  맥북 프로 반사방지 코팅 수리 프로그램 수리 대상 모델 리스트   \n",
       "9   노트 10 vs 노트 10 Lite/S10 vs S10 Lite의 사양, 기능, 가...   \n",
       "10                        껌 속 DNA로 복원한 5700년 전 북유럽 여성   \n",
       "11                          [애플뮤직] 2019 올해의 플레이리스트 공개   \n",
       "12                                                 정연   \n",
       "13                미국에서 스팸전화 1건에 최대 1만달러 벌금 부과하는 법안 통과   \n",
       "14                                     리눅스 민트 19.3 공개   \n",
       "15  이메일 사용자명과 패스워드, iOS 13.3으로 구동하는 락이 걸린 iPhone에서...   \n",
       "16           블룸버그: 애플, 기기에 직접 데이터 전송 위해 위성 기술 개발하고 있어   \n",
       "17   애플, 버그 보상 프로그램 이제 모든 사람에게 오픈되고 보상금 최대 150만 달러 지불   \n",
       "18        루머: 2020년 iPhone, 센서 전환 손떨림보정 카메라 시스템 채용할 것   \n",
       "19                    루머)AMD Ryzen 7 4700U의 3Dmark 포착   \n",
       "20                  美협회, '타다금지법' 도입 우려…'신규 참여자 비용 상승'   \n",
       "21                         구글 번역, 오프라인 번역 품질 개선했다고 밝혀   \n",
       "22                     소니 독점 ToF 드라이버 IC, 동운아나텍 첫 국산화   \n",
       "23             아이폰 '교통카드', 이번엔 될까... 앱 개발사 '연내 정식 출시'   \n",
       "24                                토스, LG유플러스 PG사업부 인수   \n",
       "25                     리디북스 도서정가제 준수에 따른 이벤트 변경 예정 안내   \n",
       "26                  화웨이 “올해 韓서 13조원 썼다...내년엔 더 늘릴 것.”   \n",
       "27                  ‘게임중독’은 질병?…질병코드 도입 위한 실태조사 실시한다.   \n",
       "28                       토종 앱 마켓 원스토어, '굿 파트너' 선정 논란.   \n",
       "29                    소니 독점 ToF 드라이버 IC, 동운아나텍 첫 국산화.   \n",
       "\n",
       "                                              postUrl    View   Date  \n",
       "0   https://www.clien.net/service/board/news/14413...    2176  12:43  \n",
       "1   https://www.clien.net/service/board/news/14413...    5400  12:06  \n",
       "2   https://www.clien.net/service/board/news/14412...    3931  11:12  \n",
       "3   https://www.clien.net/service/board/news/14412...    2617  11:09  \n",
       "4   https://www.clien.net/service/board/news/14412...    6791  11:06  \n",
       "5   https://www.clien.net/service/board/news/14412...    4171  11:03  \n",
       "6   https://www.clien.net/service/board/news/14412...    4404  11:02  \n",
       "7   https://www.clien.net/service/board/news/14412...    4141  11:00  \n",
       "8   https://www.clien.net/service/board/news/14412...    3224  10:59  \n",
       "9   https://www.clien.net/service/board/news/14412...    2917  10:56  \n",
       "10  https://www.clien.net/service/board/news/14412...    6017  10:24  \n",
       "11  https://www.clien.net/service/board/pds/144126...     666  10:06  \n",
       "12  https://www.clien.net/service/board/pds/144124...    5676  05:59  \n",
       "13  https://www.clien.net/service/board/news/14412...  21.2 k  01:48  \n",
       "14  https://www.clien.net/service/board/news/14412...  11.8 k  01:10  \n",
       "15  https://www.clien.net/service/board/news/14412...    9393  00:49  \n",
       "16  https://www.clien.net/service/board/news/14412...    6790  00:43  \n",
       "17  https://www.clien.net/service/board/news/14412...    7368  00:41  \n",
       "18  https://www.clien.net/service/board/news/14412...    9007  00:40  \n",
       "19  https://www.clien.net/service/board/news/14412...    5965  12-20  \n",
       "20  https://www.clien.net/service/board/news/14411...    8267  12-20  \n",
       "21  https://www.clien.net/service/board/news/14411...    6403  12-20  \n",
       "22  https://www.clien.net/service/board/news/14411...    4851  12-20  \n",
       "23  https://www.clien.net/service/board/news/14411...  14.5 k  12-20  \n",
       "24  https://www.clien.net/service/board/news/14411...  10.6 k  12-20  \n",
       "25  https://www.clien.net/service/board/news/14411...  12.2 k  12-20  \n",
       "26  https://www.clien.net/service/board/news/14411...  11.2 k  12-20  \n",
       "27  https://www.clien.net/service/board/news/14411...    3146  12-20  \n",
       "28  https://www.clien.net/service/board/news/14411...    6171  12-20  \n",
       "29  https://www.clien.net/service/board/news/14411...    3804  12-20  "
      ]
     },
     "execution_count": 111,
     "metadata": {},
     "output_type": "execute_result"
    }
   ],
   "source": [
    "CLIEN"
   ]
  },
  {
   "cell_type": "code",
   "execution_count": 113,
   "metadata": {},
   "outputs": [
    {
     "name": "stdout",
     "output_type": "stream",
     "text": [
      "https://www.clien.net/service/board/news/14413116?od=T31&po=0&category=&groupCd=allinfo\n",
      "https://www.clien.net/service/board/news/14413025?od=T31&po=0&category=&groupCd=allinfo\n",
      "https://www.clien.net/service/board/news/14412862?od=T31&po=0&category=&groupCd=allinfo\n",
      "https://www.clien.net/service/board/news/14412848?od=T31&po=0&category=&groupCd=allinfo\n",
      "https://www.clien.net/service/board/news/14412840?od=T31&po=0&category=&groupCd=allinfo\n",
      "https://www.clien.net/service/board/news/14412838?od=T31&po=0&category=&groupCd=allinfo\n",
      "https://www.clien.net/service/board/news/14412831?od=T31&po=0&category=&groupCd=allinfo\n",
      "https://www.clien.net/service/board/news/14412827?od=T31&po=0&category=&groupCd=allinfo\n",
      "https://www.clien.net/service/board/news/14412819?od=T31&po=0&category=&groupCd=allinfo\n",
      "https://www.clien.net/service/board/news/14412812?od=T31&po=0&category=&groupCd=allinfo\n",
      "https://www.clien.net/service/board/news/14412714?od=T31&po=0&category=&groupCd=allinfo\n",
      "https://www.clien.net/service/board/pds/14412674?od=T31&po=0&category=&groupCd=allinfo\n",
      "https://www.clien.net/service/board/pds/14412415?od=T31&po=0&category=&groupCd=allinfo\n",
      "https://www.clien.net/service/board/news/14412326?od=T31&po=0&category=&groupCd=allinfo\n",
      "https://www.clien.net/service/board/news/14412288?od=T31&po=0&category=&groupCd=allinfo\n",
      "https://www.clien.net/service/board/news/14412252?od=T31&po=0&category=&groupCd=allinfo\n",
      "https://www.clien.net/service/board/news/14412241?od=T31&po=0&category=&groupCd=allinfo\n",
      "https://www.clien.net/service/board/news/14412236?od=T31&po=0&category=&groupCd=allinfo\n",
      "https://www.clien.net/service/board/news/14412230?od=T31&po=0&category=&groupCd=allinfo\n",
      "https://www.clien.net/service/board/news/14412089?od=T31&po=0&category=&groupCd=allinfo\n",
      "https://www.clien.net/service/board/news/14411734?od=T31&po=0&category=&groupCd=allinfo\n",
      "https://www.clien.net/service/board/news/14411674?od=T31&po=0&category=&groupCd=allinfo\n",
      "https://www.clien.net/service/board/news/14411542?od=T31&po=0&category=&groupCd=allinfo\n",
      "https://www.clien.net/service/board/news/14411539?od=T31&po=0&category=&groupCd=allinfo\n",
      "https://www.clien.net/service/board/news/14411399?od=T31&po=0&category=&groupCd=allinfo\n",
      "https://www.clien.net/service/board/news/14411206?od=T31&po=0&category=&groupCd=allinfo\n",
      "https://www.clien.net/service/board/news/14411069?od=T31&po=0&category=&groupCd=allinfo\n",
      "https://www.clien.net/service/board/news/14411068?od=T31&po=0&category=&groupCd=allinfo\n",
      "https://www.clien.net/service/board/news/14411066?od=T31&po=0&category=&groupCd=allinfo\n",
      "https://www.clien.net/service/board/news/14411064?od=T31&po=0&category=&groupCd=allinfo\n"
     ]
    }
   ],
   "source": [
    "for i in CLIEN['postUrl']:\n",
    "    print(i)"
   ]
  },
  {
   "cell_type": "code",
   "execution_count": 114,
   "metadata": {},
   "outputs": [
    {
     "data": {
      "text/plain": [
       "'https://www.clien.net/service/board/news/14413116?od=T31&po=0&category=&groupCd=allinfo'"
      ]
     },
     "execution_count": 114,
     "metadata": {},
     "output_type": "execute_result"
    }
   ],
   "source": [
    "CLIEN['postUrl'][0]"
   ]
  },
  {
   "cell_type": "code",
   "execution_count": 115,
   "metadata": {},
   "outputs": [],
   "source": [
    "driver.get(CLIEN['postUrl'][0])"
   ]
  },
  {
   "cell_type": "code",
   "execution_count": 124,
   "metadata": {},
   "outputs": [],
   "source": [
    "postContents = driver.find_element_by_class_name('post_content').text"
   ]
  },
  {
   "cell_type": "code",
   "execution_count": 125,
   "metadata": {},
   "outputs": [
    {
     "name": "stdout",
     "output_type": "stream",
     "text": [
      "독일 프랑크푸르트 지방법원이 우버가 독일에서 하고 있는 서비스가 위법하다고 판결했습니다.\n",
      "\n",
      "다른 나라와 다르게 독일에서는 일반인 운전자가 자신의 차량으로 운전을 하는 것을 우버가 허용하고 있지 않았습니다. 대신 면허가 있는 렌터카 업체와 정식 택시 회사를 이용하는 방식으로 몇몇 대도시에서만 운영하고 있습니다.\n",
      "\n",
      "법원은 회사가 단순히 운전자와 고객을 연결해주는 관계를 넘어서서 우버가 자체 렌터카 면허를 취득해야 한다고 밝혔습니다. '승객의 입장에서 보면 우버가 서비스를 제공하고 있다'면서 우버가 운전자를 지정하고 가격을 매긴다는 게 이유입니다.\n",
      "\n",
      "또한 독일 법에서는 운전자가 운행을 마칠 때마다 회사로 복귀해야 하는데 그렇지 않았고, 렌터카 회사를 우버가 적절하게 점검하지 않았다고도 지적했습니다.\n",
      "\n",
      "판결에서는 우버가 즉시 렌터카를 통해 서비스를 제공하는 것을 금지했지만, 우버가 항소하는 것은 가능합니다. 우버는 독일 소비자가 당분간 앱을 계속 사용할 수 있다고 밝혔습니다.\n",
      "\n",
      "이번 판결에 택시 업계는 환영했고, 반대로 독일 인터넷기업단체인 Bitcom에서는 운송 규정이 시대를 따라가지 못 한다면서 '소비자를 희생해 택시 업계 이익을 보호한다'며 비판하는 입장을 내놓았습니다.\n",
      "\n",
      "□ 출처\n",
      "- German court hands Uber another legal setback | Deutsche Welle 요약\n"
     ]
    }
   ],
   "source": [
    "print(postContents)"
   ]
  },
  {
   "cell_type": "code",
   "execution_count": 128,
   "metadata": {},
   "outputs": [],
   "source": [
    "Contents = []\n",
    "for i in CLIEN['postUrl']:\n",
    "    driver.get(i)\n",
    "    postContents = driver.find_element_by_class_name('post_content').text\n",
    "    Contents.append(postContents)\n",
    "#     sleep(randint(1,3))\n",
    "    driver.implicitly_wait(randint(1,3)) # sleep or implicitly_wait : 하나만 선택할 것 \n",
    "# driver.close()"
   ]
  },
  {
   "cell_type": "code",
   "execution_count": 130,
   "metadata": {},
   "outputs": [
    {
     "name": "stdout",
     "output_type": "stream",
     "text": [
      "30\n"
     ]
    }
   ],
   "source": [
    "print(len(Contents))"
   ]
  },
  {
   "cell_type": "code",
   "execution_count": 131,
   "metadata": {},
   "outputs": [
    {
     "data": {
      "text/html": [
       "<div>\n",
       "<style scoped>\n",
       "    .dataframe tbody tr th:only-of-type {\n",
       "        vertical-align: middle;\n",
       "    }\n",
       "\n",
       "    .dataframe tbody tr th {\n",
       "        vertical-align: top;\n",
       "    }\n",
       "\n",
       "    .dataframe thead th {\n",
       "        text-align: right;\n",
       "    }\n",
       "</style>\n",
       "<table border=\"1\" class=\"dataframe\">\n",
       "  <thead>\n",
       "    <tr style=\"text-align: right;\">\n",
       "      <th></th>\n",
       "      <th>Title</th>\n",
       "      <th>postUrl</th>\n",
       "      <th>View</th>\n",
       "      <th>Date</th>\n",
       "    </tr>\n",
       "  </thead>\n",
       "  <tbody>\n",
       "    <tr>\n",
       "      <th>0</th>\n",
       "      <td>독일 법원, 우버 서비스가 위법하다고 판결</td>\n",
       "      <td>https://www.clien.net/service/board/news/14413...</td>\n",
       "      <td>2176</td>\n",
       "      <td>12:43</td>\n",
       "    </tr>\n",
       "    <tr>\n",
       "      <th>1</th>\n",
       "      <td>배민, 수수료 인상 없다더니..배민커넥트 수수료는 인상?</td>\n",
       "      <td>https://www.clien.net/service/board/news/14413...</td>\n",
       "      <td>5400</td>\n",
       "      <td>12:06</td>\n",
       "    </tr>\n",
       "    <tr>\n",
       "      <th>2</th>\n",
       "      <td>번슈타인 분석가: AirPods, 2020년에 150억 달러 비즈니스 될 수 있어</td>\n",
       "      <td>https://www.clien.net/service/board/news/14412...</td>\n",
       "      <td>3931</td>\n",
       "      <td>11:12</td>\n",
       "    </tr>\n",
       "  </tbody>\n",
       "</table>\n",
       "</div>"
      ],
      "text/plain": [
       "                                           Title  \\\n",
       "0                        독일 법원, 우버 서비스가 위법하다고 판결   \n",
       "1                배민, 수수료 인상 없다더니..배민커넥트 수수료는 인상?   \n",
       "2  번슈타인 분석가: AirPods, 2020년에 150억 달러 비즈니스 될 수 있어   \n",
       "\n",
       "                                             postUrl  View   Date  \n",
       "0  https://www.clien.net/service/board/news/14413...  2176  12:43  \n",
       "1  https://www.clien.net/service/board/news/14413...  5400  12:06  \n",
       "2  https://www.clien.net/service/board/news/14412...  3931  11:12  "
      ]
     },
     "execution_count": 131,
     "metadata": {},
     "output_type": "execute_result"
    }
   ],
   "source": [
    "CLIEN.head(3)"
   ]
  },
  {
   "cell_type": "code",
   "execution_count": 132,
   "metadata": {},
   "outputs": [],
   "source": [
    "CLIEN['Contents'] = Contents"
   ]
  },
  {
   "cell_type": "code",
   "execution_count": 133,
   "metadata": {},
   "outputs": [
    {
     "data": {
      "text/html": [
       "<div>\n",
       "<style scoped>\n",
       "    .dataframe tbody tr th:only-of-type {\n",
       "        vertical-align: middle;\n",
       "    }\n",
       "\n",
       "    .dataframe tbody tr th {\n",
       "        vertical-align: top;\n",
       "    }\n",
       "\n",
       "    .dataframe thead th {\n",
       "        text-align: right;\n",
       "    }\n",
       "</style>\n",
       "<table border=\"1\" class=\"dataframe\">\n",
       "  <thead>\n",
       "    <tr style=\"text-align: right;\">\n",
       "      <th></th>\n",
       "      <th>Title</th>\n",
       "      <th>postUrl</th>\n",
       "      <th>View</th>\n",
       "      <th>Date</th>\n",
       "      <th>Contents</th>\n",
       "    </tr>\n",
       "  </thead>\n",
       "  <tbody>\n",
       "    <tr>\n",
       "      <th>0</th>\n",
       "      <td>독일 법원, 우버 서비스가 위법하다고 판결</td>\n",
       "      <td>https://www.clien.net/service/board/news/14413...</td>\n",
       "      <td>2176</td>\n",
       "      <td>12:43</td>\n",
       "      <td>독일 프랑크푸르트 지방법원이 우버가 독일에서 하고 있는 서비스가 위법하다고 판결했습...</td>\n",
       "    </tr>\n",
       "    <tr>\n",
       "      <th>1</th>\n",
       "      <td>배민, 수수료 인상 없다더니..배민커넥트 수수료는 인상?</td>\n",
       "      <td>https://www.clien.net/service/board/news/14413...</td>\n",
       "      <td>5400</td>\n",
       "      <td>12:06</td>\n",
       "      <td>배달의민족이 음식점주로부터 받는 중개 수수료를 업계 최저로 인하하겠다고 약속한 것과...</td>\n",
       "    </tr>\n",
       "    <tr>\n",
       "      <th>2</th>\n",
       "      <td>번슈타인 분석가: AirPods, 2020년에 150억 달러 비즈니스 될 수 있어</td>\n",
       "      <td>https://www.clien.net/service/board/news/14412...</td>\n",
       "      <td>3931</td>\n",
       "      <td>11:12</td>\n",
       "      <td>번슈타인 분석가: AirPods, 2020년에 150억 달러 비즈니스 될 수 있어....</td>\n",
       "    </tr>\n",
       "  </tbody>\n",
       "</table>\n",
       "</div>"
      ],
      "text/plain": [
       "                                           Title  \\\n",
       "0                        독일 법원, 우버 서비스가 위법하다고 판결   \n",
       "1                배민, 수수료 인상 없다더니..배민커넥트 수수료는 인상?   \n",
       "2  번슈타인 분석가: AirPods, 2020년에 150억 달러 비즈니스 될 수 있어   \n",
       "\n",
       "                                             postUrl  View   Date  \\\n",
       "0  https://www.clien.net/service/board/news/14413...  2176  12:43   \n",
       "1  https://www.clien.net/service/board/news/14413...  5400  12:06   \n",
       "2  https://www.clien.net/service/board/news/14412...  3931  11:12   \n",
       "\n",
       "                                            Contents  \n",
       "0  독일 프랑크푸르트 지방법원이 우버가 독일에서 하고 있는 서비스가 위법하다고 판결했습...  \n",
       "1  배달의민족이 음식점주로부터 받는 중개 수수료를 업계 최저로 인하하겠다고 약속한 것과...  \n",
       "2  번슈타인 분석가: AirPods, 2020년에 150억 달러 비즈니스 될 수 있어....  "
      ]
     },
     "execution_count": 133,
     "metadata": {},
     "output_type": "execute_result"
    }
   ],
   "source": [
    "CLIEN.head(3)"
   ]
  },
  {
   "cell_type": "code",
   "execution_count": 135,
   "metadata": {
    "scrolled": true
   },
   "outputs": [],
   "source": [
    "col = ['Title','postUrl','Contents','View','Date']\n",
    "CLIEN = CLIEN.reindex(columns=col)"
   ]
  },
  {
   "cell_type": "code",
   "execution_count": 136,
   "metadata": {},
   "outputs": [
    {
     "data": {
      "text/html": [
       "<div>\n",
       "<style scoped>\n",
       "    .dataframe tbody tr th:only-of-type {\n",
       "        vertical-align: middle;\n",
       "    }\n",
       "\n",
       "    .dataframe tbody tr th {\n",
       "        vertical-align: top;\n",
       "    }\n",
       "\n",
       "    .dataframe thead th {\n",
       "        text-align: right;\n",
       "    }\n",
       "</style>\n",
       "<table border=\"1\" class=\"dataframe\">\n",
       "  <thead>\n",
       "    <tr style=\"text-align: right;\">\n",
       "      <th></th>\n",
       "      <th>Title</th>\n",
       "      <th>postUrl</th>\n",
       "      <th>Contents</th>\n",
       "      <th>View</th>\n",
       "      <th>Date</th>\n",
       "    </tr>\n",
       "  </thead>\n",
       "  <tbody>\n",
       "    <tr>\n",
       "      <th>0</th>\n",
       "      <td>독일 법원, 우버 서비스가 위법하다고 판결</td>\n",
       "      <td>https://www.clien.net/service/board/news/14413...</td>\n",
       "      <td>독일 프랑크푸르트 지방법원이 우버가 독일에서 하고 있는 서비스가 위법하다고 판결했습...</td>\n",
       "      <td>2176</td>\n",
       "      <td>12:43</td>\n",
       "    </tr>\n",
       "    <tr>\n",
       "      <th>1</th>\n",
       "      <td>배민, 수수료 인상 없다더니..배민커넥트 수수료는 인상?</td>\n",
       "      <td>https://www.clien.net/service/board/news/14413...</td>\n",
       "      <td>배달의민족이 음식점주로부터 받는 중개 수수료를 업계 최저로 인하하겠다고 약속한 것과...</td>\n",
       "      <td>5400</td>\n",
       "      <td>12:06</td>\n",
       "    </tr>\n",
       "    <tr>\n",
       "      <th>2</th>\n",
       "      <td>번슈타인 분석가: AirPods, 2020년에 150억 달러 비즈니스 될 수 있어</td>\n",
       "      <td>https://www.clien.net/service/board/news/14412...</td>\n",
       "      <td>번슈타인 분석가: AirPods, 2020년에 150억 달러 비즈니스 될 수 있어....</td>\n",
       "      <td>3931</td>\n",
       "      <td>11:12</td>\n",
       "    </tr>\n",
       "  </tbody>\n",
       "</table>\n",
       "</div>"
      ],
      "text/plain": [
       "                                           Title  \\\n",
       "0                        독일 법원, 우버 서비스가 위법하다고 판결   \n",
       "1                배민, 수수료 인상 없다더니..배민커넥트 수수료는 인상?   \n",
       "2  번슈타인 분석가: AirPods, 2020년에 150억 달러 비즈니스 될 수 있어   \n",
       "\n",
       "                                             postUrl  \\\n",
       "0  https://www.clien.net/service/board/news/14413...   \n",
       "1  https://www.clien.net/service/board/news/14413...   \n",
       "2  https://www.clien.net/service/board/news/14412...   \n",
       "\n",
       "                                            Contents  View   Date  \n",
       "0  독일 프랑크푸르트 지방법원이 우버가 독일에서 하고 있는 서비스가 위법하다고 판결했습...  2176  12:43  \n",
       "1  배달의민족이 음식점주로부터 받는 중개 수수료를 업계 최저로 인하하겠다고 약속한 것과...  5400  12:06  \n",
       "2  번슈타인 분석가: AirPods, 2020년에 150억 달러 비즈니스 될 수 있어....  3931  11:12  "
      ]
     },
     "execution_count": 136,
     "metadata": {},
     "output_type": "execute_result"
    }
   ],
   "source": [
    "CLIEN.head(3)"
   ]
  },
  {
   "cell_type": "code",
   "execution_count": 138,
   "metadata": {},
   "outputs": [
    {
     "name": "stdout",
     "output_type": "stream",
     "text": [
      "/Users/jiwonjang/python_tutorial/ve_env/강의자료_크롤링\n"
     ]
    }
   ],
   "source": [
    "# 파일 저장\n",
    "print(os.getcwd())\n",
    "# CLIEN.to_csv('clienInfoContents.csv', header=True, encoding='utf-8') \n",
    "# 윈도우 유저는 encoding ='cp949' / encoding ='euc-kr'"
   ]
  },
  {
   "cell_type": "markdown",
   "metadata": {},
   "source": [
    "# row by row로 데이터 쌓기"
   ]
  },
  {
   "cell_type": "code",
   "execution_count": null,
   "metadata": {},
   "outputs": [],
   "source": [
    "# dict 타입으로 쌓기"
   ]
  },
  {
   "cell_type": "code",
   "execution_count": null,
   "metadata": {},
   "outputs": [],
   "source": []
  }
 ],
 "metadata": {
  "kernelspec": {
   "display_name": "Python 3",
   "language": "python",
   "name": "python3"
  },
  "language_info": {
   "codemirror_mode": {
    "name": "ipython",
    "version": 3
   },
   "file_extension": ".py",
   "mimetype": "text/x-python",
   "name": "python",
   "nbconvert_exporter": "python",
   "pygments_lexer": "ipython3",
   "version": "3.6.8"
  }
 },
 "nbformat": 4,
 "nbformat_minor": 2
}
