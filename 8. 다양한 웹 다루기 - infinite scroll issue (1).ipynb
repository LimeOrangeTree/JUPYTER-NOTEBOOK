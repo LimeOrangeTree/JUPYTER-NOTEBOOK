{
 "cells": [
  {
   "cell_type": "markdown",
   "metadata": {},
   "source": [
    "# 다양한 웹 다루기\n",
    "- 웹 사이트의 구성 요소에 따라 각각 다른 방식으로 프로그래밍 해야 효율적으로 코딩 가능\n",
    "\n",
    "### 연습 대상\n",
    "- infinite scroll : 스크롤에 따라 다음 페이지를 불러오는 방식\n",
    "- Instagram, Youtube 등의 어플에서 적용되어 유행함"
   ]
  },
  {
   "cell_type": "markdown",
   "metadata": {},
   "source": [
    "# Infinite Scroll issue\n",
    "- 예제 : https://spidyquotes.herokuapp.com/scroll"
   ]
  },
  {
   "cell_type": "markdown",
   "metadata": {},
   "source": [
    "### single page issue"
   ]
  },
  {
   "cell_type": "code",
   "execution_count": 1,
   "metadata": {},
   "outputs": [],
   "source": [
    "from tqdm import tqdm\n",
    "from selenium import webdriver\n",
    "from bs4 import BeautifulSoup\n",
    "from random import randint\n",
    "from time import sleep\n",
    "import json\n",
    "import pandas as pd"
   ]
  },
  {
   "cell_type": "code",
   "execution_count": 2,
   "metadata": {},
   "outputs": [],
   "source": [
    "chromeDir = '/Users/jiwonjang/python_tutorial/chromedriver'\n",
    "driver = webdriver.Chrome(chromeDir)"
   ]
  },
  {
   "cell_type": "code",
   "execution_count": 3,
   "metadata": {},
   "outputs": [],
   "source": [
    "targetUrl = 'https://spidyquotes.herokuapp.com/api/quotes?page=1'"
   ]
  },
  {
   "cell_type": "code",
   "execution_count": 4,
   "metadata": {},
   "outputs": [],
   "source": [
    "driver.get(targetUrl)"
   ]
  },
  {
   "cell_type": "code",
   "execution_count": 5,
   "metadata": {},
   "outputs": [],
   "source": [
    "soup = BeautifulSoup(driver.page_source) # selenium driver의 page source 가져오기"
   ]
  },
  {
   "cell_type": "code",
   "execution_count": 6,
   "metadata": {},
   "outputs": [],
   "source": [
    "dict_from_json = json.loads(soup.find(\"body\").text) # 해당 페이지의 body tag 인덱싱 후, json 파일로 변경"
   ]
  },
  {
   "cell_type": "code",
   "execution_count": 7,
   "metadata": {
    "scrolled": true
   },
   "outputs": [
    {
     "data": {
      "text/plain": [
       "{'has_next': True,\n",
       " 'page': 1,\n",
       " 'quotes': [{'author': {'goodreads_link': '/author/show/9810.Albert_Einstein',\n",
       "    'name': 'Albert Einstein',\n",
       "    'slug': 'Albert-Einstein'},\n",
       "   'tags': ['change', 'deep-thoughts', 'thinking', 'world'],\n",
       "   'text': '“The world as we have created it is a process of our thinking. It cannot be changed without changing our thinking.”'},\n",
       "  {'author': {'goodreads_link': '/author/show/1077326.J_K_Rowling',\n",
       "    'name': 'J.K. Rowling',\n",
       "    'slug': 'J-K-Rowling'},\n",
       "   'tags': ['abilities', 'choices'],\n",
       "   'text': '“It is our choices, Harry, that show what we truly are, far more than our abilities.”'},\n",
       "  {'author': {'goodreads_link': '/author/show/9810.Albert_Einstein',\n",
       "    'name': 'Albert Einstein',\n",
       "    'slug': 'Albert-Einstein'},\n",
       "   'tags': ['inspirational', 'life', 'live', 'miracle', 'miracles'],\n",
       "   'text': '“There are only two ways to live your life. One is as though nothing is a miracle. The other is as though everything is a miracle.”'},\n",
       "  {'author': {'goodreads_link': '/author/show/1265.Jane_Austen',\n",
       "    'name': 'Jane Austen',\n",
       "    'slug': 'Jane-Austen'},\n",
       "   'tags': ['aliteracy', 'books', 'classic', 'humor'],\n",
       "   'text': '“The person, be it gentleman or lady, who has not pleasure in a good novel, must be intolerably stupid.”'},\n",
       "  {'author': {'goodreads_link': '/author/show/82952.Marilyn_Monroe',\n",
       "    'name': 'Marilyn Monroe',\n",
       "    'slug': 'Marilyn-Monroe'},\n",
       "   'tags': ['be-yourself', 'inspirational'],\n",
       "   'text': \"“Imperfection is beauty, madness is genius and it's better to be absolutely ridiculous than absolutely boring.”\"},\n",
       "  {'author': {'goodreads_link': '/author/show/9810.Albert_Einstein',\n",
       "    'name': 'Albert Einstein',\n",
       "    'slug': 'Albert-Einstein'},\n",
       "   'tags': ['adulthood', 'success', 'value'],\n",
       "   'text': '“Try not to become a man of success. Rather become a man of value.”'},\n",
       "  {'author': {'goodreads_link': '/author/show/7617.Andr_Gide',\n",
       "    'name': 'André Gide',\n",
       "    'slug': 'Andre-Gide'},\n",
       "   'tags': ['life', 'love'],\n",
       "   'text': '“It is better to be hated for what you are than to be loved for what you are not.”'},\n",
       "  {'author': {'goodreads_link': '/author/show/3091287.Thomas_A_Edison',\n",
       "    'name': 'Thomas A. Edison',\n",
       "    'slug': 'Thomas-A-Edison'},\n",
       "   'tags': ['edison', 'failure', 'inspirational', 'paraphrased'],\n",
       "   'text': \"“I have not failed. I've just found 10,000 ways that won't work.”\"},\n",
       "  {'author': {'goodreads_link': '/author/show/44566.Eleanor_Roosevelt',\n",
       "    'name': 'Eleanor Roosevelt',\n",
       "    'slug': 'Eleanor-Roosevelt'},\n",
       "   'tags': ['misattributed-eleanor-roosevelt'],\n",
       "   'text': \"“A woman is like a tea bag; you never know how strong it is until it's in hot water.”\"},\n",
       "  {'author': {'goodreads_link': '/author/show/7103.Steve_Martin',\n",
       "    'name': 'Steve Martin',\n",
       "    'slug': 'Steve-Martin'},\n",
       "   'tags': ['humor', 'obvious', 'simile'],\n",
       "   'text': '“A day without sunshine is like, you know, night.”'}],\n",
       " 'tag': None,\n",
       " 'top_ten_tags': [['love', 14],\n",
       "  ['inspirational', 13],\n",
       "  ['life', 13],\n",
       "  ['humor', 12],\n",
       "  ['books', 11],\n",
       "  ['reading', 7],\n",
       "  ['friendship', 5],\n",
       "  ['friends', 4],\n",
       "  ['truth', 4],\n",
       "  ['death', 3]]}"
      ]
     },
     "execution_count": 7,
     "metadata": {},
     "output_type": "execute_result"
    }
   ],
   "source": [
    "dict_from_json # json file 예시"
   ]
  },
  {
   "cell_type": "code",
   "execution_count": 8,
   "metadata": {},
   "outputs": [
    {
     "data": {
      "text/plain": [
       "dict_keys(['has_next', 'page', 'quotes', 'tag', 'top_ten_tags'])"
      ]
     },
     "execution_count": 8,
     "metadata": {},
     "output_type": "execute_result"
    }
   ],
   "source": [
    "dict_from_json.keys()"
   ]
  },
  {
   "cell_type": "code",
   "execution_count": 9,
   "metadata": {},
   "outputs": [
    {
     "data": {
      "text/plain": [
       "True"
      ]
     },
     "execution_count": 9,
     "metadata": {},
     "output_type": "execute_result"
    }
   ],
   "source": [
    "dict_from_json['has_next']"
   ]
  },
  {
   "cell_type": "code",
   "execution_count": 10,
   "metadata": {},
   "outputs": [
    {
     "data": {
      "text/plain": [
       "1"
      ]
     },
     "execution_count": 10,
     "metadata": {},
     "output_type": "execute_result"
    }
   ],
   "source": [
    "dict_from_json['page']"
   ]
  },
  {
   "cell_type": "code",
   "execution_count": 11,
   "metadata": {
    "scrolled": true
   },
   "outputs": [
    {
     "data": {
      "text/plain": [
       "[{'author': {'goodreads_link': '/author/show/9810.Albert_Einstein',\n",
       "   'name': 'Albert Einstein',\n",
       "   'slug': 'Albert-Einstein'},\n",
       "  'tags': ['change', 'deep-thoughts', 'thinking', 'world'],\n",
       "  'text': '“The world as we have created it is a process of our thinking. It cannot be changed without changing our thinking.”'},\n",
       " {'author': {'goodreads_link': '/author/show/1077326.J_K_Rowling',\n",
       "   'name': 'J.K. Rowling',\n",
       "   'slug': 'J-K-Rowling'},\n",
       "  'tags': ['abilities', 'choices'],\n",
       "  'text': '“It is our choices, Harry, that show what we truly are, far more than our abilities.”'},\n",
       " {'author': {'goodreads_link': '/author/show/9810.Albert_Einstein',\n",
       "   'name': 'Albert Einstein',\n",
       "   'slug': 'Albert-Einstein'},\n",
       "  'tags': ['inspirational', 'life', 'live', 'miracle', 'miracles'],\n",
       "  'text': '“There are only two ways to live your life. One is as though nothing is a miracle. The other is as though everything is a miracle.”'},\n",
       " {'author': {'goodreads_link': '/author/show/1265.Jane_Austen',\n",
       "   'name': 'Jane Austen',\n",
       "   'slug': 'Jane-Austen'},\n",
       "  'tags': ['aliteracy', 'books', 'classic', 'humor'],\n",
       "  'text': '“The person, be it gentleman or lady, who has not pleasure in a good novel, must be intolerably stupid.”'},\n",
       " {'author': {'goodreads_link': '/author/show/82952.Marilyn_Monroe',\n",
       "   'name': 'Marilyn Monroe',\n",
       "   'slug': 'Marilyn-Monroe'},\n",
       "  'tags': ['be-yourself', 'inspirational'],\n",
       "  'text': \"“Imperfection is beauty, madness is genius and it's better to be absolutely ridiculous than absolutely boring.”\"},\n",
       " {'author': {'goodreads_link': '/author/show/9810.Albert_Einstein',\n",
       "   'name': 'Albert Einstein',\n",
       "   'slug': 'Albert-Einstein'},\n",
       "  'tags': ['adulthood', 'success', 'value'],\n",
       "  'text': '“Try not to become a man of success. Rather become a man of value.”'},\n",
       " {'author': {'goodreads_link': '/author/show/7617.Andr_Gide',\n",
       "   'name': 'André Gide',\n",
       "   'slug': 'Andre-Gide'},\n",
       "  'tags': ['life', 'love'],\n",
       "  'text': '“It is better to be hated for what you are than to be loved for what you are not.”'},\n",
       " {'author': {'goodreads_link': '/author/show/3091287.Thomas_A_Edison',\n",
       "   'name': 'Thomas A. Edison',\n",
       "   'slug': 'Thomas-A-Edison'},\n",
       "  'tags': ['edison', 'failure', 'inspirational', 'paraphrased'],\n",
       "  'text': \"“I have not failed. I've just found 10,000 ways that won't work.”\"},\n",
       " {'author': {'goodreads_link': '/author/show/44566.Eleanor_Roosevelt',\n",
       "   'name': 'Eleanor Roosevelt',\n",
       "   'slug': 'Eleanor-Roosevelt'},\n",
       "  'tags': ['misattributed-eleanor-roosevelt'],\n",
       "  'text': \"“A woman is like a tea bag; you never know how strong it is until it's in hot water.”\"},\n",
       " {'author': {'goodreads_link': '/author/show/7103.Steve_Martin',\n",
       "   'name': 'Steve Martin',\n",
       "   'slug': 'Steve-Martin'},\n",
       "  'tags': ['humor', 'obvious', 'simile'],\n",
       "  'text': '“A day without sunshine is like, you know, night.”'}]"
      ]
     },
     "execution_count": 11,
     "metadata": {},
     "output_type": "execute_result"
    }
   ],
   "source": [
    "dict_from_json['quotes']"
   ]
  },
  {
   "cell_type": "code",
   "execution_count": 12,
   "metadata": {},
   "outputs": [
    {
     "data": {
      "text/plain": [
       "{'author': {'goodreads_link': '/author/show/9810.Albert_Einstein',\n",
       "  'name': 'Albert Einstein',\n",
       "  'slug': 'Albert-Einstein'},\n",
       " 'tags': ['change', 'deep-thoughts', 'thinking', 'world'],\n",
       " 'text': '“The world as we have created it is a process of our thinking. It cannot be changed without changing our thinking.”'}"
      ]
     },
     "execution_count": 12,
     "metadata": {},
     "output_type": "execute_result"
    }
   ],
   "source": [
    "dict_from_json['quotes'][0]"
   ]
  },
  {
   "cell_type": "code",
   "execution_count": 13,
   "metadata": {},
   "outputs": [
    {
     "data": {
      "text/plain": [
       "{'author': {'goodreads_link': '/author/show/1077326.J_K_Rowling',\n",
       "  'name': 'J.K. Rowling',\n",
       "  'slug': 'J-K-Rowling'},\n",
       " 'tags': ['abilities', 'choices'],\n",
       " 'text': '“It is our choices, Harry, that show what we truly are, far more than our abilities.”'}"
      ]
     },
     "execution_count": 13,
     "metadata": {},
     "output_type": "execute_result"
    }
   ],
   "source": [
    "dict_from_json['quotes'][1]"
   ]
  },
  {
   "cell_type": "code",
   "execution_count": 14,
   "metadata": {},
   "outputs": [
    {
     "data": {
      "text/plain": [
       "dict_keys(['author', 'tags', 'text'])"
      ]
     },
     "execution_count": 14,
     "metadata": {},
     "output_type": "execute_result"
    }
   ],
   "source": [
    "dict_from_json['quotes'][0].keys()"
   ]
  },
  {
   "cell_type": "code",
   "execution_count": 15,
   "metadata": {},
   "outputs": [
    {
     "data": {
      "text/plain": [
       "{'goodreads_link': '/author/show/9810.Albert_Einstein',\n",
       " 'name': 'Albert Einstein',\n",
       " 'slug': 'Albert-Einstein'}"
      ]
     },
     "execution_count": 15,
     "metadata": {},
     "output_type": "execute_result"
    }
   ],
   "source": [
    "dict_from_json['quotes'][0]['author']"
   ]
  },
  {
   "cell_type": "code",
   "execution_count": 16,
   "metadata": {},
   "outputs": [
    {
     "data": {
      "text/plain": [
       "'Albert Einstein'"
      ]
     },
     "execution_count": 16,
     "metadata": {},
     "output_type": "execute_result"
    }
   ],
   "source": [
    "dict_from_json['quotes'][0]['author']['name']"
   ]
  },
  {
   "cell_type": "code",
   "execution_count": 17,
   "metadata": {},
   "outputs": [
    {
     "data": {
      "text/plain": [
       "['change', 'deep-thoughts', 'thinking', 'world']"
      ]
     },
     "execution_count": 17,
     "metadata": {},
     "output_type": "execute_result"
    }
   ],
   "source": [
    "dict_from_json['quotes'][0]['tags']"
   ]
  },
  {
   "cell_type": "code",
   "execution_count": 18,
   "metadata": {},
   "outputs": [
    {
     "data": {
      "text/plain": [
       "'“The world as we have created it is a process of our thinking. It cannot be changed without changing our thinking.”'"
      ]
     },
     "execution_count": 18,
     "metadata": {},
     "output_type": "execute_result"
    }
   ],
   "source": [
    "dict_from_json['quotes'][0]['text']"
   ]
  },
  {
   "cell_type": "code",
   "execution_count": 19,
   "metadata": {},
   "outputs": [],
   "source": [
    "QUOTE = pd.DataFrame(dict_from_json['quotes']) # json to dataframe"
   ]
  },
  {
   "cell_type": "code",
   "execution_count": 21,
   "metadata": {},
   "outputs": [
    {
     "data": {
      "text/html": [
       "<div>\n",
       "<style scoped>\n",
       "    .dataframe tbody tr th:only-of-type {\n",
       "        vertical-align: middle;\n",
       "    }\n",
       "\n",
       "    .dataframe tbody tr th {\n",
       "        vertical-align: top;\n",
       "    }\n",
       "\n",
       "    .dataframe thead th {\n",
       "        text-align: right;\n",
       "    }\n",
       "</style>\n",
       "<table border=\"1\" class=\"dataframe\">\n",
       "  <thead>\n",
       "    <tr style=\"text-align: right;\">\n",
       "      <th></th>\n",
       "      <th>author</th>\n",
       "      <th>tags</th>\n",
       "      <th>text</th>\n",
       "    </tr>\n",
       "  </thead>\n",
       "  <tbody>\n",
       "    <tr>\n",
       "      <th>0</th>\n",
       "      <td>{'goodreads_link': '/author/show/9810.Albert_E...</td>\n",
       "      <td>[change, deep-thoughts, thinking, world]</td>\n",
       "      <td>“The world as we have created it is a process ...</td>\n",
       "    </tr>\n",
       "    <tr>\n",
       "      <th>1</th>\n",
       "      <td>{'goodreads_link': '/author/show/1077326.J_K_R...</td>\n",
       "      <td>[abilities, choices]</td>\n",
       "      <td>“It is our choices, Harry, that show what we t...</td>\n",
       "    </tr>\n",
       "    <tr>\n",
       "      <th>2</th>\n",
       "      <td>{'goodreads_link': '/author/show/9810.Albert_E...</td>\n",
       "      <td>[inspirational, life, live, miracle, miracles]</td>\n",
       "      <td>“There are only two ways to live your life. On...</td>\n",
       "    </tr>\n",
       "    <tr>\n",
       "      <th>3</th>\n",
       "      <td>{'goodreads_link': '/author/show/1265.Jane_Aus...</td>\n",
       "      <td>[aliteracy, books, classic, humor]</td>\n",
       "      <td>“The person, be it gentleman or lady, who has ...</td>\n",
       "    </tr>\n",
       "    <tr>\n",
       "      <th>4</th>\n",
       "      <td>{'goodreads_link': '/author/show/82952.Marilyn...</td>\n",
       "      <td>[be-yourself, inspirational]</td>\n",
       "      <td>“Imperfection is beauty, madness is genius and...</td>\n",
       "    </tr>\n",
       "    <tr>\n",
       "      <th>5</th>\n",
       "      <td>{'goodreads_link': '/author/show/9810.Albert_E...</td>\n",
       "      <td>[adulthood, success, value]</td>\n",
       "      <td>“Try not to become a man of success. Rather be...</td>\n",
       "    </tr>\n",
       "    <tr>\n",
       "      <th>6</th>\n",
       "      <td>{'goodreads_link': '/author/show/7617.Andr_Gid...</td>\n",
       "      <td>[life, love]</td>\n",
       "      <td>“It is better to be hated for what you are tha...</td>\n",
       "    </tr>\n",
       "    <tr>\n",
       "      <th>7</th>\n",
       "      <td>{'goodreads_link': '/author/show/3091287.Thoma...</td>\n",
       "      <td>[edison, failure, inspirational, paraphrased]</td>\n",
       "      <td>“I have not failed. I've just found 10,000 way...</td>\n",
       "    </tr>\n",
       "    <tr>\n",
       "      <th>8</th>\n",
       "      <td>{'goodreads_link': '/author/show/44566.Eleanor...</td>\n",
       "      <td>[misattributed-eleanor-roosevelt]</td>\n",
       "      <td>“A woman is like a tea bag; you never know how...</td>\n",
       "    </tr>\n",
       "    <tr>\n",
       "      <th>9</th>\n",
       "      <td>{'goodreads_link': '/author/show/7103.Steve_Ma...</td>\n",
       "      <td>[humor, obvious, simile]</td>\n",
       "      <td>“A day without sunshine is like, you know, nig...</td>\n",
       "    </tr>\n",
       "  </tbody>\n",
       "</table>\n",
       "</div>"
      ],
      "text/plain": [
       "                                              author  \\\n",
       "0  {'goodreads_link': '/author/show/9810.Albert_E...   \n",
       "1  {'goodreads_link': '/author/show/1077326.J_K_R...   \n",
       "2  {'goodreads_link': '/author/show/9810.Albert_E...   \n",
       "3  {'goodreads_link': '/author/show/1265.Jane_Aus...   \n",
       "4  {'goodreads_link': '/author/show/82952.Marilyn...   \n",
       "5  {'goodreads_link': '/author/show/9810.Albert_E...   \n",
       "6  {'goodreads_link': '/author/show/7617.Andr_Gid...   \n",
       "7  {'goodreads_link': '/author/show/3091287.Thoma...   \n",
       "8  {'goodreads_link': '/author/show/44566.Eleanor...   \n",
       "9  {'goodreads_link': '/author/show/7103.Steve_Ma...   \n",
       "\n",
       "                                             tags  \\\n",
       "0        [change, deep-thoughts, thinking, world]   \n",
       "1                            [abilities, choices]   \n",
       "2  [inspirational, life, live, miracle, miracles]   \n",
       "3              [aliteracy, books, classic, humor]   \n",
       "4                    [be-yourself, inspirational]   \n",
       "5                     [adulthood, success, value]   \n",
       "6                                    [life, love]   \n",
       "7   [edison, failure, inspirational, paraphrased]   \n",
       "8               [misattributed-eleanor-roosevelt]   \n",
       "9                        [humor, obvious, simile]   \n",
       "\n",
       "                                                text  \n",
       "0  “The world as we have created it is a process ...  \n",
       "1  “It is our choices, Harry, that show what we t...  \n",
       "2  “There are only two ways to live your life. On...  \n",
       "3  “The person, be it gentleman or lady, who has ...  \n",
       "4  “Imperfection is beauty, madness is genius and...  \n",
       "5  “Try not to become a man of success. Rather be...  \n",
       "6  “It is better to be hated for what you are tha...  \n",
       "7  “I have not failed. I've just found 10,000 way...  \n",
       "8  “A woman is like a tea bag; you never know how...  \n",
       "9  “A day without sunshine is like, you know, nig...  "
      ]
     },
     "execution_count": 21,
     "metadata": {},
     "output_type": "execute_result"
    }
   ],
   "source": [
    "QUOTE"
   ]
  },
  {
   "cell_type": "code",
   "execution_count": 22,
   "metadata": {},
   "outputs": [],
   "source": [
    "QUOTE = pd.DataFrame(columns=['name','tag','text'])"
   ]
  },
  {
   "cell_type": "code",
   "execution_count": 23,
   "metadata": {},
   "outputs": [
    {
     "data": {
      "text/html": [
       "<div>\n",
       "<style scoped>\n",
       "    .dataframe tbody tr th:only-of-type {\n",
       "        vertical-align: middle;\n",
       "    }\n",
       "\n",
       "    .dataframe tbody tr th {\n",
       "        vertical-align: top;\n",
       "    }\n",
       "\n",
       "    .dataframe thead th {\n",
       "        text-align: right;\n",
       "    }\n",
       "</style>\n",
       "<table border=\"1\" class=\"dataframe\">\n",
       "  <thead>\n",
       "    <tr style=\"text-align: right;\">\n",
       "      <th></th>\n",
       "      <th>name</th>\n",
       "      <th>tag</th>\n",
       "      <th>text</th>\n",
       "    </tr>\n",
       "  </thead>\n",
       "  <tbody>\n",
       "  </tbody>\n",
       "</table>\n",
       "</div>"
      ],
      "text/plain": [
       "Empty DataFrame\n",
       "Columns: [name, tag, text]\n",
       "Index: []"
      ]
     },
     "execution_count": 23,
     "metadata": {},
     "output_type": "execute_result"
    }
   ],
   "source": [
    "QUOTE"
   ]
  },
  {
   "cell_type": "code",
   "execution_count": 24,
   "metadata": {},
   "outputs": [
    {
     "data": {
      "text/plain": [
       "{'author': {'goodreads_link': '/author/show/9810.Albert_Einstein',\n",
       "  'name': 'Albert Einstein',\n",
       "  'slug': 'Albert-Einstein'},\n",
       " 'tags': ['change', 'deep-thoughts', 'thinking', 'world'],\n",
       " 'text': '“The world as we have created it is a process of our thinking. It cannot be changed without changing our thinking.”'}"
      ]
     },
     "execution_count": 24,
     "metadata": {},
     "output_type": "execute_result"
    }
   ],
   "source": [
    "dict_from_json['quotes'][0]"
   ]
  },
  {
   "cell_type": "code",
   "execution_count": 28,
   "metadata": {},
   "outputs": [
    {
     "name": "stdout",
     "output_type": "stream",
     "text": [
      "Albert Einstein\n"
     ]
    }
   ],
   "source": [
    "quoteName = dict_from_json['quotes'][0]['author']['name']\n",
    "print(quoteName)"
   ]
  },
  {
   "cell_type": "code",
   "execution_count": 29,
   "metadata": {},
   "outputs": [
    {
     "name": "stdout",
     "output_type": "stream",
     "text": [
      "['change', 'deep-thoughts', 'thinking', 'world']\n"
     ]
    }
   ],
   "source": [
    "quoteTag = dict_from_json['quotes'][0]['tags']\n",
    "print(quoteTag)"
   ]
  },
  {
   "cell_type": "code",
   "execution_count": 30,
   "metadata": {},
   "outputs": [
    {
     "name": "stdout",
     "output_type": "stream",
     "text": [
      "“The world as we have created it is a process of our thinking. It cannot be changed without changing our thinking.”\n"
     ]
    }
   ],
   "source": [
    "quoteText = dict_from_json['quotes'][0]['text']\n",
    "print(quoteText)"
   ]
  },
  {
   "cell_type": "code",
   "execution_count": 31,
   "metadata": {},
   "outputs": [],
   "source": [
    "TMP = pd.DataFrame({'name':quoteName, 'tag':quoteTag, 'text':quoteText})"
   ]
  },
  {
   "cell_type": "code",
   "execution_count": 34,
   "metadata": {},
   "outputs": [
    {
     "data": {
      "text/html": [
       "<div>\n",
       "<style scoped>\n",
       "    .dataframe tbody tr th:only-of-type {\n",
       "        vertical-align: middle;\n",
       "    }\n",
       "\n",
       "    .dataframe tbody tr th {\n",
       "        vertical-align: top;\n",
       "    }\n",
       "\n",
       "    .dataframe thead th {\n",
       "        text-align: right;\n",
       "    }\n",
       "</style>\n",
       "<table border=\"1\" class=\"dataframe\">\n",
       "  <thead>\n",
       "    <tr style=\"text-align: right;\">\n",
       "      <th></th>\n",
       "      <th>name</th>\n",
       "      <th>tag</th>\n",
       "      <th>text</th>\n",
       "    </tr>\n",
       "  </thead>\n",
       "  <tbody>\n",
       "    <tr>\n",
       "      <th>0</th>\n",
       "      <td>Albert Einstein</td>\n",
       "      <td>change</td>\n",
       "      <td>“The world as we have created it is a process ...</td>\n",
       "    </tr>\n",
       "    <tr>\n",
       "      <th>1</th>\n",
       "      <td>Albert Einstein</td>\n",
       "      <td>deep-thoughts</td>\n",
       "      <td>“The world as we have created it is a process ...</td>\n",
       "    </tr>\n",
       "    <tr>\n",
       "      <th>2</th>\n",
       "      <td>Albert Einstein</td>\n",
       "      <td>thinking</td>\n",
       "      <td>“The world as we have created it is a process ...</td>\n",
       "    </tr>\n",
       "    <tr>\n",
       "      <th>3</th>\n",
       "      <td>Albert Einstein</td>\n",
       "      <td>world</td>\n",
       "      <td>“The world as we have created it is a process ...</td>\n",
       "    </tr>\n",
       "  </tbody>\n",
       "</table>\n",
       "</div>"
      ],
      "text/plain": [
       "              name            tag  \\\n",
       "0  Albert Einstein         change   \n",
       "1  Albert Einstein  deep-thoughts   \n",
       "2  Albert Einstein       thinking   \n",
       "3  Albert Einstein          world   \n",
       "\n",
       "                                                text  \n",
       "0  “The world as we have created it is a process ...  \n",
       "1  “The world as we have created it is a process ...  \n",
       "2  “The world as we have created it is a process ...  \n",
       "3  “The world as we have created it is a process ...  "
      ]
     },
     "execution_count": 34,
     "metadata": {},
     "output_type": "execute_result"
    }
   ],
   "source": [
    "TMP # tag가 list이기 때문에 Albert Einstein이 중복되어 나타남"
   ]
  },
  {
   "cell_type": "code",
   "execution_count": 35,
   "metadata": {},
   "outputs": [],
   "source": [
    "QUOTE = QUOTE.append(TMP)"
   ]
  },
  {
   "cell_type": "code",
   "execution_count": 36,
   "metadata": {},
   "outputs": [
    {
     "data": {
      "text/html": [
       "<div>\n",
       "<style scoped>\n",
       "    .dataframe tbody tr th:only-of-type {\n",
       "        vertical-align: middle;\n",
       "    }\n",
       "\n",
       "    .dataframe tbody tr th {\n",
       "        vertical-align: top;\n",
       "    }\n",
       "\n",
       "    .dataframe thead th {\n",
       "        text-align: right;\n",
       "    }\n",
       "</style>\n",
       "<table border=\"1\" class=\"dataframe\">\n",
       "  <thead>\n",
       "    <tr style=\"text-align: right;\">\n",
       "      <th></th>\n",
       "      <th>name</th>\n",
       "      <th>tag</th>\n",
       "      <th>text</th>\n",
       "    </tr>\n",
       "  </thead>\n",
       "  <tbody>\n",
       "    <tr>\n",
       "      <th>0</th>\n",
       "      <td>Albert Einstein</td>\n",
       "      <td>change</td>\n",
       "      <td>“The world as we have created it is a process ...</td>\n",
       "    </tr>\n",
       "    <tr>\n",
       "      <th>1</th>\n",
       "      <td>Albert Einstein</td>\n",
       "      <td>deep-thoughts</td>\n",
       "      <td>“The world as we have created it is a process ...</td>\n",
       "    </tr>\n",
       "    <tr>\n",
       "      <th>2</th>\n",
       "      <td>Albert Einstein</td>\n",
       "      <td>thinking</td>\n",
       "      <td>“The world as we have created it is a process ...</td>\n",
       "    </tr>\n",
       "    <tr>\n",
       "      <th>3</th>\n",
       "      <td>Albert Einstein</td>\n",
       "      <td>world</td>\n",
       "      <td>“The world as we have created it is a process ...</td>\n",
       "    </tr>\n",
       "  </tbody>\n",
       "</table>\n",
       "</div>"
      ],
      "text/plain": [
       "              name            tag  \\\n",
       "0  Albert Einstein         change   \n",
       "1  Albert Einstein  deep-thoughts   \n",
       "2  Albert Einstein       thinking   \n",
       "3  Albert Einstein          world   \n",
       "\n",
       "                                                text  \n",
       "0  “The world as we have created it is a process ...  \n",
       "1  “The world as we have created it is a process ...  \n",
       "2  “The world as we have created it is a process ...  \n",
       "3  “The world as we have created it is a process ...  "
      ]
     },
     "execution_count": 36,
     "metadata": {},
     "output_type": "execute_result"
    }
   ],
   "source": [
    "QUOTE"
   ]
  },
  {
   "cell_type": "markdown",
   "metadata": {},
   "source": [
    "### Multi page issue\n",
    "- 'has_next' 변수가 false가 되는 페이지를 찾아야함"
   ]
  },
  {
   "cell_type": "code",
   "execution_count": 41,
   "metadata": {},
   "outputs": [],
   "source": [
    "chromeDir = '/Users/jiwonjang/python_tutorial/chromedriver'\n",
    "driver = webdriver.Chrome(chromeDir)"
   ]
  },
  {
   "cell_type": "code",
   "execution_count": 42,
   "metadata": {},
   "outputs": [],
   "source": [
    "targetUrl = 'https://spidyquotes.herokuapp.com/api/quotes?page='"
   ]
  },
  {
   "cell_type": "markdown",
   "metadata": {},
   "source": [
    "### 순회해야 하는 페이지 만들기"
   ]
  },
  {
   "cell_type": "code",
   "execution_count": 39,
   "metadata": {
    "scrolled": true
   },
   "outputs": [
    {
     "name": "stdout",
     "output_type": "stream",
     "text": [
      "https://spidyquotes.herokuapp.com/api/quotes?page=0\n",
      "True\n",
      "https://spidyquotes.herokuapp.com/api/quotes?page=1\n",
      "True\n",
      "https://spidyquotes.herokuapp.com/api/quotes?page=2\n",
      "True\n",
      "https://spidyquotes.herokuapp.com/api/quotes?page=3\n",
      "True\n",
      "https://spidyquotes.herokuapp.com/api/quotes?page=4\n",
      "True\n",
      "https://spidyquotes.herokuapp.com/api/quotes?page=5\n",
      "True\n",
      "https://spidyquotes.herokuapp.com/api/quotes?page=6\n",
      "True\n",
      "https://spidyquotes.herokuapp.com/api/quotes?page=7\n",
      "True\n",
      "https://spidyquotes.herokuapp.com/api/quotes?page=8\n",
      "True\n",
      "https://spidyquotes.herokuapp.com/api/quotes?page=9\n",
      "True\n",
      "https://spidyquotes.herokuapp.com/api/quotes?page=10\n",
      "False\n",
      "https://spidyquotes.herokuapp.com/api/quotes?page=11\n",
      "False\n"
     ]
    },
    {
     "ename": "KeyboardInterrupt",
     "evalue": "",
     "output_type": "error",
     "traceback": [
      "\u001b[0;31m---------------------------------------------------------------------------\u001b[0m",
      "\u001b[0;31mKeyboardInterrupt\u001b[0m                         Traceback (most recent call last)",
      "\u001b[0;32m<ipython-input-39-98f0656158c9>\u001b[0m in \u001b[0;36m<module>\u001b[0;34m\u001b[0m\n\u001b[1;32m      9\u001b[0m     \u001b[0mprint\u001b[0m\u001b[0;34m(\u001b[0m\u001b[0mhasNext\u001b[0m\u001b[0;34m)\u001b[0m\u001b[0;34m\u001b[0m\u001b[0;34m\u001b[0m\u001b[0m\n\u001b[1;32m     10\u001b[0m     \u001b[0mTruePages\u001b[0m\u001b[0;34m.\u001b[0m\u001b[0mappend\u001b[0m\u001b[0;34m(\u001b[0m\u001b[0mtarget\u001b[0m\u001b[0;34m)\u001b[0m\u001b[0;34m\u001b[0m\u001b[0;34m\u001b[0m\u001b[0m\n\u001b[0;32m---> 11\u001b[0;31m     \u001b[0msleep\u001b[0m\u001b[0;34m(\u001b[0m\u001b[0mrandint\u001b[0m\u001b[0;34m(\u001b[0m\u001b[0;36m1\u001b[0m\u001b[0;34m,\u001b[0m\u001b[0;36m5\u001b[0m\u001b[0;34m)\u001b[0m\u001b[0;34m)\u001b[0m\u001b[0;34m\u001b[0m\u001b[0;34m\u001b[0m\u001b[0m\n\u001b[0m",
      "\u001b[0;31mKeyboardInterrupt\u001b[0m: "
     ]
    }
   ],
   "source": [
    "TruePages = []\n",
    "for z, i in enumerate(range(1,13)):\n",
    "    print(targetUrl+str(z))\n",
    "    target = targetUrl+str(z)\n",
    "    driver.get(target)\n",
    "    soup = BeautifulSoup(driver.page_source)\n",
    "    dict_from_json = json.loads(soup.find(\"body\").text)\n",
    "    hasNext = dict_from_json['has_next']\n",
    "    print(hasNext)\n",
    "    TruePages.append(target)\n",
    "    sleep(randint(1,5))"
   ]
  },
  {
   "cell_type": "markdown",
   "metadata": {},
   "source": [
    "### 조건 추가"
   ]
  },
  {
   "cell_type": "code",
   "execution_count": 43,
   "metadata": {},
   "outputs": [
    {
     "name": "stdout",
     "output_type": "stream",
     "text": [
      "https://spidyquotes.herokuapp.com/api/quotes?page=0\n",
      "True\n",
      "https://spidyquotes.herokuapp.com/api/quotes?page=1\n",
      "True\n",
      "https://spidyquotes.herokuapp.com/api/quotes?page=2\n",
      "True\n",
      "https://spidyquotes.herokuapp.com/api/quotes?page=3\n",
      "True\n",
      "https://spidyquotes.herokuapp.com/api/quotes?page=4\n",
      "True\n",
      "https://spidyquotes.herokuapp.com/api/quotes?page=5\n",
      "True\n",
      "https://spidyquotes.herokuapp.com/api/quotes?page=6\n",
      "True\n",
      "https://spidyquotes.herokuapp.com/api/quotes?page=7\n",
      "True\n",
      "https://spidyquotes.herokuapp.com/api/quotes?page=8\n",
      "True\n",
      "https://spidyquotes.herokuapp.com/api/quotes?page=9\n",
      "True\n",
      "https://spidyquotes.herokuapp.com/api/quotes?page=10\n",
      "False\n",
      "finish!\n"
     ]
    }
   ],
   "source": [
    "TruePages = []\n",
    "for z, i in enumerate(range(1,20)):\n",
    "    print(targetUrl+str(z))\n",
    "    target = targetUrl+str(z)\n",
    "    driver.get(target)\n",
    "    soup = BeautifulSoup(driver.page_source)\n",
    "    dict_from_json = json.loads(soup.find(\"body\").text)\n",
    "    hasNext = dict_from_json['has_next']\n",
    "    print(hasNext)\n",
    "    TruePages.append(target)\n",
    "    sleep(randint(1,3))\n",
    "    if hasNext == False:\n",
    "        break\n",
    "print('finish!')"
   ]
  },
  {
   "cell_type": "code",
   "execution_count": 81,
   "metadata": {},
   "outputs": [
    {
     "data": {
      "text/plain": [
       "['https://spidyquotes.herokuapp.com/api/quotes?page=0',\n",
       " 'https://spidyquotes.herokuapp.com/api/quotes?page=1',\n",
       " 'https://spidyquotes.herokuapp.com/api/quotes?page=2',\n",
       " 'https://spidyquotes.herokuapp.com/api/quotes?page=3',\n",
       " 'https://spidyquotes.herokuapp.com/api/quotes?page=4',\n",
       " 'https://spidyquotes.herokuapp.com/api/quotes?page=5',\n",
       " 'https://spidyquotes.herokuapp.com/api/quotes?page=6',\n",
       " 'https://spidyquotes.herokuapp.com/api/quotes?page=7',\n",
       " 'https://spidyquotes.herokuapp.com/api/quotes?page=8',\n",
       " 'https://spidyquotes.herokuapp.com/api/quotes?page=9',\n",
       " 'https://spidyquotes.herokuapp.com/api/quotes?page=10']"
      ]
     },
     "execution_count": 81,
     "metadata": {},
     "output_type": "execute_result"
    }
   ],
   "source": [
    "TruePages"
   ]
  },
  {
   "cell_type": "markdown",
   "metadata": {},
   "source": [
    "# 데이터 수집 및 저장"
   ]
  },
  {
   "cell_type": "code",
   "execution_count": 47,
   "metadata": {},
   "outputs": [],
   "source": [
    "chromeDir = '/Users/jiwonjang/python_tutorial/chromedriver'\n",
    "driver = webdriver.Chrome(chromeDir)"
   ]
  },
  {
   "cell_type": "code",
   "execution_count": 48,
   "metadata": {},
   "outputs": [],
   "source": [
    "FINALDF = pd.DataFrame()"
   ]
  },
  {
   "cell_type": "code",
   "execution_count": 49,
   "metadata": {},
   "outputs": [
    {
     "name": "stderr",
     "output_type": "stream",
     "text": [
      "100%|██████████| 11/11 [00:32<00:00,  2.96s/it]\n"
     ]
    }
   ],
   "source": [
    "for url in tqdm(TruePages):\n",
    "    driver.get(target)\n",
    "    soup = BeautifulSoup(driver.page_source)\n",
    "    dict_from_json = json.loads(soup.find(\"body\").text)\n",
    "    QUOTE = pd.DataFrame(dict_from_json['quotes']) # json to dataframe\n",
    "    FINALDF = FINALDF.append(QUOTE)\n",
    "    sleep(randint(1,3))\n"
   ]
  },
  {
   "cell_type": "code",
   "execution_count": 50,
   "metadata": {},
   "outputs": [
    {
     "data": {
      "text/html": [
       "<div>\n",
       "<style scoped>\n",
       "    .dataframe tbody tr th:only-of-type {\n",
       "        vertical-align: middle;\n",
       "    }\n",
       "\n",
       "    .dataframe tbody tr th {\n",
       "        vertical-align: top;\n",
       "    }\n",
       "\n",
       "    .dataframe thead th {\n",
       "        text-align: right;\n",
       "    }\n",
       "</style>\n",
       "<table border=\"1\" class=\"dataframe\">\n",
       "  <thead>\n",
       "    <tr style=\"text-align: right;\">\n",
       "      <th></th>\n",
       "      <th>author</th>\n",
       "      <th>tags</th>\n",
       "      <th>text</th>\n",
       "    </tr>\n",
       "  </thead>\n",
       "  <tbody>\n",
       "    <tr>\n",
       "      <th>0</th>\n",
       "      <td>{'goodreads_link': '/author/show/1077326.J_K_R...</td>\n",
       "      <td>[truth]</td>\n",
       "      <td>“The truth.\" Dumbledore sighed. \"It is a beaut...</td>\n",
       "    </tr>\n",
       "    <tr>\n",
       "      <th>1</th>\n",
       "      <td>{'goodreads_link': '/author/show/7268.Jimi_Hen...</td>\n",
       "      <td>[death, life]</td>\n",
       "      <td>“I'm the one that's got to die when it's time ...</td>\n",
       "    </tr>\n",
       "    <tr>\n",
       "      <th>2</th>\n",
       "      <td>{'goodreads_link': '/author/show/5255014.J_M_B...</td>\n",
       "      <td>[adventure, love]</td>\n",
       "      <td>“To die will be an awfully big adventure.”</td>\n",
       "    </tr>\n",
       "    <tr>\n",
       "      <th>3</th>\n",
       "      <td>{'goodreads_link': '/author/show/10547.E_E_Cum...</td>\n",
       "      <td>[courage]</td>\n",
       "      <td>“It takes courage to grow up and become who yo...</td>\n",
       "    </tr>\n",
       "    <tr>\n",
       "      <th>4</th>\n",
       "      <td>{'goodreads_link': '/author/show/569.Khaled_Ho...</td>\n",
       "      <td>[life]</td>\n",
       "      <td>“But better to get hurt by the truth than comf...</td>\n",
       "    </tr>\n",
       "    <tr>\n",
       "      <th>5</th>\n",
       "      <td>{'goodreads_link': '/author/show/1825.Harper_L...</td>\n",
       "      <td>[better-life-empathy]</td>\n",
       "      <td>“You never really understand a person until yo...</td>\n",
       "    </tr>\n",
       "    <tr>\n",
       "      <th>6</th>\n",
       "      <td>{'goodreads_link': '/author/show/106.Madeleine...</td>\n",
       "      <td>[books, children, difficult, grown-ups, write,...</td>\n",
       "      <td>“You have to write the book that wants to be w...</td>\n",
       "    </tr>\n",
       "    <tr>\n",
       "      <th>7</th>\n",
       "      <td>{'goodreads_link': '/author/show/1244.Mark_Twa...</td>\n",
       "      <td>[truth]</td>\n",
       "      <td>“Never tell the truth to people who are not wo...</td>\n",
       "    </tr>\n",
       "    <tr>\n",
       "      <th>8</th>\n",
       "      <td>{'goodreads_link': '/author/show/61105.Dr_Seus...</td>\n",
       "      <td>[inspirational]</td>\n",
       "      <td>“A person's a person, no matter how small.”</td>\n",
       "    </tr>\n",
       "    <tr>\n",
       "      <th>9</th>\n",
       "      <td>{'goodreads_link': '/author/show/346732.George...</td>\n",
       "      <td>[books, mind]</td>\n",
       "      <td>“... a mind needs books as a sword needs a whe...</td>\n",
       "    </tr>\n",
       "    <tr>\n",
       "      <th>0</th>\n",
       "      <td>{'goodreads_link': '/author/show/1077326.J_K_R...</td>\n",
       "      <td>[truth]</td>\n",
       "      <td>“The truth.\" Dumbledore sighed. \"It is a beaut...</td>\n",
       "    </tr>\n",
       "    <tr>\n",
       "      <th>1</th>\n",
       "      <td>{'goodreads_link': '/author/show/7268.Jimi_Hen...</td>\n",
       "      <td>[death, life]</td>\n",
       "      <td>“I'm the one that's got to die when it's time ...</td>\n",
       "    </tr>\n",
       "    <tr>\n",
       "      <th>2</th>\n",
       "      <td>{'goodreads_link': '/author/show/5255014.J_M_B...</td>\n",
       "      <td>[adventure, love]</td>\n",
       "      <td>“To die will be an awfully big adventure.”</td>\n",
       "    </tr>\n",
       "    <tr>\n",
       "      <th>3</th>\n",
       "      <td>{'goodreads_link': '/author/show/10547.E_E_Cum...</td>\n",
       "      <td>[courage]</td>\n",
       "      <td>“It takes courage to grow up and become who yo...</td>\n",
       "    </tr>\n",
       "    <tr>\n",
       "      <th>4</th>\n",
       "      <td>{'goodreads_link': '/author/show/569.Khaled_Ho...</td>\n",
       "      <td>[life]</td>\n",
       "      <td>“But better to get hurt by the truth than comf...</td>\n",
       "    </tr>\n",
       "    <tr>\n",
       "      <th>5</th>\n",
       "      <td>{'goodreads_link': '/author/show/1825.Harper_L...</td>\n",
       "      <td>[better-life-empathy]</td>\n",
       "      <td>“You never really understand a person until yo...</td>\n",
       "    </tr>\n",
       "    <tr>\n",
       "      <th>6</th>\n",
       "      <td>{'goodreads_link': '/author/show/106.Madeleine...</td>\n",
       "      <td>[books, children, difficult, grown-ups, write,...</td>\n",
       "      <td>“You have to write the book that wants to be w...</td>\n",
       "    </tr>\n",
       "    <tr>\n",
       "      <th>7</th>\n",
       "      <td>{'goodreads_link': '/author/show/1244.Mark_Twa...</td>\n",
       "      <td>[truth]</td>\n",
       "      <td>“Never tell the truth to people who are not wo...</td>\n",
       "    </tr>\n",
       "    <tr>\n",
       "      <th>8</th>\n",
       "      <td>{'goodreads_link': '/author/show/61105.Dr_Seus...</td>\n",
       "      <td>[inspirational]</td>\n",
       "      <td>“A person's a person, no matter how small.”</td>\n",
       "    </tr>\n",
       "    <tr>\n",
       "      <th>9</th>\n",
       "      <td>{'goodreads_link': '/author/show/346732.George...</td>\n",
       "      <td>[books, mind]</td>\n",
       "      <td>“... a mind needs books as a sword needs a whe...</td>\n",
       "    </tr>\n",
       "    <tr>\n",
       "      <th>0</th>\n",
       "      <td>{'goodreads_link': '/author/show/1077326.J_K_R...</td>\n",
       "      <td>[truth]</td>\n",
       "      <td>“The truth.\" Dumbledore sighed. \"It is a beaut...</td>\n",
       "    </tr>\n",
       "    <tr>\n",
       "      <th>1</th>\n",
       "      <td>{'goodreads_link': '/author/show/7268.Jimi_Hen...</td>\n",
       "      <td>[death, life]</td>\n",
       "      <td>“I'm the one that's got to die when it's time ...</td>\n",
       "    </tr>\n",
       "    <tr>\n",
       "      <th>2</th>\n",
       "      <td>{'goodreads_link': '/author/show/5255014.J_M_B...</td>\n",
       "      <td>[adventure, love]</td>\n",
       "      <td>“To die will be an awfully big adventure.”</td>\n",
       "    </tr>\n",
       "    <tr>\n",
       "      <th>3</th>\n",
       "      <td>{'goodreads_link': '/author/show/10547.E_E_Cum...</td>\n",
       "      <td>[courage]</td>\n",
       "      <td>“It takes courage to grow up and become who yo...</td>\n",
       "    </tr>\n",
       "    <tr>\n",
       "      <th>4</th>\n",
       "      <td>{'goodreads_link': '/author/show/569.Khaled_Ho...</td>\n",
       "      <td>[life]</td>\n",
       "      <td>“But better to get hurt by the truth than comf...</td>\n",
       "    </tr>\n",
       "    <tr>\n",
       "      <th>5</th>\n",
       "      <td>{'goodreads_link': '/author/show/1825.Harper_L...</td>\n",
       "      <td>[better-life-empathy]</td>\n",
       "      <td>“You never really understand a person until yo...</td>\n",
       "    </tr>\n",
       "    <tr>\n",
       "      <th>6</th>\n",
       "      <td>{'goodreads_link': '/author/show/106.Madeleine...</td>\n",
       "      <td>[books, children, difficult, grown-ups, write,...</td>\n",
       "      <td>“You have to write the book that wants to be w...</td>\n",
       "    </tr>\n",
       "    <tr>\n",
       "      <th>7</th>\n",
       "      <td>{'goodreads_link': '/author/show/1244.Mark_Twa...</td>\n",
       "      <td>[truth]</td>\n",
       "      <td>“Never tell the truth to people who are not wo...</td>\n",
       "    </tr>\n",
       "    <tr>\n",
       "      <th>8</th>\n",
       "      <td>{'goodreads_link': '/author/show/61105.Dr_Seus...</td>\n",
       "      <td>[inspirational]</td>\n",
       "      <td>“A person's a person, no matter how small.”</td>\n",
       "    </tr>\n",
       "    <tr>\n",
       "      <th>9</th>\n",
       "      <td>{'goodreads_link': '/author/show/346732.George...</td>\n",
       "      <td>[books, mind]</td>\n",
       "      <td>“... a mind needs books as a sword needs a whe...</td>\n",
       "    </tr>\n",
       "    <tr>\n",
       "      <th>...</th>\n",
       "      <td>...</td>\n",
       "      <td>...</td>\n",
       "      <td>...</td>\n",
       "    </tr>\n",
       "    <tr>\n",
       "      <th>0</th>\n",
       "      <td>{'goodreads_link': '/author/show/1077326.J_K_R...</td>\n",
       "      <td>[truth]</td>\n",
       "      <td>“The truth.\" Dumbledore sighed. \"It is a beaut...</td>\n",
       "    </tr>\n",
       "    <tr>\n",
       "      <th>1</th>\n",
       "      <td>{'goodreads_link': '/author/show/7268.Jimi_Hen...</td>\n",
       "      <td>[death, life]</td>\n",
       "      <td>“I'm the one that's got to die when it's time ...</td>\n",
       "    </tr>\n",
       "    <tr>\n",
       "      <th>2</th>\n",
       "      <td>{'goodreads_link': '/author/show/5255014.J_M_B...</td>\n",
       "      <td>[adventure, love]</td>\n",
       "      <td>“To die will be an awfully big adventure.”</td>\n",
       "    </tr>\n",
       "    <tr>\n",
       "      <th>3</th>\n",
       "      <td>{'goodreads_link': '/author/show/10547.E_E_Cum...</td>\n",
       "      <td>[courage]</td>\n",
       "      <td>“It takes courage to grow up and become who yo...</td>\n",
       "    </tr>\n",
       "    <tr>\n",
       "      <th>4</th>\n",
       "      <td>{'goodreads_link': '/author/show/569.Khaled_Ho...</td>\n",
       "      <td>[life]</td>\n",
       "      <td>“But better to get hurt by the truth than comf...</td>\n",
       "    </tr>\n",
       "    <tr>\n",
       "      <th>5</th>\n",
       "      <td>{'goodreads_link': '/author/show/1825.Harper_L...</td>\n",
       "      <td>[better-life-empathy]</td>\n",
       "      <td>“You never really understand a person until yo...</td>\n",
       "    </tr>\n",
       "    <tr>\n",
       "      <th>6</th>\n",
       "      <td>{'goodreads_link': '/author/show/106.Madeleine...</td>\n",
       "      <td>[books, children, difficult, grown-ups, write,...</td>\n",
       "      <td>“You have to write the book that wants to be w...</td>\n",
       "    </tr>\n",
       "    <tr>\n",
       "      <th>7</th>\n",
       "      <td>{'goodreads_link': '/author/show/1244.Mark_Twa...</td>\n",
       "      <td>[truth]</td>\n",
       "      <td>“Never tell the truth to people who are not wo...</td>\n",
       "    </tr>\n",
       "    <tr>\n",
       "      <th>8</th>\n",
       "      <td>{'goodreads_link': '/author/show/61105.Dr_Seus...</td>\n",
       "      <td>[inspirational]</td>\n",
       "      <td>“A person's a person, no matter how small.”</td>\n",
       "    </tr>\n",
       "    <tr>\n",
       "      <th>9</th>\n",
       "      <td>{'goodreads_link': '/author/show/346732.George...</td>\n",
       "      <td>[books, mind]</td>\n",
       "      <td>“... a mind needs books as a sword needs a whe...</td>\n",
       "    </tr>\n",
       "    <tr>\n",
       "      <th>0</th>\n",
       "      <td>{'goodreads_link': '/author/show/1077326.J_K_R...</td>\n",
       "      <td>[truth]</td>\n",
       "      <td>“The truth.\" Dumbledore sighed. \"It is a beaut...</td>\n",
       "    </tr>\n",
       "    <tr>\n",
       "      <th>1</th>\n",
       "      <td>{'goodreads_link': '/author/show/7268.Jimi_Hen...</td>\n",
       "      <td>[death, life]</td>\n",
       "      <td>“I'm the one that's got to die when it's time ...</td>\n",
       "    </tr>\n",
       "    <tr>\n",
       "      <th>2</th>\n",
       "      <td>{'goodreads_link': '/author/show/5255014.J_M_B...</td>\n",
       "      <td>[adventure, love]</td>\n",
       "      <td>“To die will be an awfully big adventure.”</td>\n",
       "    </tr>\n",
       "    <tr>\n",
       "      <th>3</th>\n",
       "      <td>{'goodreads_link': '/author/show/10547.E_E_Cum...</td>\n",
       "      <td>[courage]</td>\n",
       "      <td>“It takes courage to grow up and become who yo...</td>\n",
       "    </tr>\n",
       "    <tr>\n",
       "      <th>4</th>\n",
       "      <td>{'goodreads_link': '/author/show/569.Khaled_Ho...</td>\n",
       "      <td>[life]</td>\n",
       "      <td>“But better to get hurt by the truth than comf...</td>\n",
       "    </tr>\n",
       "    <tr>\n",
       "      <th>5</th>\n",
       "      <td>{'goodreads_link': '/author/show/1825.Harper_L...</td>\n",
       "      <td>[better-life-empathy]</td>\n",
       "      <td>“You never really understand a person until yo...</td>\n",
       "    </tr>\n",
       "    <tr>\n",
       "      <th>6</th>\n",
       "      <td>{'goodreads_link': '/author/show/106.Madeleine...</td>\n",
       "      <td>[books, children, difficult, grown-ups, write,...</td>\n",
       "      <td>“You have to write the book that wants to be w...</td>\n",
       "    </tr>\n",
       "    <tr>\n",
       "      <th>7</th>\n",
       "      <td>{'goodreads_link': '/author/show/1244.Mark_Twa...</td>\n",
       "      <td>[truth]</td>\n",
       "      <td>“Never tell the truth to people who are not wo...</td>\n",
       "    </tr>\n",
       "    <tr>\n",
       "      <th>8</th>\n",
       "      <td>{'goodreads_link': '/author/show/61105.Dr_Seus...</td>\n",
       "      <td>[inspirational]</td>\n",
       "      <td>“A person's a person, no matter how small.”</td>\n",
       "    </tr>\n",
       "    <tr>\n",
       "      <th>9</th>\n",
       "      <td>{'goodreads_link': '/author/show/346732.George...</td>\n",
       "      <td>[books, mind]</td>\n",
       "      <td>“... a mind needs books as a sword needs a whe...</td>\n",
       "    </tr>\n",
       "    <tr>\n",
       "      <th>0</th>\n",
       "      <td>{'goodreads_link': '/author/show/1077326.J_K_R...</td>\n",
       "      <td>[truth]</td>\n",
       "      <td>“The truth.\" Dumbledore sighed. \"It is a beaut...</td>\n",
       "    </tr>\n",
       "    <tr>\n",
       "      <th>1</th>\n",
       "      <td>{'goodreads_link': '/author/show/7268.Jimi_Hen...</td>\n",
       "      <td>[death, life]</td>\n",
       "      <td>“I'm the one that's got to die when it's time ...</td>\n",
       "    </tr>\n",
       "    <tr>\n",
       "      <th>2</th>\n",
       "      <td>{'goodreads_link': '/author/show/5255014.J_M_B...</td>\n",
       "      <td>[adventure, love]</td>\n",
       "      <td>“To die will be an awfully big adventure.”</td>\n",
       "    </tr>\n",
       "    <tr>\n",
       "      <th>3</th>\n",
       "      <td>{'goodreads_link': '/author/show/10547.E_E_Cum...</td>\n",
       "      <td>[courage]</td>\n",
       "      <td>“It takes courage to grow up and become who yo...</td>\n",
       "    </tr>\n",
       "    <tr>\n",
       "      <th>4</th>\n",
       "      <td>{'goodreads_link': '/author/show/569.Khaled_Ho...</td>\n",
       "      <td>[life]</td>\n",
       "      <td>“But better to get hurt by the truth than comf...</td>\n",
       "    </tr>\n",
       "    <tr>\n",
       "      <th>5</th>\n",
       "      <td>{'goodreads_link': '/author/show/1825.Harper_L...</td>\n",
       "      <td>[better-life-empathy]</td>\n",
       "      <td>“You never really understand a person until yo...</td>\n",
       "    </tr>\n",
       "    <tr>\n",
       "      <th>6</th>\n",
       "      <td>{'goodreads_link': '/author/show/106.Madeleine...</td>\n",
       "      <td>[books, children, difficult, grown-ups, write,...</td>\n",
       "      <td>“You have to write the book that wants to be w...</td>\n",
       "    </tr>\n",
       "    <tr>\n",
       "      <th>7</th>\n",
       "      <td>{'goodreads_link': '/author/show/1244.Mark_Twa...</td>\n",
       "      <td>[truth]</td>\n",
       "      <td>“Never tell the truth to people who are not wo...</td>\n",
       "    </tr>\n",
       "    <tr>\n",
       "      <th>8</th>\n",
       "      <td>{'goodreads_link': '/author/show/61105.Dr_Seus...</td>\n",
       "      <td>[inspirational]</td>\n",
       "      <td>“A person's a person, no matter how small.”</td>\n",
       "    </tr>\n",
       "    <tr>\n",
       "      <th>9</th>\n",
       "      <td>{'goodreads_link': '/author/show/346732.George...</td>\n",
       "      <td>[books, mind]</td>\n",
       "      <td>“... a mind needs books as a sword needs a whe...</td>\n",
       "    </tr>\n",
       "  </tbody>\n",
       "</table>\n",
       "<p>110 rows × 3 columns</p>\n",
       "</div>"
      ],
      "text/plain": [
       "                                               author  \\\n",
       "0   {'goodreads_link': '/author/show/1077326.J_K_R...   \n",
       "1   {'goodreads_link': '/author/show/7268.Jimi_Hen...   \n",
       "2   {'goodreads_link': '/author/show/5255014.J_M_B...   \n",
       "3   {'goodreads_link': '/author/show/10547.E_E_Cum...   \n",
       "4   {'goodreads_link': '/author/show/569.Khaled_Ho...   \n",
       "5   {'goodreads_link': '/author/show/1825.Harper_L...   \n",
       "6   {'goodreads_link': '/author/show/106.Madeleine...   \n",
       "7   {'goodreads_link': '/author/show/1244.Mark_Twa...   \n",
       "8   {'goodreads_link': '/author/show/61105.Dr_Seus...   \n",
       "9   {'goodreads_link': '/author/show/346732.George...   \n",
       "0   {'goodreads_link': '/author/show/1077326.J_K_R...   \n",
       "1   {'goodreads_link': '/author/show/7268.Jimi_Hen...   \n",
       "2   {'goodreads_link': '/author/show/5255014.J_M_B...   \n",
       "3   {'goodreads_link': '/author/show/10547.E_E_Cum...   \n",
       "4   {'goodreads_link': '/author/show/569.Khaled_Ho...   \n",
       "5   {'goodreads_link': '/author/show/1825.Harper_L...   \n",
       "6   {'goodreads_link': '/author/show/106.Madeleine...   \n",
       "7   {'goodreads_link': '/author/show/1244.Mark_Twa...   \n",
       "8   {'goodreads_link': '/author/show/61105.Dr_Seus...   \n",
       "9   {'goodreads_link': '/author/show/346732.George...   \n",
       "0   {'goodreads_link': '/author/show/1077326.J_K_R...   \n",
       "1   {'goodreads_link': '/author/show/7268.Jimi_Hen...   \n",
       "2   {'goodreads_link': '/author/show/5255014.J_M_B...   \n",
       "3   {'goodreads_link': '/author/show/10547.E_E_Cum...   \n",
       "4   {'goodreads_link': '/author/show/569.Khaled_Ho...   \n",
       "5   {'goodreads_link': '/author/show/1825.Harper_L...   \n",
       "6   {'goodreads_link': '/author/show/106.Madeleine...   \n",
       "7   {'goodreads_link': '/author/show/1244.Mark_Twa...   \n",
       "8   {'goodreads_link': '/author/show/61105.Dr_Seus...   \n",
       "9   {'goodreads_link': '/author/show/346732.George...   \n",
       "..                                                ...   \n",
       "0   {'goodreads_link': '/author/show/1077326.J_K_R...   \n",
       "1   {'goodreads_link': '/author/show/7268.Jimi_Hen...   \n",
       "2   {'goodreads_link': '/author/show/5255014.J_M_B...   \n",
       "3   {'goodreads_link': '/author/show/10547.E_E_Cum...   \n",
       "4   {'goodreads_link': '/author/show/569.Khaled_Ho...   \n",
       "5   {'goodreads_link': '/author/show/1825.Harper_L...   \n",
       "6   {'goodreads_link': '/author/show/106.Madeleine...   \n",
       "7   {'goodreads_link': '/author/show/1244.Mark_Twa...   \n",
       "8   {'goodreads_link': '/author/show/61105.Dr_Seus...   \n",
       "9   {'goodreads_link': '/author/show/346732.George...   \n",
       "0   {'goodreads_link': '/author/show/1077326.J_K_R...   \n",
       "1   {'goodreads_link': '/author/show/7268.Jimi_Hen...   \n",
       "2   {'goodreads_link': '/author/show/5255014.J_M_B...   \n",
       "3   {'goodreads_link': '/author/show/10547.E_E_Cum...   \n",
       "4   {'goodreads_link': '/author/show/569.Khaled_Ho...   \n",
       "5   {'goodreads_link': '/author/show/1825.Harper_L...   \n",
       "6   {'goodreads_link': '/author/show/106.Madeleine...   \n",
       "7   {'goodreads_link': '/author/show/1244.Mark_Twa...   \n",
       "8   {'goodreads_link': '/author/show/61105.Dr_Seus...   \n",
       "9   {'goodreads_link': '/author/show/346732.George...   \n",
       "0   {'goodreads_link': '/author/show/1077326.J_K_R...   \n",
       "1   {'goodreads_link': '/author/show/7268.Jimi_Hen...   \n",
       "2   {'goodreads_link': '/author/show/5255014.J_M_B...   \n",
       "3   {'goodreads_link': '/author/show/10547.E_E_Cum...   \n",
       "4   {'goodreads_link': '/author/show/569.Khaled_Ho...   \n",
       "5   {'goodreads_link': '/author/show/1825.Harper_L...   \n",
       "6   {'goodreads_link': '/author/show/106.Madeleine...   \n",
       "7   {'goodreads_link': '/author/show/1244.Mark_Twa...   \n",
       "8   {'goodreads_link': '/author/show/61105.Dr_Seus...   \n",
       "9   {'goodreads_link': '/author/show/346732.George...   \n",
       "\n",
       "                                                 tags  \\\n",
       "0                                             [truth]   \n",
       "1                                       [death, life]   \n",
       "2                                   [adventure, love]   \n",
       "3                                           [courage]   \n",
       "4                                              [life]   \n",
       "5                               [better-life-empathy]   \n",
       "6   [books, children, difficult, grown-ups, write,...   \n",
       "7                                             [truth]   \n",
       "8                                     [inspirational]   \n",
       "9                                       [books, mind]   \n",
       "0                                             [truth]   \n",
       "1                                       [death, life]   \n",
       "2                                   [adventure, love]   \n",
       "3                                           [courage]   \n",
       "4                                              [life]   \n",
       "5                               [better-life-empathy]   \n",
       "6   [books, children, difficult, grown-ups, write,...   \n",
       "7                                             [truth]   \n",
       "8                                     [inspirational]   \n",
       "9                                       [books, mind]   \n",
       "0                                             [truth]   \n",
       "1                                       [death, life]   \n",
       "2                                   [adventure, love]   \n",
       "3                                           [courage]   \n",
       "4                                              [life]   \n",
       "5                               [better-life-empathy]   \n",
       "6   [books, children, difficult, grown-ups, write,...   \n",
       "7                                             [truth]   \n",
       "8                                     [inspirational]   \n",
       "9                                       [books, mind]   \n",
       "..                                                ...   \n",
       "0                                             [truth]   \n",
       "1                                       [death, life]   \n",
       "2                                   [adventure, love]   \n",
       "3                                           [courage]   \n",
       "4                                              [life]   \n",
       "5                               [better-life-empathy]   \n",
       "6   [books, children, difficult, grown-ups, write,...   \n",
       "7                                             [truth]   \n",
       "8                                     [inspirational]   \n",
       "9                                       [books, mind]   \n",
       "0                                             [truth]   \n",
       "1                                       [death, life]   \n",
       "2                                   [adventure, love]   \n",
       "3                                           [courage]   \n",
       "4                                              [life]   \n",
       "5                               [better-life-empathy]   \n",
       "6   [books, children, difficult, grown-ups, write,...   \n",
       "7                                             [truth]   \n",
       "8                                     [inspirational]   \n",
       "9                                       [books, mind]   \n",
       "0                                             [truth]   \n",
       "1                                       [death, life]   \n",
       "2                                   [adventure, love]   \n",
       "3                                           [courage]   \n",
       "4                                              [life]   \n",
       "5                               [better-life-empathy]   \n",
       "6   [books, children, difficult, grown-ups, write,...   \n",
       "7                                             [truth]   \n",
       "8                                     [inspirational]   \n",
       "9                                       [books, mind]   \n",
       "\n",
       "                                                 text  \n",
       "0   “The truth.\" Dumbledore sighed. \"It is a beaut...  \n",
       "1   “I'm the one that's got to die when it's time ...  \n",
       "2          “To die will be an awfully big adventure.”  \n",
       "3   “It takes courage to grow up and become who yo...  \n",
       "4   “But better to get hurt by the truth than comf...  \n",
       "5   “You never really understand a person until yo...  \n",
       "6   “You have to write the book that wants to be w...  \n",
       "7   “Never tell the truth to people who are not wo...  \n",
       "8         “A person's a person, no matter how small.”  \n",
       "9   “... a mind needs books as a sword needs a whe...  \n",
       "0   “The truth.\" Dumbledore sighed. \"It is a beaut...  \n",
       "1   “I'm the one that's got to die when it's time ...  \n",
       "2          “To die will be an awfully big adventure.”  \n",
       "3   “It takes courage to grow up and become who yo...  \n",
       "4   “But better to get hurt by the truth than comf...  \n",
       "5   “You never really understand a person until yo...  \n",
       "6   “You have to write the book that wants to be w...  \n",
       "7   “Never tell the truth to people who are not wo...  \n",
       "8         “A person's a person, no matter how small.”  \n",
       "9   “... a mind needs books as a sword needs a whe...  \n",
       "0   “The truth.\" Dumbledore sighed. \"It is a beaut...  \n",
       "1   “I'm the one that's got to die when it's time ...  \n",
       "2          “To die will be an awfully big adventure.”  \n",
       "3   “It takes courage to grow up and become who yo...  \n",
       "4   “But better to get hurt by the truth than comf...  \n",
       "5   “You never really understand a person until yo...  \n",
       "6   “You have to write the book that wants to be w...  \n",
       "7   “Never tell the truth to people who are not wo...  \n",
       "8         “A person's a person, no matter how small.”  \n",
       "9   “... a mind needs books as a sword needs a whe...  \n",
       "..                                                ...  \n",
       "0   “The truth.\" Dumbledore sighed. \"It is a beaut...  \n",
       "1   “I'm the one that's got to die when it's time ...  \n",
       "2          “To die will be an awfully big adventure.”  \n",
       "3   “It takes courage to grow up and become who yo...  \n",
       "4   “But better to get hurt by the truth than comf...  \n",
       "5   “You never really understand a person until yo...  \n",
       "6   “You have to write the book that wants to be w...  \n",
       "7   “Never tell the truth to people who are not wo...  \n",
       "8         “A person's a person, no matter how small.”  \n",
       "9   “... a mind needs books as a sword needs a whe...  \n",
       "0   “The truth.\" Dumbledore sighed. \"It is a beaut...  \n",
       "1   “I'm the one that's got to die when it's time ...  \n",
       "2          “To die will be an awfully big adventure.”  \n",
       "3   “It takes courage to grow up and become who yo...  \n",
       "4   “But better to get hurt by the truth than comf...  \n",
       "5   “You never really understand a person until yo...  \n",
       "6   “You have to write the book that wants to be w...  \n",
       "7   “Never tell the truth to people who are not wo...  \n",
       "8         “A person's a person, no matter how small.”  \n",
       "9   “... a mind needs books as a sword needs a whe...  \n",
       "0   “The truth.\" Dumbledore sighed. \"It is a beaut...  \n",
       "1   “I'm the one that's got to die when it's time ...  \n",
       "2          “To die will be an awfully big adventure.”  \n",
       "3   “It takes courage to grow up and become who yo...  \n",
       "4   “But better to get hurt by the truth than comf...  \n",
       "5   “You never really understand a person until yo...  \n",
       "6   “You have to write the book that wants to be w...  \n",
       "7   “Never tell the truth to people who are not wo...  \n",
       "8         “A person's a person, no matter how small.”  \n",
       "9   “... a mind needs books as a sword needs a whe...  \n",
       "\n",
       "[110 rows x 3 columns]"
      ]
     },
     "execution_count": 50,
     "metadata": {},
     "output_type": "execute_result"
    }
   ],
   "source": [
    "FINALDF"
   ]
  },
  {
   "cell_type": "code",
   "execution_count": null,
   "metadata": {},
   "outputs": [],
   "source": []
  }
 ],
 "metadata": {
  "kernelspec": {
   "display_name": "Python 3",
   "language": "python",
   "name": "python3"
  },
  "language_info": {
   "codemirror_mode": {
    "name": "ipython",
    "version": 3
   },
   "file_extension": ".py",
   "mimetype": "text/x-python",
   "name": "python",
   "nbconvert_exporter": "python",
   "pygments_lexer": "ipython3",
   "version": "3.6.8"
  }
 },
 "nbformat": 4,
 "nbformat_minor": 2
}
