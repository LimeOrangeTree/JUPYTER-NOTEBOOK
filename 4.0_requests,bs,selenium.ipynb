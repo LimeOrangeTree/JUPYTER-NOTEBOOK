{
 "cells": [
  {
   "cell_type": "markdown",
   "metadata": {},
   "source": [
    "# Requests, BeautifulSoup, selenium\n",
    "- 웹 데이터 수집과정에서 필수적으로 필요한 3가지 패키지  \n",
    "- 패키지 다운로드 : pip install bs4, pip install selenium\n",
    "\n",
    "[selenium - driver download]\n",
    "- 크롬 드라이브 다운로드 : https://chromedriver.chromium.org/downloads\n",
    "- 크롬 우측 상단에서 설정 -> Chrome 정보, Chrome 버전 확인하기"
   ]
  },
  {
   "cell_type": "markdown",
   "metadata": {},
   "source": [
    "# reqeusts\n",
    "- 설치 : pip install requests\n",
    "- HTTP 요청을 처리하는 패키지\n",
    "\n",
    "[reference]\n",
    "- https://2.python-requests.org/en/master/"
   ]
  },
  {
   "cell_type": "code",
   "execution_count": 1,
   "metadata": {},
   "outputs": [],
   "source": [
    "import requests\n",
    "targetUrl = 'http://jilijiliji.pythonanywhere.com'"
   ]
  },
  {
   "cell_type": "code",
   "execution_count": 2,
   "metadata": {},
   "outputs": [],
   "source": [
    "res = requests.get(targetUrl) # targetUrl을 대상으로 요청(get method)"
   ]
  },
  {
   "cell_type": "code",
   "execution_count": 3,
   "metadata": {},
   "outputs": [
    {
     "name": "stdout",
     "output_type": "stream",
     "text": [
      "<Response [200]>\n"
     ]
    }
   ],
   "source": [
    "print(res)"
   ]
  },
  {
   "cell_type": "code",
   "execution_count": 4,
   "metadata": {},
   "outputs": [
    {
     "data": {
      "text/plain": [
       "200"
      ]
     },
     "execution_count": 4,
     "metadata": {},
     "output_type": "execute_result"
    }
   ],
   "source": [
    "res.status_code # 상태코드 확인"
   ]
  },
  {
   "cell_type": "code",
   "execution_count": 5,
   "metadata": {},
   "outputs": [
    {
     "data": {
      "text/plain": [
       "'http://jilijiliji.pythonanywhere.com/'"
      ]
     },
     "execution_count": 5,
     "metadata": {},
     "output_type": "execute_result"
    }
   ],
   "source": [
    "res.url # 대상 url 확인"
   ]
  },
  {
   "cell_type": "code",
   "execution_count": 10,
   "metadata": {},
   "outputs": [
    {
     "data": {
      "text/plain": [
       "'ISO-8859-1'"
      ]
     },
     "execution_count": 10,
     "metadata": {},
     "output_type": "execute_result"
    }
   ],
   "source": [
    "res.encoding"
   ]
  },
  {
   "cell_type": "code",
   "execution_count": 15,
   "metadata": {},
   "outputs": [
    {
     "data": {
      "text/plain": [
       "{'Server': 'openresty/1.9.15.1', 'Date': 'Sat, 21 Dec 2019 04:08:22 GMT', 'Content-Type': 'text/html', 'Transfer-Encoding': 'chunked', 'Connection': 'keep-alive', 'Vary': 'Accept-Encoding', 'X-Frame-Options': 'SAMEORIGIN', 'X-Clacks-Overhead': 'GNU Terry Pratchett', 'Content-Encoding': 'gzip'}"
      ]
     },
     "execution_count": 15,
     "metadata": {},
     "output_type": "execute_result"
    }
   ],
   "source": [
    "res.headers"
   ]
  },
  {
   "cell_type": "code",
   "execution_count": 7,
   "metadata": {},
   "outputs": [
    {
     "data": {
      "text/plain": [
       "'\\n<!doctype html>\\n<html>\\n    <head>\\n        <meta charset=\"utf-8\">\\n        <title>Django: the Web framework for perfectionists with deadlines.</title>\\n        <meta name=\"viewport\" content=\"width=device-width, initial-scale=1\">\\n        <link rel=\"stylesheet\" type=\"text/css\" href=\"/static/admin/css/fonts.css\">\\n        <style type=\"text/css\">\\n          body, main {\\n            margin: 0 auto;\\n          }\\n          .body, .tip {\\n            stroke: #fff;\\n          }\\n          html {\\n            line-height: 1.15;\\n            -ms-text-size-adjust: 100%;\\n            -webkit-text-size-adjust: 100%;\\n            box-sizing: border-box;\\n          }\\n          footer, header, main {\\n            display: block;\\n          }\\n          a {\\n            background-color: transparent;\\n            -webkit-text-decoration-skip: objects;\\n            color: #19865C;\\n            text-decoration: none;\\n          }\\n          img {\\n            border-style: none;\\n          }\\n          header {\\n            border-bottom: 1px solid #efefef;\\n          }\\n          svg:not(:root) {\\n            overflow: hidden;\\n          }\\n          body {\\n            max-width: 960px;\\n            color: #525252;\\n            font-family: Roboto, sans-serif;\\n          }\\n          main {\\n            text-align: center;\\n          }\\n          .u-clearfix:after {\\n            content: \"\";\\n            clear: both;\\n            display: table;\\n          }\\n          .exhaust.two, .fuel, .removehole {\\n            display: none;\\n          }\\n          h1, h2, h3, h4, h5, p, ul {\\n            padding: 0;\\n            margin: 0;\\n            font-weight: 400;\\n          }\\n          header {\\n            padding-top: 20px;\\n            padding-bottom: 10px;\\n          }\\n          .logo {\\n            float: left;\\n          }\\n          .logo h2 {\\n            font-weight: 700;\\n            margin-top: 0px;\\n          }\\n          .release-notes {\\n            float: right;\\n            margin-top: 7px;\\n          }\\n          .release-notes p {\\n            font-size: 14px;\\n          }\\n          .figure {\\n            margin-top: 19vh;\\n            height: 181px;\\n          }\\n          .figure__animation {\\n            max-width: 265px;\\n            position: relative;\\n            z-index: -9;\\n          }\\n          .tip {\\n            stroke-width: 3px;\\n            -webkit-transform: translateY(-7px);\\n            transform: translateY(-7px);\\n          }\\n          .body {\\n            fill: #6DDCBD;\\n            -webkit-transform: scaleX(1.25);\\n            transform: scaleX(1.25);\\n            -webkit-transform-origin: center;\\n            transform-origin: center;\\n            stroke-width: 3px;\\n          }\\n          .box {\\n            position: absolute;\\n            bottom: 0;\\n            left: 0;\\n          }\\n          .circle {\\n            fill: #6DDCBD;\\n            stroke: #fff;\\n            stroke-width: 7px;\\n          }\\n          .exhaust {\\n            border-bottom-left-radius: 4px;\\n          }\\n          .exhaust.two, .exhaust__line {\\n            -webkit-animation: thurst 70ms infinite ease-in-out alternate;\\n            animation: thurst 70ms infinite ease-in-out alternate;\\n          }\\n          .smoke {\\n            -webkit-animation: smoke .1s infinite ease-in-out alternate;\\n            animation: smoke .1s infinite ease-in-out alternate;\\n            -webkit-transform-origin: center;\\n            transform-origin: center;\\n            opacity: .8;\\n          }\\n          @-moz-document url-prefix() {\\n            .smoke {\\n              animation: smokeFirefox .2s infinite ease-in-out alternate;\\n            }\\n          }\\n          @-webkit-keyframes smoke {\\n            0% {\\n              -webkit-transform: scale(1.58, 1.2) translateY(-55px) skew(3deg);\\n              transform: scale(1.58, 1.2) translateY(-55px) skew(3deg);\\n            }\\n            100% {\\n              -webkit-transform: scale(1.6, 1.22) translateY(-55px) skew(-3deg);\\n              transform: scale(1.6, 1.22) translateY(-55px) skew(-3deg);\\n            }\\n          }\\n          @keyframes smoke {\\n            0% {\\n              -webkit-transform: scale(1.58, 1.2) translateY(-55px) skew(3deg);\\n              transform: scale(1.58, 1.2) translateY(-55px) skew(3deg);\\n            }\\n            100% {\\n              -webkit-transform: scale(1.6, 1.22) translateY(-55px) skew(-3deg);\\n              transform: scale(1.6, 1.22) translateY(-55px) skew(-3deg);\\n            }\\n          }\\n          @-webkit-keyframes smokeFirefox {\\n            0% {\\n              -webkit-transform: scale(1.58, 1.2) translateY(-75px) skew(0);\\n              transform: scale(1.58, 1.2) translateY(-75px) skew(0);\\n            }\\n            100% {\\n              -webkit-transform: scale(1.58, 1.21) translateY(-75px) skew(1deg);\\n              transform: scale(1.58, 1.21) translateY(-75px) skew(1deg);\\n            }\\n          }\\n          @keyframes smokeFirefox {\\n            0% {\\n              -webkit-transform: scale(1.58, 1.2) translateY(-75px) skew(0);\\n              transform: scale(1.58, 1.2) translateY(-75px) skew(0);\\n            }\\n            100% {\\n              -webkit-transform: scale(1.58, 1.21) translateY(-75px) skew(1deg);\\n              transform: scale(1.58, 1.21) translateY(-75px) skew(1deg);\\n            }\\n          }\\n          .flame 0%, .flame 100% {\\n            -webkit-transform: translate(265px, 249px) scale(1.9) rotate(180deg);\\n            transform: translate(265px, 249px) scale(1.9) rotate(180deg);\\n          }\\n          .flame {\\n            -webkit-animation: burnInner2 .1s infinite ease-in-out alternate;\\n            animation: burnInner2 .1s infinite ease-in-out alternate;\\n          }\\n          @-webkit-keyframes burnInner2 {\\n            0% {\\n              -webkit-transform: translate(265px, 249px) scale(1.9) rotate(180deg) skew(5deg);\\n              transform: translate(265px, 249px) scale(1.9) rotate(180deg) skew(5deg);\\n            }\\n            100% {\\n              -webkit-transform: translate(265px, 253px) scale(2.2) rotate(180deg) skew(-5deg);\\n              transform: translate(265px, 253px) scale(2.2) rotate(180deg) skew(-5deg);\\n            }\\n          }\\n          @keyframes burnInner2 {\\n            0% {\\n              -webkit-transform: translate(265px, 249px) scale(1.9) rotate(180deg) skew(5deg);\\n              transform: translate(265px, 249px) scale(1.9) rotate(180deg) skew(5deg);\\n            }\\n            100% {\\n              -webkit-transform: translate(265px, 253px) scale(2.2) rotate(180deg) skew(-5deg);\\n              transform: translate(265px, 253px) scale(2.2) rotate(180deg) skew(-5deg);\\n            }\\n          }\\n          @-webkit-keyframes thurst {\\n            0% {\\n              opacity: 1;\\n            }\\n            100% {\\n              opacity: .5;\\n            }\\n          }\\n          @keyframes thurst {\\n            0% {\\n              opacity: 1;\\n            }\\n            100% {\\n              opacity: .5;\\n            }\\n          }\\n          h2 {\\n            font-size: 22px;\\n            max-width: 500px;\\n            margin: 5px auto 0;\\n          }\\n          main p {\\n            font-size: 16px;\\n            line-height: 20px;\\n            max-width: 390px;\\n            margin: 15px auto 0;\\n            color: #888888;\\n          }\\n          footer {\\n            padding: 25px 0;\\n            position: fixed;\\n            left: 50%;\\n            bottom: 0;\\n            width: 960px;\\n            -webkit-transform: translateX(-50%);\\n            transform: translateX(-50%);\\n            -webkit-transform-style: preserve-3d;\\n            transform-style: preserve-3d;\\n            border-top: 1px solid #efefef;\\n          }\\n          .option {\\n            float: left;\\n            width: 33.33%;\\n            box-sizing: border-box;\\n            padding-right: 5px;\\n          }\\n          .option svg {\\n            width: 25px;\\n            height: 25px;\\n            fill: gray;\\n            border: 1px solid #d6d6d6;\\n            padding: 5px;\\n            border-radius: 100%;\\n            float: left;\\n            margin-right: 10px;\\n          }\\n          .option div {\\n            display: table;\\n          }\\n          .option h4 {\\n            color: #19865C;\\n            font-size: 19px;\\n          }\\n          .option p {\\n            font-weight: 300;\\n            font-size: 15px;\\n            padding-top: 3px;\\n            color: #757575;\\n          }\\n          @media (max-width: 996px) {\\n            body, footer {\\n              max-width: 780px;\\n            }\\n            .logo h2 {\\n              margin-left: 0px;\\n            }\\n          }\\n          @media (max-width: 800px) {\\n            footer, main {\\n              position: relative;\\n            }\\n            footer {\\n              height: 100%;\\n            }\\n            .option {\\n              position: relative;\\n              width: 100%;\\n              left: auto;\\n              right: auto;\\n              top: auto;\\n              padding: 0 25px;\\n              margin-bottom: 60px;\\n            }\\n            .two {\\n              margin-left: 0px;\\n              -webkit-transform: none;\\n              transform: none;\\n            }\\n            .logo, .option, .release-notes {\\n              float: none;\\n            }\\n            .figure {\\n              margin-top: 10px;\\n            }\\n            main {\\n              padding: 0 25px;\\n            }\\n            main h2 {\\n              font-size: 18px;\\n            }\\n            main p {\\n              font-size: 14px;\\n            }\\n            header {\\n              padding-left: 20px;\\n              padding-right: 20px;\\n            }\\n            footer {\\n              overflow: hidden;\\n              width: 100%;\\n              margin-top: 50px;\\n            }\\n          }\\n          @media (min-width: 801px) and (max-height: 730px) {\\n            .figure {\\n              margin-top: 80px;\\n            }\\n          }\\n          @media (min-width: 801px) and (max-height: 600px) {\\n            footer {\\n              position: relative;\\n              margin: 135px auto 0;\\n            }\\n            .figure {\\n              margin-top: 50px;\\n            }\\n          }\\n        </style>\\n    </head>\\n    <body>\\n      <header class=\"u-clearfix\">\\n          <div class=\"logo\">\\n            <a href=\"https://www.djangoproject.com/\" target=\"_blank\" rel=\"noopener\">\\n              <h2>django</h2>\\n            </a>\\n          </div>\\n          <div class=\"release-notes\">\\n            <p>View <a href=\"https://docs.djangoproject.com/en/2.2/releases/\" target=\"_blank\" rel=\"noopener\">release notes</a> for Django 2.2</p>\\n          </div>\\n      </header>\\n      <main>\\n        <div class=\"figure\">\\n          <svg class=\"figure__animation\" viewBox=\"0 0 512 512\" xmlns=\"http://www.w3.org/2000/svg\">\\n            <path fill=\"#FFF\" d=\"M0 0h512v512H0z\"></path>\\n            <text transform=\"translate(97.173 475.104)\"></text>\\n            <path d=\"M307.2 224.6c0 4.6-.5 9-1.6 13.2-2.5-4.4-5.6-8.4-9.2-12-4.6-4.6-10-8.4-16-11.2 2.8-11.2 4.5-22.9 5-34.6 1.8 1.4 3.5 2.9 5 4.5 10.5 10.3 16.8 24.5 16.8 40.1zM232.2 214.6c-6 2.8-11.4 6.6-16 11.2-3.5 3.6-6.6 7.6-9.1 12-1-4.3-1.6-8.7-1.6-13.2 0-15.7 6.3-29.9 16.6-40.1 1.6-1.6 3.3-3.1 5.1-4.5.6 11.8 2.2 23.4 5 34.6z\" fill=\"#2E3B39\"></path>\\n            <path class=\"body\" d=\"M279.7 217.6c12.9-48.1 5.1-104-23.4-142.6-28.5 38.5-36.2 94.5-23.4 142.6h46.8z\" fill=\"#FF7058\"></path>\\n            <path class=\"tip\" d=\"M273 104.7c-4.4-10.6-9.9-20.6-16.6-29.7-6.7 9-12.2 19-16.6 29.7H273z\" fill=\"#2E3B39\"></path>\\n            <circle cx=\"256.3\" cy=\"144.8\" fill=\"#FFF\" r=\"15.5\"></circle>\\n            <circle class=\"circle\" cx=\"256.3\" cy=\"144.8\" fill=\"#84DBFF\" r=\"12.2\"></circle>\\n            <path class=\"removehole\" d=\"M267.5 139.9l-16 16c4.5 2 9.8 1.1 13.5-2.5 3.6-3.7 4.5-9.1 2.5-13.5z\" fill=\"#54C0EB\"></path>\\n            <path class=\"fuel\" d=\"M276.8 234.9c.4-2.4.6-5.1.6-7.9 0-12.1-3.9-21.8-8.8-21.8s-8.8 9.8-8.8 21.8c0 2.8.2 5.4.6 7.9h16.4zM252.3 234.9c.4-2.4.6-5.1.6-7.9 0-12.1-3.9-21.8-8.8-21.8-4.8 0-8.8 9.8-8.8 21.8 0 2.8.2 5.4.6 7.9h16.4z\" fill=\"#FFD05B\"></path>\\n            <path class=\"smoke\" d=\"M416.6 358.8c0-1.8-.4-3.6-1-5.2-2.1-5.6-7.5-9.6-13.8-9.6-.7 0-1.4.1-2.1.2-.3-9.6-8.2-17.3-17.9-17.3-2.1 0-4.2.4-6.1 1.1-3-5.6-8.9-9.4-15.7-9.4-.5 0-1 0-1.5.1-.5 0-1-.1-1.5-.1-6.8 0-12.7 3.8-15.7 9.4-1.9-.7-3.9-1.1-6.1-1.1-9.9 0-17.9 8-17.9 17.9 0 1.1.1 2.3.3 3.3-.9-.2-1.8-.3-2.8-.3-5.1 0-9.5 2.6-12.1 6.5-2.2-1.4-4.9-2.3-7.8-2.3-7.6 0-13.8 5.9-14.4 13.3h-.1c-5.9 0-11 3.6-13.2 8.7-2.6-3-6.5-5-10.9-5h-.1-.5-.1-.1c-4.3 0-8.2 1.9-10.9 5-2.2-5.1-7.3-8.7-13.2-8.7h-.1c-.6-7.5-6.8-13.3-14.4-13.3-2.9 0-5.5.8-7.8 2.3-2.6-3.9-7-6.5-12.1-6.5-.9 0-1.9.1-2.8.3.2-1.1.3-2.2.3-3.3 0-9.9-8-17.9-17.9-17.9-2.1 0-4.2.4-6.1 1.1-3-5.6-8.9-9.4-15.7-9.4-.5 0-1 0-1.5.1-.5 0-1-.1-1.5-.1-6.8 0-12.7 3.8-15.7 9.4-1.9-.7-3.9-1.1-6.1-1.1-9.7 0-17.6 7.7-17.9 17.3-.7-.1-1.4-.2-2.1-.2-6.3 0-11.7 4-13.8 9.6-.6 1.6-1 3.4-1 5.2 0 4 1.6 7.6 4.2 10.3-.5 1.2-.8 2.6-.8 4 0 6 4.9 10.9 10.9 10.9H402c6 0 10.9-4.9 10.9-10.9 0-1.4-.3-2.8-.8-4 2.9-2.7 4.5-6.3 4.5-10.3z\" fill=\"#E6E9EE\"></path>\\n            <rect class=\"exhaust\" fill=\"#6DDCBD\" x=\"241\" y=\"220\" width=\"30\" height=\"8\"></rect>\\n            <rect class=\"exhaust two\" fill=\"#FF871C\" x=\"245\" y=\"231\" width=\"20\" height=\"9\"></rect>\\n            <rect class=\"exhaust__line\" fill=\"#E6E9EE\" x=\"252\" y=\"240\" width=\"7\" height=\"90\"></rect>\\n            <path class=\"flame\" d=\"M 6.7 1.14 l 2.8 4.7 s 1.3 3 -1.82 3.22 l -5.4 0 s -3.28 -.14 -1.74 -3.26 l 2.76 -4.7 s 1.7 -2.3 3.4 0 z\" fill=\"#AA2247\"></path>\\n          </svg>\\n        </div>\\n        <h2>The install worked successfully! Congratulations!</h2>\\n        <p>You are seeing this page because <a href=\"https://docs.djangoproject.com/en/2.2/ref/settings/#debug\" target=\"_blank\" rel=\"noopener\">DEBUG=True</a> is in your settings file and you have not configured any URLs.</p>\\n      </main>\\n      <footer class=\"u-clearfix\">\\n        <a href=\"https://docs.djangoproject.com/en/2.2/\" target=\"_blank\" rel=\"noopener\">\\n        <div class=\"option one\">\\n            <svg viewBox=\"0 0 24 24\" xmlns=\"http://www.w3.org/2000/svg\" xmlns:xlink=\"http://www.w3.org/1999/xlink\">\\n                <defs>\\n                    <path d=\"M0 0h24v24H0V0z\" id=\"a\"></path>\\n                </defs>\\n                <clipPath id=\"b\">\\n                    <use overflow=\"visible\" xlink:href=\"#a\"></use>\\n                </clipPath>\\n                <path clip-path=\"url(#b)\" d=\"M9 21c0 .55.45 1 1 1h4c.55 0 1-.45 1-1v-1H9v1zm3-19C8.14 2 5 5.14 5 9c0 2.38 1.19 4.47 3 5.74V17c0 .55.45 1 1 1h6c.55 0 1-.45 1-1v-2.26c1.81-1.27 3-3.36 3-5.74 0-3.86-3.14-7-7-7zm2.85 11.1l-.85.6V16h-4v-2.3l-.85-.6C7.8 12.16 7 10.63 7 9c0-2.76 2.24-5 5-5s5 2.24 5 5c0 1.63-.8 3.16-2.15 4.1z\"></path>\\n            </svg>\\n            <div>\\n                <h4>Django Documentation</h4>\\n                <p>Topics, references, &amp; how-to\\'s</p>\\n            </div>\\n        </div>\\n      </a>\\n      <a href=\"https://docs.djangoproject.com/en/2.2/intro/tutorial01/\" target=\"_blank\" rel=\"noopener\">\\n        <div class=\"option two\">\\n          <svg viewBox=\"0 0 24 24\" xmlns=\"http://www.w3.org/2000/svg\">\\n            <path d=\"M0 0h24v24H0V0z\" fill=\"none\"></path>\\n            <path d=\"M9.4 16.6L4.8 12l4.6-4.6L8 6l-6 6 6 6 1.4-1.4zm5.2 0l4.6-4.6-4.6-4.6L16 6l6 6-6 6-1.4-1.4z\"></path>\\n          </svg>\\n          <div>\\n            <h4>Tutorial: A Polling App</h4>\\n            <p>Get started with Django</p>\\n          </div>\\n        </div>\\n      </a>\\n      <a href=\"https://www.djangoproject.com/community/\" target=\"_blank\" rel=\"noopener\">\\n        <div class=\"option three\">\\n          <svg viewBox=\"0 0 24 24\" xmlns=\"http://www.w3.org/2000/svg\">\\n            <path d=\"M0 0h24v24H0z\" fill=\"none\"></path>\\n            <path d=\"M16.5 13c-1.2 0-3.07.34-4.5 1-1.43-.67-3.3-1-4.5-1C5.33 13 1 14.08 1 16.25V19h22v-2.75c0-2.17-4.33-3.25-6.5-3.25zm-4 4.5h-10v-1.25c0-.54 2.56-1.75 5-1.75s5 1.21 5 1.75v1.25zm9 0H14v-1.25c0-.46-.2-.86-.52-1.22.88-.3 1.96-.53 3.02-.53 2.44 0 5 1.21 5 1.75v1.25zM7.5 12c1.93 0 3.5-1.57 3.5-3.5S9.43 5 7.5 5 4 6.57 4 8.5 5.57 12 7.5 12zm0-5.5c1.1 0 2 .9 2 2s-.9 2-2 2-2-.9-2-2 .9-2 2-2zm9 5.5c1.93 0 3.5-1.57 3.5-3.5S18.43 5 16.5 5 13 6.57 13 8.5s1.57 3.5 3.5 3.5zm0-5.5c1.1 0 2 .9 2 2s-.9 2-2 2-2-.9-2-2 .9-2 2-2z\"></path>\\n          </svg>\\n          <div>\\n            <h4>Django Community</h4>\\n            <p>Connect, get help, or contribute</p>\\n          </div>\\n        </div>\\n      </a>\\n      </footer>\\n    </body>\\n</html>\\n'"
      ]
     },
     "execution_count": 7,
     "metadata": {},
     "output_type": "execute_result"
    }
   ],
   "source": [
    "res.text # page source 확인"
   ]
  },
  {
   "cell_type": "code",
   "execution_count": 8,
   "metadata": {},
   "outputs": [],
   "source": [
    "# header, cookie 설정\n",
    "headers = {\n",
    "    'User-Agent': 'Mozilla/5.0 (Macintosh; Intel Mac OS X 10_11_5) AppleWebKit/537.36 (KHTML, like Gecko) Chrome/50.0.2661.102 Safari/537.36',\n",
    "    'referer' : 'http://www.naver.com',\n",
    "    'Content-Type': 'application/json; charset=utf-8'\n",
    "    }\n",
    "request = requests.get(targetUrl,headers = headers)"
   ]
  },
  {
   "cell_type": "code",
   "execution_count": 9,
   "metadata": {
    "scrolled": true
   },
   "outputs": [
    {
     "name": "stdout",
     "output_type": "stream",
     "text": [
      "<Response [200]>\n"
     ]
    }
   ],
   "source": [
    "print(request)"
   ]
  },
  {
   "cell_type": "markdown",
   "metadata": {},
   "source": [
    "# Beautifulsoup\n",
    "- 설치 : pip install beautifulsoup4, pip install lxml\n",
    "- HTML file에서 데이터르 가져오는 라이브러리\n",
    "\n",
    "[reference]\n",
    "- https://www.crummy.com/software/BeautifulSoup/bs4/doc/"
   ]
  },
  {
   "cell_type": "code",
   "execution_count": 21,
   "metadata": {},
   "outputs": [],
   "source": [
    "from bs4 import BeautifulSoup"
   ]
  },
  {
   "cell_type": "code",
   "execution_count": 17,
   "metadata": {},
   "outputs": [],
   "source": [
    "html_doc = \"\"\"\n",
    "<html><head><title>The Dormouse's story</title></head>\n",
    "<body>\n",
    "<p class=\"title\"><b>The Dormouse's story</b></p>\n",
    "\n",
    "<p class=\"story\">Once upon a time there were three little sisters; and their names were\n",
    "<a href=\"http://example.com/elsie\" class=\"sister\" id=\"link1\">Elsie</a>,\n",
    "<a href=\"http://example.com/lacie\" class=\"sister\" id=\"link2\">Lacie</a> and\n",
    "<a href=\"http://example.com/tillie\" class=\"sister\" id=\"link3\">Tillie</a>;\n",
    "and they lived at the bottom of a well.</p>\n",
    "\n",
    "<p class=\"story\">...</p>\n",
    "\"\"\""
   ]
  },
  {
   "cell_type": "code",
   "execution_count": 19,
   "metadata": {},
   "outputs": [
    {
     "name": "stdout",
     "output_type": "stream",
     "text": [
      "\n",
      "<html><head><title>The Dormouse's story</title></head>\n",
      "<body>\n",
      "<p class=\"title\"><b>The Dormouse's story</b></p>\n",
      "\n",
      "<p class=\"story\">Once upon a time there were three little sisters; and their names were\n",
      "<a href=\"http://example.com/elsie\" class=\"sister\" id=\"link1\">Elsie</a>,\n",
      "<a href=\"http://example.com/lacie\" class=\"sister\" id=\"link2\">Lacie</a> and\n",
      "<a href=\"http://example.com/tillie\" class=\"sister\" id=\"link3\">Tillie</a>;\n",
      "and they lived at the bottom of a well.</p>\n",
      "\n",
      "<p class=\"story\">...</p>\n",
      "\n"
     ]
    }
   ],
   "source": [
    "print(html_doc)"
   ]
  },
  {
   "cell_type": "code",
   "execution_count": 25,
   "metadata": {},
   "outputs": [
    {
     "data": {
      "text/plain": [
       "str"
      ]
     },
     "execution_count": 25,
     "metadata": {},
     "output_type": "execute_result"
    }
   ],
   "source": [
    "type(html_doc)"
   ]
  },
  {
   "cell_type": "code",
   "execution_count": 46,
   "metadata": {},
   "outputs": [],
   "source": [
    "soup = BeautifulSoup(html_doc, 'html.parser')"
   ]
  },
  {
   "cell_type": "code",
   "execution_count": 24,
   "metadata": {},
   "outputs": [
    {
     "name": "stdout",
     "output_type": "stream",
     "text": [
      "\n",
      "<html><head><title>The Dormouse's story</title></head>\n",
      "<body>\n",
      "<p class=\"title\"><b>The Dormouse's story</b></p>\n",
      "<p class=\"story\">Once upon a time there were three little sisters; and their names were\n",
      "<a class=\"sister\" href=\"http://example.com/elsie\" id=\"link1\">Elsie</a>,\n",
      "<a class=\"sister\" href=\"http://example.com/lacie\" id=\"link2\">Lacie</a> and\n",
      "<a class=\"sister\" href=\"http://example.com/tillie\" id=\"link3\">Tillie</a>;\n",
      "and they lived at the bottom of a well.</p>\n",
      "<p class=\"story\">...</p>\n",
      "</body></html>\n"
     ]
    }
   ],
   "source": [
    "print(soup)"
   ]
  },
  {
   "cell_type": "code",
   "execution_count": 26,
   "metadata": {},
   "outputs": [
    {
     "data": {
      "text/plain": [
       "bs4.BeautifulSoup"
      ]
     },
     "execution_count": 26,
     "metadata": {},
     "output_type": "execute_result"
    }
   ],
   "source": [
    "type(soup)"
   ]
  },
  {
   "cell_type": "code",
   "execution_count": 27,
   "metadata": {
    "scrolled": false
   },
   "outputs": [
    {
     "name": "stdout",
     "output_type": "stream",
     "text": [
      "<html>\n",
      " <head>\n",
      "  <title>\n",
      "   The Dormouse's story\n",
      "  </title>\n",
      " </head>\n",
      " <body>\n",
      "  <p class=\"title\">\n",
      "   <b>\n",
      "    The Dormouse's story\n",
      "   </b>\n",
      "  </p>\n",
      "  <p class=\"story\">\n",
      "   Once upon a time there were three little sisters; and their names were\n",
      "   <a class=\"sister\" href=\"http://example.com/elsie\" id=\"link1\">\n",
      "    Elsie\n",
      "   </a>\n",
      "   ,\n",
      "   <a class=\"sister\" href=\"http://example.com/lacie\" id=\"link2\">\n",
      "    Lacie\n",
      "   </a>\n",
      "   and\n",
      "   <a class=\"sister\" href=\"http://example.com/tillie\" id=\"link3\">\n",
      "    Tillie\n",
      "   </a>\n",
      "   ;\n",
      "and they lived at the bottom of a well.\n",
      "  </p>\n",
      "  <p class=\"story\">\n",
      "   ...\n",
      "  </p>\n",
      " </body>\n",
      "</html>\n"
     ]
    }
   ],
   "source": [
    "print(soup.prettify()) # indentation"
   ]
  },
  {
   "cell_type": "code",
   "execution_count": 32,
   "metadata": {},
   "outputs": [
    {
     "data": {
      "text/plain": [
       "<html><head><title>The Dormouse's story</title></head>\n",
       "<body>\n",
       "<p class=\"title\"><b>The Dormouse's story</b></p>\n",
       "<p class=\"story\">Once upon a time there were three little sisters; and their names were\n",
       "<a class=\"sister\" href=\"http://example.com/elsie\" id=\"link1\">Elsie</a>,\n",
       "<a class=\"sister\" href=\"http://example.com/lacie\" id=\"link2\">Lacie</a> and\n",
       "<a class=\"sister\" href=\"http://example.com/tillie\" id=\"link3\">Tillie</a>;\n",
       "and they lived at the bottom of a well.</p>\n",
       "<p class=\"story\">...</p>\n",
       "</body></html>"
      ]
     },
     "execution_count": 32,
     "metadata": {},
     "output_type": "execute_result"
    }
   ],
   "source": [
    "soup.html"
   ]
  },
  {
   "cell_type": "code",
   "execution_count": 31,
   "metadata": {},
   "outputs": [
    {
     "data": {
      "text/plain": [
       "<head><title>The Dormouse's story</title></head>"
      ]
     },
     "execution_count": 31,
     "metadata": {},
     "output_type": "execute_result"
    }
   ],
   "source": [
    "soup.head"
   ]
  },
  {
   "cell_type": "code",
   "execution_count": 47,
   "metadata": {},
   "outputs": [
    {
     "data": {
      "text/plain": [
       "<body>\n",
       "<p class=\"title\"><b>The Dormouse's story</b></p>\n",
       "<p class=\"story\">Once upon a time there were three little sisters; and their names were\n",
       "<a class=\"sister\" href=\"http://example.com/elsie\" id=\"link1\">Elsie</a>,\n",
       "<a class=\"sister\" href=\"http://example.com/lacie\" id=\"link2\">Lacie</a> and\n",
       "<a class=\"sister\" href=\"http://example.com/tillie\" id=\"link3\">Tillie</a>;\n",
       "and they lived at the bottom of a well.</p>\n",
       "<p class=\"story\">...</p>\n",
       "</body>"
      ]
     },
     "execution_count": 47,
     "metadata": {},
     "output_type": "execute_result"
    }
   ],
   "source": [
    "soup.body"
   ]
  },
  {
   "cell_type": "code",
   "execution_count": 28,
   "metadata": {
    "scrolled": true
   },
   "outputs": [
    {
     "data": {
      "text/plain": [
       "<title>The Dormouse's story</title>"
      ]
     },
     "execution_count": 28,
     "metadata": {},
     "output_type": "execute_result"
    }
   ],
   "source": [
    "soup.title"
   ]
  },
  {
   "cell_type": "code",
   "execution_count": 33,
   "metadata": {},
   "outputs": [
    {
     "data": {
      "text/plain": [
       "\"The Dormouse's story\""
      ]
     },
     "execution_count": 33,
     "metadata": {},
     "output_type": "execute_result"
    }
   ],
   "source": [
    "soup.title.text"
   ]
  },
  {
   "cell_type": "code",
   "execution_count": 38,
   "metadata": {},
   "outputs": [
    {
     "data": {
      "text/plain": [
       "<p class=\"title\"><b>The Dormouse's story</b></p>"
      ]
     },
     "execution_count": 38,
     "metadata": {},
     "output_type": "execute_result"
    }
   ],
   "source": [
    "soup.p"
   ]
  },
  {
   "cell_type": "code",
   "execution_count": 39,
   "metadata": {},
   "outputs": [
    {
     "data": {
      "text/plain": [
       "\"The Dormouse's story\""
      ]
     },
     "execution_count": 39,
     "metadata": {},
     "output_type": "execute_result"
    }
   ],
   "source": [
    "soup.p.text"
   ]
  },
  {
   "cell_type": "code",
   "execution_count": 41,
   "metadata": {},
   "outputs": [
    {
     "data": {
      "text/plain": [
       "<a class=\"sister\" href=\"http://example.com/elsie\" id=\"link1\">Elsie</a>"
      ]
     },
     "execution_count": 41,
     "metadata": {},
     "output_type": "execute_result"
    }
   ],
   "source": [
    "soup.find('a')"
   ]
  },
  {
   "cell_type": "code",
   "execution_count": 42,
   "metadata": {},
   "outputs": [
    {
     "data": {
      "text/plain": [
       "'http://example.com/elsie'"
      ]
     },
     "execution_count": 42,
     "metadata": {},
     "output_type": "execute_result"
    }
   ],
   "source": [
    "tmp = soup.find('a')\n",
    "tmp.get('href')"
   ]
  },
  {
   "cell_type": "code",
   "execution_count": 43,
   "metadata": {},
   "outputs": [
    {
     "data": {
      "text/plain": [
       "<a class=\"sister\" href=\"http://example.com/elsie\" id=\"link1\">Elsie</a>"
      ]
     },
     "execution_count": 43,
     "metadata": {},
     "output_type": "execute_result"
    }
   ],
   "source": [
    "soup.find(id='link1')"
   ]
  },
  {
   "cell_type": "code",
   "execution_count": 44,
   "metadata": {},
   "outputs": [
    {
     "data": {
      "text/plain": [
       "'http://example.com/elsie'"
      ]
     },
     "execution_count": 44,
     "metadata": {},
     "output_type": "execute_result"
    }
   ],
   "source": [
    "tmp = soup.find(id='link1')\n",
    "tmp.get('href')"
   ]
  },
  {
   "cell_type": "code",
   "execution_count": 40,
   "metadata": {},
   "outputs": [
    {
     "data": {
      "text/plain": [
       "[<a class=\"sister\" href=\"http://example.com/elsie\" id=\"link1\">Elsie</a>,\n",
       " <a class=\"sister\" href=\"http://example.com/lacie\" id=\"link2\">Lacie</a>,\n",
       " <a class=\"sister\" href=\"http://example.com/tillie\" id=\"link3\">Tillie</a>]"
      ]
     },
     "execution_count": 40,
     "metadata": {},
     "output_type": "execute_result"
    }
   ],
   "source": [
    "soup.find_all('a')"
   ]
  },
  {
   "cell_type": "code",
   "execution_count": 45,
   "metadata": {},
   "outputs": [
    {
     "name": "stdout",
     "output_type": "stream",
     "text": [
      "http://example.com/elsie\n",
      "http://example.com/lacie\n",
      "http://example.com/tillie\n"
     ]
    }
   ],
   "source": [
    "tmps = soup.find_all('a')\n",
    "for link in tmps:\n",
    "    print(link.get('href'))"
   ]
  },
  {
   "cell_type": "code",
   "execution_count": null,
   "metadata": {},
   "outputs": [],
   "source": [
    "# selector"
   ]
  },
  {
   "cell_type": "markdown",
   "metadata": {},
   "source": [
    "# Selenium\n",
    "- 설치 : pip install selenium\n",
    "- 웹 브라우저를 테스트하기 위한 패키지\n",
    "- 데이터 수집과정에서 가장 유용하게 쓰임\n",
    "\n",
    "[Driver 다운]\n",
    "- 크롬 : https://sites.google.com/a/chromium.org/chromedriver/downloads  \n",
    "  (chrome driver 다운하기전에 '크롬 -> 도움말(크롬버전 확인)'\n",
    "- FireFox : https://github.com/mozilla/geckodriver/releases\n",
    "\n",
    "[reference]\n",
    "- https://selenium-python.readthedocs.io"
   ]
  },
  {
   "cell_type": "code",
   "execution_count": 1,
   "metadata": {},
   "outputs": [],
   "source": [
    "from selenium import webdriver\n",
    "chromeDir = '/Users/jiwonjang/python_tutorial/chromedriver'\n",
    "driver = webdriver.Chrome(chromeDir)\n",
    "driver.get('https://www.google.com')"
   ]
  },
  {
   "cell_type": "code",
   "execution_count": 2,
   "metadata": {},
   "outputs": [],
   "source": [
    "googletitle = driver.find_element_by_css_selector('#hplogo') # 배너에 위치한 google 가져오기"
   ]
  },
  {
   "cell_type": "code",
   "execution_count": 3,
   "metadata": {},
   "outputs": [
    {
     "data": {
      "text/plain": [
       "'Google'"
      ]
     },
     "execution_count": 3,
     "metadata": {},
     "output_type": "execute_result"
    }
   ],
   "source": [
    "googletitle.get_attribute('alt')"
   ]
  },
  {
   "cell_type": "markdown",
   "metadata": {},
   "source": [
    "### Chrome 제어하기"
   ]
  },
  {
   "cell_type": "code",
   "execution_count": 4,
   "metadata": {},
   "outputs": [],
   "source": [
    "# query 입력\n",
    "query = 'hello world'\n",
    "driver.find_element_by_xpath('//*[@id=\"tsf\"]/div[2]/div[1]/div[1]/div/div[2]/input').send_keys(query)"
   ]
  },
  {
   "cell_type": "code",
   "execution_count": 5,
   "metadata": {},
   "outputs": [],
   "source": [
    "# enter\n",
    "driver.find_element_by_xpath('//*[@id=\"tsf\"]/div[2]/div[1]/div[1]/div/div[2]/input').send_keys(u'\\ue007')"
   ]
  },
  {
   "cell_type": "code",
   "execution_count": 6,
   "metadata": {
    "scrolled": true
   },
   "outputs": [
    {
     "name": "stdout",
     "output_type": "stream",
     "text": [
      "웹 검색결과\n",
      "Hello, world! - 나무위키\n",
      "https://namu.wiki › Hello, world!\n",
      "많은 프로그래밍 언어 서적에서 맨 처음 소개하는 예제. Hello, world!를 출력하는 것이 프로그래밍 언어를 배우는 첫 번째 단계로 일종의 암묵적인 룰이 되었다.\n",
      "아희 · HQ9+ · 프로그래밍 언어/예제 · 데니스 리치\n",
      "\"Hello, World!\" 프로그램 - 위키백과, 우리 모두의 백과사전\n",
      "https://ko.wikipedia.org › wiki › \"Hello,_World!\"_프로그램\n",
      "\"Hello, World!\" 프로그램 (세상아, 안녕!)은 \"Hello, world!\"를 화면에 출력하는 컴퓨터 프로그램이다. 이 프로그램은 프로그래밍 언어를 연습하는 데에 많이 쓰이고, ...\n",
      "왜 Hello World를 치는거지? Hello World!의 유래 :: 빠르크의 3 ...\n",
      "https://parkpictures.tistory.com › ...\n",
      "2017. 7. 18. - 대부분 프로그래밍을 배우실 때 누구나 한 번쯤 실행시켜보는 Hello World! 출력하기 왜 이것을 출력하는것일까요? C를 배우든, 자바를 배우든, ...\n",
      "3.3 Hello, world! 출력하기 - C 언어 코딩 도장\n",
      "https://dojang.io › 강좌 › 프로그래밍 › C 언어 코딩 도장\n",
      "2016. 2. 5. - 업로더: 길벗IT전문서\n",
      "hello.c 소스 코드 편집 창에 다음 내용을 입력합니다. hello.c. #include ... 이제 hello.exe가 실행되면서 명령 프롬프트 창에 Hello ...\n",
      "Hello world - NAVER D2 - 네이버\n",
      "https://d2.naver.com › helloworld\n",
      "정렬이라는 주제는 처음 프로그래밍을 배울 때 간단한 정렬을 구현해보는 것으로 접하기 시작하여, 자료구조론, 알고리즘론을 통하여 다양한 정렬 알고리즘의 시간 ...\n",
      "Hello world - 생활코딩\n",
      "https://opentutorials.org › course\n",
      "2013. 3. 18. - Hello world란 프로그래머들이 새로운 기술을 테스트할 때 제일먼저 화면에 찍어보는 오래된 집단적 습관입니다. 그래서 개발자들에게 Hello world ...\n",
      "C 프로그래밍 입문/Hello World - 위키책\n",
      "https://ko.wikibooks.org › wiki › C_프로그래밍_입문 › Hello_World\n",
      "위 프로그램을 컴파일 하고 실행하면 화면에 Hello World! 라는 문장이 찍힌 것을 볼 수 있을 것이다. 환영 문구가 화면 구석에서 멍하니 당신을 바라보고 있다면, 이제 ...\n",
      "파이썬 입문 - Hello World! | 프로그래머스\n",
      "https://programmers.co.kr › learn › courses › lessons\n",
      "powershell명령. ls: 현재 디렉토리(폴더)의 내용을 확인하는 명령; cd: powershell에서 현재 디렉토리(폴더)를 바꾸는 명령. print() 함수. 괄호 안에 있는 내용을 화면에 ...\n",
      "01-1 안녕, 세상 ! - 점프 투 자바 - WikiDocs\n",
      "https://wikidocs.net › ...\n",
      "Hello World! 딜레마. 모든 언어에서 첫번 째 예제로 다루는 \"Hello World\"를 출력하는 프로그램을 만들어 보자. 자바는 다른 언어와 달리 \"Hello World\" 프로그램만 ...\n",
      "30분 Scala - Hello, world! | 프로그래머스\n",
      "https://www.welcomekakao.com › learn › courses › lessons\n",
      "30분 Scala에 오신 것을 환영합니다. 이 강의는 이미 다른 프로그래밍 언어를 알고 있는 개발자를 대상으로 스칼라를 소개하기 위한 강의입니다. 코드를 직접 살펴 ...\n"
     ]
    }
   ],
   "source": [
    "# query 검색결과 나오는 항목 조회\n",
    "for i in driver.find_elements_by_class_name('bkWMgd'):\n",
    "    print(i.text)"
   ]
  },
  {
   "cell_type": "markdown",
   "metadata": {},
   "source": [
    "### Instagram 게시글 조회\n",
    "- scroll down"
   ]
  },
  {
   "cell_type": "code",
   "execution_count": 7,
   "metadata": {},
   "outputs": [],
   "source": [
    "from selenium.webdriver.common.keys import Keys \n",
    "from random import randint\n",
    "from time import sleep"
   ]
  },
  {
   "cell_type": "code",
   "execution_count": 8,
   "metadata": {},
   "outputs": [],
   "source": [
    "driver.get('https://www.instagram.com/explore/tags/%EB%BD%80%EB%A1%9C%EB%A1%9C/')"
   ]
  },
  {
   "cell_type": "code",
   "execution_count": 9,
   "metadata": {},
   "outputs": [],
   "source": [
    "driver.find_element_by_tag_name('body').send_keys(Keys.END) # scroll down"
   ]
  },
  {
   "cell_type": "code",
   "execution_count": 10,
   "metadata": {},
   "outputs": [],
   "source": [
    "driver.find_element_by_tag_name('body').send_keys(Keys.HOME) # scroll up"
   ]
  },
  {
   "cell_type": "code",
   "execution_count": 11,
   "metadata": {},
   "outputs": [],
   "source": [
    "# instagram은 로그인 이후에 진행해야함\n",
    "times = 5\n",
    "while times :\n",
    "    sleep(randint(1,2))\n",
    "    driver.find_element_by_tag_name('body').send_keys(Keys.END) # scroll down\n",
    "    times -= 1\n",
    "    if times == 0:\n",
    "        break"
   ]
  },
  {
   "cell_type": "code",
   "execution_count": null,
   "metadata": {},
   "outputs": [],
   "source": []
  }
 ],
 "metadata": {
  "kernelspec": {
   "display_name": "Python 3",
   "language": "python",
   "name": "python3"
  },
  "language_info": {
   "codemirror_mode": {
    "name": "ipython",
    "version": 3
   },
   "file_extension": ".py",
   "mimetype": "text/x-python",
   "name": "python",
   "nbconvert_exporter": "python",
   "pygments_lexer": "ipython3",
   "version": "3.6.8"
  }
 },
 "nbformat": 4,
 "nbformat_minor": 2
}
